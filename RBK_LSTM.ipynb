{
 "cells": [
  {
   "cell_type": "markdown",
   "metadata": {
    "id": "94nW2454wc8x"
   },
   "source": [
    "## Загрузим нужные библиотеки"
   ]
  },
  {
   "cell_type": "code",
   "execution_count": 1,
   "metadata": {
    "id": "yd1BP24w3ZTO"
   },
   "outputs": [],
   "source": [
    "import pandas as pd\n",
    "from sklearn.metrics import r2_score\n",
    "from sklearn.model_selection import train_test_split\n",
    "from sklearn.ensemble import RandomForestRegressor\n",
    "from sklearn.datasets import make_regression"
   ]
  },
  {
   "cell_type": "markdown",
   "metadata": {
    "id": "9OIyUVsswusW"
   },
   "source": [
    "Выполним загрузу датсета"
   ]
  },
  {
   "cell_type": "code",
   "execution_count": 2,
   "metadata": {
    "id": "gwTarAzQj56l"
   },
   "outputs": [],
   "source": [
    "df_train = pd.read_csv(\"./content/train.csv\", index_col= 0)"
   ]
  },
  {
   "cell_type": "markdown",
   "metadata": {
    "id": "3uyCO6zQzMLy"
   },
   "source": [
    "## Проанализируем датасет"
   ]
  },
  {
   "cell_type": "code",
   "execution_count": 3,
   "metadata": {
    "colab": {
     "base_uri": "https://localhost:8080/"
    },
    "id": "d75CKVf9y9ty",
    "outputId": "5a3219ff-3048-4494-f942-7a5efaea96c4"
   },
   "outputs": [
    {
     "name": "stdout",
     "output_type": "stream",
     "text": [
      "<class 'pandas.core.frame.DataFrame'>\n",
      "Index: 7000 entries, 624ac09c9a7947db3d80c98eIDE7mtH4RBqGn-8MXfGffQ to 627f1c089a794743b070ff73hVvdVmFxS2SlZ2_lECDEow\n",
      "Data columns (total 10 columns):\n",
      " #   Column              Non-Null Count  Dtype  \n",
      "---  ------              --------------  -----  \n",
      " 0   title               7000 non-null   object \n",
      " 1   publish_date        7000 non-null   object \n",
      " 2   session             7000 non-null   object \n",
      " 3   authors             7000 non-null   object \n",
      " 4   ctr                 7000 non-null   float64\n",
      " 5   category            7000 non-null   object \n",
      " 6   tags                7000 non-null   object \n",
      " 7   views               7000 non-null   int64  \n",
      " 8   depth               7000 non-null   float64\n",
      " 9   full_reads_percent  7000 non-null   float64\n",
      "dtypes: float64(3), int64(1), object(6)\n",
      "memory usage: 601.6+ KB\n"
     ]
    }
   ],
   "source": [
    "df_train.info()"
   ]
  },
  {
   "cell_type": "markdown",
   "metadata": {
    "id": "PddMw1pl0ZnL"
   },
   "source": [
    "Заменим категорию и автора на число"
   ]
  },
  {
   "cell_type": "code",
   "execution_count": 4,
   "metadata": {},
   "outputs": [],
   "source": [
    "def AddFitch(df):\n",
    "    df[\"category\"] = df[\"category\"].astype('category')\n",
    "    df[\"category\"] = df[\"category\"].cat.codes\n",
    "    df[\"category\"] = df[\"category\"].astype('int')\n",
    "    df[\"authors\"] = df[\"authors\"].astype('category')\n",
    "    df[\"authors\"] = df[\"authors\"].cat.codes\n",
    "    df[\"authors\"] = df[\"authors\"].astype('int')\n",
    "    \n",
    "    df['publish_date'] = pd.to_datetime(df['publish_date'])\n",
    "    df['day'] = df['publish_date'].dt.strftime(\"%d\").astype(int)\n",
    "    df['mounth'] = df['publish_date'].dt.strftime(\"%m\").astype(int)\n",
    "    df['hour'] = df['publish_date'].dt.strftime(\"%H\").astype(int)\n",
    "    df['weekday'] = df['publish_date'].dt.dayofweek\n",
    "    return df"
   ]
  },
  {
   "cell_type": "code",
   "execution_count": 5,
   "metadata": {},
   "outputs": [],
   "source": [
    "df_train = AddFitch(df_train)"
   ]
  },
  {
   "cell_type": "code",
   "execution_count": 6,
   "metadata": {
    "id": "nbqd3DPjj58r"
   },
   "outputs": [],
   "source": [
    "# df_train[\"category\"] = df_train[\"category\"].astype('category')\n",
    "# df_train[\"category\"] = df_train[\"category\"].cat.codes\n",
    "# df_train[\"category\"] = df_train[\"category\"].astype('int')"
   ]
  },
  {
   "cell_type": "code",
   "execution_count": 7,
   "metadata": {
    "id": "8p-t074iydSw"
   },
   "outputs": [],
   "source": [
    "# df_train[\"authors\"] = df_train[\"authors\"].astype('category')\n",
    "# df_train[\"authors\"] = df_train[\"authors\"].cat.codes\n",
    "# df_train[\"authors\"] = df_train[\"authors\"].astype('int')"
   ]
  },
  {
   "cell_type": "code",
   "execution_count": 8,
   "metadata": {
    "id": "DkmtplZ80FSS"
   },
   "outputs": [],
   "source": [
    "# df_train['publish_date'] = pd.to_datetime(df_train['publish_date'])\n",
    "# df_train['day'] = df_train['publish_date'].dt.strftime(\"%d\").astype(int)\n",
    "# df_train['mounth'] = df_train['publish_date'].dt.strftime(\"%m\").astype(int)\n",
    "# df_train['hour'] = df_train['publish_date'].dt.strftime(\"%H\").astype(int)\n",
    "# df_train['weekday'] = df_train['publish_date'].dt.dayofweek"
   ]
  },
  {
   "cell_type": "code",
   "execution_count": 9,
   "metadata": {
    "colab": {
     "base_uri": "https://localhost:8080/",
     "height": 464
    },
    "id": "zt8MAx0Cj5_V",
    "outputId": "7bc0d7a5-0ea0-4c38-b2dc-2f24c0828244"
   },
   "outputs": [
    {
     "data": {
      "text/html": [
       "<div>\n",
       "<style scoped>\n",
       "    .dataframe tbody tr th:only-of-type {\n",
       "        vertical-align: middle;\n",
       "    }\n",
       "\n",
       "    .dataframe tbody tr th {\n",
       "        vertical-align: top;\n",
       "    }\n",
       "\n",
       "    .dataframe thead th {\n",
       "        text-align: right;\n",
       "    }\n",
       "</style>\n",
       "<table border=\"1\" class=\"dataframe\">\n",
       "  <thead>\n",
       "    <tr style=\"text-align: right;\">\n",
       "      <th></th>\n",
       "      <th>title</th>\n",
       "      <th>publish_date</th>\n",
       "      <th>session</th>\n",
       "      <th>authors</th>\n",
       "      <th>ctr</th>\n",
       "      <th>category</th>\n",
       "      <th>tags</th>\n",
       "      <th>views</th>\n",
       "      <th>depth</th>\n",
       "      <th>full_reads_percent</th>\n",
       "      <th>day</th>\n",
       "      <th>mounth</th>\n",
       "      <th>hour</th>\n",
       "      <th>weekday</th>\n",
       "    </tr>\n",
       "    <tr>\n",
       "      <th>document_id</th>\n",
       "      <th></th>\n",
       "      <th></th>\n",
       "      <th></th>\n",
       "      <th></th>\n",
       "      <th></th>\n",
       "      <th></th>\n",
       "      <th></th>\n",
       "      <th></th>\n",
       "      <th></th>\n",
       "      <th></th>\n",
       "      <th></th>\n",
       "      <th></th>\n",
       "      <th></th>\n",
       "      <th></th>\n",
       "    </tr>\n",
       "  </thead>\n",
       "  <tbody>\n",
       "    <tr>\n",
       "      <th>624ac09c9a7947db3d80c98eIDE7mtH4RBqGn-8MXfGffQ</th>\n",
       "      <td>Европейский банк развития приостановил доступ ...</td>\n",
       "      <td>2022-04-04 10:29:44</td>\n",
       "      <td>IDE7mtH4RBqGn-8MXfGffQ</td>\n",
       "      <td>560</td>\n",
       "      <td>1.580</td>\n",
       "      <td>2</td>\n",
       "      <td>['55928d339a794751dc8303d6', '542d1e28cbb20f86...</td>\n",
       "      <td>20460</td>\n",
       "      <td>1.134</td>\n",
       "      <td>35.850</td>\n",
       "      <td>4</td>\n",
       "      <td>4</td>\n",
       "      <td>10</td>\n",
       "      <td>0</td>\n",
       "    </tr>\n",
       "    <tr>\n",
       "      <th>620f6b899a7947701cf489e1KtVJsteHStO5oditt3Uvzw</th>\n",
       "      <td>Кремль назвал регулярным процессом учебные зап...</td>\n",
       "      <td>2022-02-18 10:00:39</td>\n",
       "      <td>KtVJsteHStO5oditt3Uvzw</td>\n",
       "      <td>38</td>\n",
       "      <td>1.853</td>\n",
       "      <td>0</td>\n",
       "      <td>['549d25df9a794775979561d2', '58abcf539a7947f1...</td>\n",
       "      <td>19038</td>\n",
       "      <td>1.142</td>\n",
       "      <td>38.355</td>\n",
       "      <td>18</td>\n",
       "      <td>2</td>\n",
       "      <td>10</td>\n",
       "      <td>4</td>\n",
       "    </tr>\n",
       "    <tr>\n",
       "      <th>620730cf9a7947ab96a44e27hk7puWJwSziw0m3sfTkKWA</th>\n",
       "      <td>Госсекретарь Швеции заявила о нежелании вступа...</td>\n",
       "      <td>2022-02-12 04:24:02</td>\n",
       "      <td>hk7puWJwSziw0m3sfTkKWA</td>\n",
       "      <td>560</td>\n",
       "      <td>0.000</td>\n",
       "      <td>0</td>\n",
       "      <td>['5430f451cbb20f73931ecd05', '5409f15de063daa0...</td>\n",
       "      <td>51151</td>\n",
       "      <td>1.185</td>\n",
       "      <td>36.424</td>\n",
       "      <td>12</td>\n",
       "      <td>2</td>\n",
       "      <td>4</td>\n",
       "      <td>5</td>\n",
       "    </tr>\n",
       "  </tbody>\n",
       "</table>\n",
       "</div>"
      ],
      "text/plain": [
       "                                                                                            title  \\\n",
       "document_id                                                                                         \n",
       "624ac09c9a7947db3d80c98eIDE7mtH4RBqGn-8MXfGffQ  Европейский банк развития приостановил доступ ...   \n",
       "620f6b899a7947701cf489e1KtVJsteHStO5oditt3Uvzw  Кремль назвал регулярным процессом учебные зап...   \n",
       "620730cf9a7947ab96a44e27hk7puWJwSziw0m3sfTkKWA  Госсекретарь Швеции заявила о нежелании вступа...   \n",
       "\n",
       "                                                      publish_date  \\\n",
       "document_id                                                          \n",
       "624ac09c9a7947db3d80c98eIDE7mtH4RBqGn-8MXfGffQ 2022-04-04 10:29:44   \n",
       "620f6b899a7947701cf489e1KtVJsteHStO5oditt3Uvzw 2022-02-18 10:00:39   \n",
       "620730cf9a7947ab96a44e27hk7puWJwSziw0m3sfTkKWA 2022-02-12 04:24:02   \n",
       "\n",
       "                                                               session  \\\n",
       "document_id                                                              \n",
       "624ac09c9a7947db3d80c98eIDE7mtH4RBqGn-8MXfGffQ  IDE7mtH4RBqGn-8MXfGffQ   \n",
       "620f6b899a7947701cf489e1KtVJsteHStO5oditt3Uvzw  KtVJsteHStO5oditt3Uvzw   \n",
       "620730cf9a7947ab96a44e27hk7puWJwSziw0m3sfTkKWA  hk7puWJwSziw0m3sfTkKWA   \n",
       "\n",
       "                                                authors    ctr  category  \\\n",
       "document_id                                                                \n",
       "624ac09c9a7947db3d80c98eIDE7mtH4RBqGn-8MXfGffQ      560  1.580         2   \n",
       "620f6b899a7947701cf489e1KtVJsteHStO5oditt3Uvzw       38  1.853         0   \n",
       "620730cf9a7947ab96a44e27hk7puWJwSziw0m3sfTkKWA      560  0.000         0   \n",
       "\n",
       "                                                                                             tags  \\\n",
       "document_id                                                                                         \n",
       "624ac09c9a7947db3d80c98eIDE7mtH4RBqGn-8MXfGffQ  ['55928d339a794751dc8303d6', '542d1e28cbb20f86...   \n",
       "620f6b899a7947701cf489e1KtVJsteHStO5oditt3Uvzw  ['549d25df9a794775979561d2', '58abcf539a7947f1...   \n",
       "620730cf9a7947ab96a44e27hk7puWJwSziw0m3sfTkKWA  ['5430f451cbb20f73931ecd05', '5409f15de063daa0...   \n",
       "\n",
       "                                                views  depth  \\\n",
       "document_id                                                    \n",
       "624ac09c9a7947db3d80c98eIDE7mtH4RBqGn-8MXfGffQ  20460  1.134   \n",
       "620f6b899a7947701cf489e1KtVJsteHStO5oditt3Uvzw  19038  1.142   \n",
       "620730cf9a7947ab96a44e27hk7puWJwSziw0m3sfTkKWA  51151  1.185   \n",
       "\n",
       "                                                full_reads_percent  day  \\\n",
       "document_id                                                               \n",
       "624ac09c9a7947db3d80c98eIDE7mtH4RBqGn-8MXfGffQ              35.850    4   \n",
       "620f6b899a7947701cf489e1KtVJsteHStO5oditt3Uvzw              38.355   18   \n",
       "620730cf9a7947ab96a44e27hk7puWJwSziw0m3sfTkKWA              36.424   12   \n",
       "\n",
       "                                                mounth  hour  weekday  \n",
       "document_id                                                            \n",
       "624ac09c9a7947db3d80c98eIDE7mtH4RBqGn-8MXfGffQ       4    10        0  \n",
       "620f6b899a7947701cf489e1KtVJsteHStO5oditt3Uvzw       2    10        4  \n",
       "620730cf9a7947ab96a44e27hk7puWJwSziw0m3sfTkKWA       2     4        5  "
      ]
     },
     "execution_count": 9,
     "metadata": {},
     "output_type": "execute_result"
    }
   ],
   "source": [
    "df_train.head(3)"
   ]
  },
  {
   "cell_type": "code",
   "execution_count": 10,
   "metadata": {},
   "outputs": [
    {
     "data": {
      "text/plain": [
       "561"
      ]
     },
     "execution_count": 10,
     "metadata": {},
     "output_type": "execute_result"
    }
   ],
   "source": [
    "len(df_train['authors'].unique())"
   ]
  },
  {
   "cell_type": "code",
   "execution_count": 11,
   "metadata": {
    "colab": {
     "base_uri": "https://localhost:8080/",
     "height": 736
    },
    "id": "ROaaSpFKj6B7",
    "outputId": "0f52de35-a9e8-4bf5-e170-29dbb64ac67f"
   },
   "outputs": [
    {
     "data": {
      "image/png": "[encoded data removed]",
      "text/plain": [
       "<Figure size 1440x864 with 12 Axes>"
      ]
     },
     "metadata": {
      "needs_background": "light"
     },
     "output_type": "display_data"
    }
   ],
   "source": [
    "features = list(set(df_train.columns) - set(['publish_date']))\n",
    "\n",
    "_ = df_train[features].hist(figsize=(20,12))"
   ]
  },
  {
   "cell_type": "markdown",
   "metadata": {
    "id": "ZMq8B6MB1m4M"
   },
   "source": [
    "Всего 9 категорий статей"
   ]
  },
  {
   "cell_type": "code",
   "execution_count": 12,
   "metadata": {
    "colab": {
     "base_uri": "https://localhost:8080/"
    },
    "id": "oHbrnP6Zj6EP",
    "outputId": "d97ca2a5-5dd8-47b4-ae3d-1982d5e0b5a7"
   },
   "outputs": [
    {
     "data": {
      "text/plain": [
       "0    3988\n",
       "5    1456\n",
       "3     667\n",
       "1     338\n",
       "4     283\n",
       "2     265\n",
       "7       1\n",
       "6       1\n",
       "8       1\n",
       "Name: category, dtype: int64"
      ]
     },
     "execution_count": 12,
     "metadata": {},
     "output_type": "execute_result"
    }
   ],
   "source": [
    "df_train.category.value_counts()"
   ]
  },
  {
   "cell_type": "markdown",
   "metadata": {},
   "source": [
    "Рассмотрим заголовки"
   ]
  },
  {
   "cell_type": "code",
   "execution_count": 13,
   "metadata": {},
   "outputs": [
    {
     "data": {
      "text/plain": [
       "Какие места на Украине взяли под контроль российские военные. Карта                                                                                                                10\n",
       "Как менялась ключевая ставка ЦБ за последние годы. Инфографика                                                                                                                      7\n",
       "Как Запад и Россия поставили рекорд по высылкам дипломатов. Инфографика                                                                                                             6\n",
       "Какие приграничные пункты попали под обстрел со стороны Украины. Карта                                                                                                              5\n",
       "Какие регионы объявили высокий уровень террористической опасности. Карта                                                                                                            4\n",
       "                                                                                                                                                                                   ..\n",
       "Медведев ответил представителю НАТО об акте с Россией фразой на латыни                                                                                                              1\n",
       "МИД назвал Bild «перешедшей границы» из-за статьи о вторжении на Украину\\n                \\n                                                    \\n\\n    \\n\\n    Политика, 00:31     1\n",
       "В Канзасе женщина погибла в перестрелке с полицией\\n                \\n                                                    \\n\\n    \\n\\n    Общество, 10:29                           1\n",
       "В МИДе заявили, что Россия не будет просить ЕС об отмене санкций\\n                \\n                                                    \\n\\n    \\n\\n    Политика, 07:54             1\n",
       "Минфин США предостерег зарубежные банки от помощи России в обходе санкций                                                                                                           1\n",
       "Name: title, Length: 6954, dtype: int64"
      ]
     },
     "execution_count": 13,
     "metadata": {},
     "output_type": "execute_result"
    }
   ],
   "source": [
    "all_headlines = df_train['title']\n",
    "all_headlines.value_counts()"
   ]
  },
  {
   "cell_type": "code",
   "execution_count": 14,
   "metadata": {},
   "outputs": [
    {
     "data": {
      "text/plain": [
       "document_id\n",
       "624ac09c9a7947db3d80c98eIDE7mtH4RBqGn-8MXfGffQ    Европейский банк развития приостановил доступ ...\n",
       "620f6b899a7947701cf489e1KtVJsteHStO5oditt3Uvzw    Кремль назвал регулярным процессом учебные зап...\n",
       "620730cf9a7947ab96a44e27hk7puWJwSziw0m3sfTkKWA    Госсекретарь Швеции заявила о нежелании вступа...\n",
       "6262a5889a79470b78c9ca307UKY2SSZTjCcjhwBzxw37w    Песков назвал прагматичной выдачу лицензии Газ...\n",
       "626678929a79477ca0101568wuMYES90REuV5YhrN75IXg    В Хабаровске задержали главу филиала РАНХиГС п...\n",
       "                                                                        ...                        \n",
       "61fd479c9a7947848183694751RC_1i5QlGuv7B2FzwTjw    Открытие Олимпиады, новые китайские контракты ...\n",
       "628a8f1c9a79478c64a7dae450tIkSGVSf2O8XQgk_uaHQ    Саудовская Аравия выразила надежду на соглашен...\n",
       "6244cf5e9a79479099346b26tKlqoxQYSmij0ZBrGzebug    Брюс Уиллис завершит актерскую карьеру из-за б...\n",
       "627303699a794749b8116abc12JX_3ZDTDu2XHF3k2eJVg    Экс-посол Франции назвал болезненным для Европ...\n",
       "627f1c089a794743b070ff73hVvdVmFxS2SlZ2_lECDEow    Минфин США предостерег зарубежные банки от пом...\n",
       "Name: title, Length: 7000, dtype: object"
      ]
     },
     "execution_count": 14,
     "metadata": {},
     "output_type": "execute_result"
    }
   ],
   "source": [
    "all_headlines = df_train['title']\n",
    "all_headlines"
   ]
  },
  {
   "cell_type": "code",
   "execution_count": 15,
   "metadata": {},
   "outputs": [],
   "source": [
    "# !pip install tensorflow"
   ]
  },
  {
   "cell_type": "code",
   "execution_count": 16,
   "metadata": {},
   "outputs": [
    {
     "data": {
      "text/plain": [
       "'Экс-посол Франции назвал болезненным для Европы отказ от российской нефти\\n                \\n                                                    \\n\\n    \\n\\n    Экономика,\\xa0:'"
      ]
     },
     "execution_count": 16,
     "metadata": {},
     "output_type": "execute_result"
    }
   ],
   "source": [
    "import re\n",
    "\n",
    "def clean_text(text):\n",
    "    # remove numbers\n",
    "    text_nonum = re.sub(r'\\d+', '', text)\n",
    "    return text_nonum\n",
    "clean_text(all_headlines[-2])"
   ]
  },
  {
   "cell_type": "code",
   "execution_count": 17,
   "metadata": {},
   "outputs": [
    {
     "name": "stderr",
     "output_type": "stream",
     "text": [
      "2022-07-21 23:20:33.924557: W tensorflow/stream_executor/platform/default/dso_loader.cc:64] Could not load dynamic library 'libcudart.so.11.0'; dlerror: libcudart.so.11.0: cannot open shared object file: No such file or directory\n",
      "2022-07-21 23:20:33.924590: I tensorflow/stream_executor/cuda/cudart_stub.cc:29] Ignore above cudart dlerror if you do not have a GPU set up on your machine.\n"
     ]
    },
    {
     "name": "stdout",
     "output_type": "stream",
     "text": [
      "Всего слов:  15167\n"
     ]
    }
   ],
   "source": [
    "from tensorflow.keras.preprocessing.text import Tokenizer\n",
    "\n",
    "# Tokenize the words in our headlines\n",
    "tokenizer = Tokenizer()\n",
    "tokenizer.fit_on_texts(all_headlines)\n",
    "total_words = len(tokenizer.word_index) + 1\n",
    "print('Всего слов: ', total_words)"
   ]
  },
  {
   "cell_type": "code",
   "execution_count": 18,
   "metadata": {},
   "outputs": [
    {
     "name": "stdout",
     "output_type": "stream",
     "text": [
      "['европейский банк развития приостановил доступ москвы и минска к финансам', 'кремль назвал регулярным процессом учебные запуски баллистических ракет', 'госсекретарь швеции заявила о нежелании вступать в нато из за украины политика \\xa007 24', 'песков назвал прагматичной выдачу лицензии газпромбанку на платежи за газ политика \\xa016 24', 'в хабаровске задержали главу филиала ранхигс по обвинению в мошенничестве общество \\xa013 42']\n"
     ]
    },
    {
     "data": {
      "text/plain": [
       "[[2115, 443, 1095, 1250, 444, 105, 5, 2729, 23, 6009],\n",
       " [107, 20, 6010, 6011, 3771, 6012, 2116, 559],\n",
       " [2117, 287, 91, 2, 1096, 3772, 1, 29, 9, 10, 18, 3, 103, 168],\n",
       " [54, 20, 6013, 983, 1097, 3773, 4, 1098, 10, 110, 3, 34, 168],\n",
       " [1, 2730, 248, 445, 2731, 6014, 11, 2732, 1, 1099, 8, 26, 193]]"
      ]
     },
     "execution_count": 18,
     "metadata": {},
     "output_type": "execute_result"
    }
   ],
   "source": [
    "# Convert data to sequence of tokens \n",
    "input_sequences = []\n",
    "for line in all_headlines:\n",
    "    # Convert our headline into a sequence of tokens\n",
    "    token_list = tokenizer.texts_to_sequences([line])[0]\n",
    "    # Create a sequences for each headline\n",
    "    input_sequences.append(token_list)\n",
    "\n",
    "print(tokenizer.sequences_to_texts(input_sequences[:5]))\n",
    "input_sequences[:5]"
   ]
  },
  {
   "cell_type": "code",
   "execution_count": 19,
   "metadata": {},
   "outputs": [
    {
     "data": {
      "text/plain": [
       "28"
      ]
     },
     "execution_count": 19,
     "metadata": {},
     "output_type": "execute_result"
    }
   ],
   "source": [
    "max_sequence_len = max([len(x) for x in input_sequences])\n",
    "max_sequence_len\n"
   ]
  },
  {
   "cell_type": "code",
   "execution_count": 20,
   "metadata": {},
   "outputs": [
    {
     "data": {
      "text/plain": [
       "array([   0,    0,    0,    0,    0,    0,    0,    0,    0,    0,    0,\n",
       "          0,    0,    0,    0,    0,    0,    0, 2115,  443, 1095, 1250,\n",
       "        444,  105,    5, 2729,   23, 6009], dtype=int32)"
      ]
     },
     "execution_count": 20,
     "metadata": {},
     "output_type": "execute_result"
    }
   ],
   "source": [
    "from tensorflow.keras.preprocessing.sequence import pad_sequences\n",
    "import numpy as np\n",
    "\n",
    "input_sequences = np.array(pad_sequences(input_sequences, maxlen=max_sequence_len, padding='pre'))\n",
    "input_sequences[0]"
   ]
  },
  {
   "cell_type": "code",
   "execution_count": 258,
   "metadata": {},
   "outputs": [
    {
     "name": "stdout",
     "output_type": "stream",
     "text": [
      "Model: \"merged_model\"\n",
      "__________________________________________________________________________________________________\n",
      " Layer (type)                   Output Shape         Param #     Connected to                     \n",
      "==================================================================================================\n",
      " input_a (InputLayer)           [(None, 28)]         0           []                               \n",
      "                                                                                                  \n",
      " embedding_10 (Embedding)       (None, 28, 10)       151670      ['input_a[0][0]']                \n",
      "                                                                                                  \n",
      " lstm (LSTM)                    (None, 100)          44400       ['embedding_10[0][0]']           \n",
      "                                                                                                  \n",
      " dropout (Dropout)              (None, 100)          0           ['lstm[0][0]']                   \n",
      "                                                                                                  \n",
      " dense_17 (Dense)               (None, 3)            303         ['dropout[0][0]']                \n",
      "                                                                                                  \n",
      " input_b (InputLayer)           [(None, 3)]          0           []                               \n",
      "                                                                                                  \n",
      " concatenated_layer (Concatenat  (None, 6)           0           ['dense_17[0][0]',               \n",
      " e)                                                               'input_b[0][0]']                \n",
      "                                                                                                  \n",
      " output_layer (Dense)           (None, 3)            21          ['concatenated_layer[0][0]']     \n",
      "                                                                                                  \n",
      "==================================================================================================\n",
      "Total params: 196,394\n",
      "Trainable params: 196,394\n",
      "Non-trainable params: 0\n",
      "__________________________________________________________________________________________________\n"
     ]
    }
   ],
   "source": [
    "from tensorflow.keras.layers import Embedding, LSTM, Dense, Dropout, Input, concatenate\n",
    "from tensorflow.keras.models import Sequential, Model\n",
    "from tensorflow import keras\n",
    "\n",
    "# Input is max sequence length - 1, as we've removed the last word for the label\n",
    "input_len = max_sequence_len\n",
    "\n",
    "# model = Sequential()\n",
    "# model.add(Embedding(total_words, 10, input_length=input_len))\n",
    "# model.add(LSTM(100))\n",
    "# model.add(Dropout(0.1))\n",
    "# model.add(Dense(3, activation='softmax'))\n",
    "\n",
    "a_input= Input(shape=(input_len), name=\"input_a\")\n",
    "b_input = Input(shape=(3,), name=\"input_b\")\n",
    "\n",
    "a_lstm = Embedding(total_words, 10, input_length=input_len)(a_input)\n",
    "a_lstm = LSTM(100, name=\"lstm\", input_shape=(1, input_len))(a_lstm)\n",
    "a_lstm = Dropout(0.1, name=\"dropout\")(a_lstm)\n",
    "a_lstm = Dense(3, activation='softmax')(a_lstm)\n",
    "\n",
    "a_b = concatenate([a_lstm, b_input],name=\"concatenated_layer\")\n",
    "output_layer = Dense(3, activation = \"sigmoid\", name = \"output_layer\")(a_b)\n",
    "model = Model(inputs=[(a_input,b_input)],outputs=[output_layer], name = \"merged_model\")\n",
    "# model = Model(inputs=a_input,outputs=[a_lstm], name = \"merged_model\")\n",
    "\n",
    "# keras.utils.plot_model(model, \"output/architecture.png\", show_shapes=True)\n",
    "# bl_1 = Dense(64, activation=\"relu\",name =\"b_layer_1\")(b_reg)\n",
    "\n",
    "model.summary()"
   ]
  },
  {
   "cell_type": "code",
   "execution_count": 259,
   "metadata": {},
   "outputs": [
    {
     "data": {
      "text/plain": [
       "Index(['title', 'publish_date', 'session', 'authors', 'ctr', 'category',\n",
       "       'tags', 'views', 'depth', 'full_reads_percent', 'day', 'mounth', 'hour',\n",
       "       'weekday', 'v_max', 'd_max', 'r_max', 'views_p', 'depth_p', 'reads_p',\n",
       "       'vp_max', 'dp_max', 'rp_max'],\n",
       "      dtype='object')"
      ]
     },
     "execution_count": 259,
     "metadata": {},
     "output_type": "execute_result"
    }
   ],
   "source": [
    "df_train.columns"
   ]
  },
  {
   "cell_type": "code",
   "execution_count": 260,
   "metadata": {},
   "outputs": [],
   "source": [
    "# from tensorflow.keras.layers import Input, Embedding, concatenate, Dense, DenseFeatures\n",
    "# # from tensorflow import feature_column\n",
    "\n",
    "# import deep\n",
    "\n",
    "# input_tensor = {\n",
    "#     \"title\": Input(name=\"title\", shape=(max_sequence_len,), dtype=\"int64\"),\n",
    "#     \"views\": Input(name=\"views\", shape=(1,), dtype=\"int64\"),\n",
    "# }"
   ]
  },
  {
   "cell_type": "code",
   "execution_count": 261,
   "metadata": {},
   "outputs": [],
   "source": [
    "# def get_deep(\n",
    "#     input_tensor,\n",
    "#     numerical_columns,\n",
    "#     embedding_size=32,\n",
    "# ):\n",
    "# #     FIXME_A = one_hot_columns\n",
    "# #     FIXME_D = ratings\n",
    "# #     FIXME_E = multi_hot_columns\n",
    "# #     FIXME_F = embedding_size\n",
    "\n",
    "#     # Get One-hot embeddings\n",
    "#     embedding_inputs = 'title'\n",
    "\n",
    "#     # Get numerical layers to concatenate with embeddings\n",
    "#     numerical_layers = [input_tensor[col] for col in numerical_columns]\n",
    "\n",
    "#     # Get multihot embeddings\n",
    "#     multihot_emb = Embedding(total_words, embedding_size, input_length=input_len))\n",
    "# #     multihot_emb_ids = [multihot_emb(FIXME_B[col]) for col in FIXME_E]\n",
    "# #     multihot_emb_stack = tf.keras.backend.stack(multihot_emb_ids, axis=2)\n",
    "# #     multihot_emb_avg = tf.squeeze(tf.keras.backend.mean(multihot_emb_stack, axis=2), axis=1)\n",
    "\n",
    "#     concatenate_layers = numerical_layers + [multihot_emb]\n",
    "#     output_tensor_deep = deep.get_model(\n",
    "#         embedding_inputs=embedding_inputs, concatenate_layers=concatenate_layers\n",
    "#     )\n",
    "#     return tf.keras.Model(input_tensor, output_tensor_deep), output_tensor_deep"
   ]
  },
  {
   "cell_type": "code",
   "execution_count": 262,
   "metadata": {},
   "outputs": [],
   "source": [
    "# model, output_tensor_deep = get_deep(input_tensor, ['views'])"
   ]
  },
  {
   "cell_type": "code",
   "execution_count": 263,
   "metadata": {},
   "outputs": [],
   "source": [
    "# !pip install pydot\n",
    "# !pip install graphviz"
   ]
  },
  {
   "cell_type": "code",
   "execution_count": 264,
   "metadata": {},
   "outputs": [
    {
     "name": "stdout",
     "output_type": "stream",
     "text": [
      "Model: \"merged_model\"\n",
      "__________________________________________________________________________________________________\n",
      " Layer (type)                   Output Shape         Param #     Connected to                     \n",
      "==================================================================================================\n",
      " input_a (InputLayer)           [(None, 28)]         0           []                               \n",
      "                                                                                                  \n",
      " embedding_10 (Embedding)       (None, 28, 10)       151670      ['input_a[0][0]']                \n",
      "                                                                                                  \n",
      " lstm (LSTM)                    (None, 100)          44400       ['embedding_10[0][0]']           \n",
      "                                                                                                  \n",
      " dropout (Dropout)              (None, 100)          0           ['lstm[0][0]']                   \n",
      "                                                                                                  \n",
      " dense_17 (Dense)               (None, 3)            303         ['dropout[0][0]']                \n",
      "                                                                                                  \n",
      " input_b (InputLayer)           [(None, 3)]          0           []                               \n",
      "                                                                                                  \n",
      " concatenated_layer (Concatenat  (None, 6)           0           ['dense_17[0][0]',               \n",
      " e)                                                               'input_b[0][0]']                \n",
      "                                                                                                  \n",
      " output_layer (Dense)           (None, 3)            21          ['concatenated_layer[0][0]']     \n",
      "                                                                                                  \n",
      "==================================================================================================\n",
      "Total params: 196,394\n",
      "Trainable params: 196,394\n",
      "Non-trainable params: 0\n",
      "__________________________________________________________________________________________________\n"
     ]
    }
   ],
   "source": [
    "# import tensorflow as tf\n",
    "model.summary()\n",
    "\n",
    "# tf.keras.utils.plot_model(model, show_shapes=True)"
   ]
  },
  {
   "cell_type": "code",
   "execution_count": 265,
   "metadata": {},
   "outputs": [],
   "source": [
    "model.compile(loss='mse', optimizer='adam')"
   ]
  },
  {
   "cell_type": "code",
   "execution_count": 274,
   "metadata": {},
   "outputs": [],
   "source": [
    "df_train[[\"views\",\"depth\",\"full_reads_percent\"]]\n",
    "\n",
    "view_max = df_train[\"views\"].max()\n",
    "depth_max = df_train[\"depth\"].max()\n",
    "full_read_max = df_train[\"full_reads_percent\"].max()\n",
    "\n",
    "df_train['v_max'] = df_train[\"views\"] / view_max\n",
    "df_train['d_max'] = df_train[\"depth\"] / depth_max\n",
    "df_train['r_max'] = df_train[\"full_reads_percent\"] / full_read_max\n",
    "df_train['vp_max'] = df_train[\"views_p\"] / view_max\n",
    "df_train['dp_max'] = df_train[\"depth_p\"] / depth_max\n",
    "df_train['rp_max'] = df_train[\"reads_p\"] / full_read_max"
   ]
  },
  {
   "cell_type": "code",
   "execution_count": 275,
   "metadata": {},
   "outputs": [
    {
     "name": "stdout",
     "output_type": "stream",
     "text": [
      "7000\n",
      "7000\n",
      "[[0.00801032 0.63035019 0.1339571 ]\n",
      " [0.00745359 0.63479711 0.14331728]\n",
      " [0.0200262  0.65869928 0.1361019 ]\n",
      " [0.0014807  0.58532518 0.11272947]\n",
      " [0.00119998 0.59088382 0.12934987]]\n"
     ]
    }
   ],
   "source": [
    "predictors = np.array(input_sequences)\n",
    "labels_reg = df_train[[\"vp_max\",\"dp_max\",\"rp_max\"]].reset_index(drop = True).values\n",
    "labels = df_train[[\"v_max\",\"d_max\",\"r_max\"]].reset_index(drop = True).values\n",
    "# labels = np.array(labels)\n",
    "print(len(labels))\n",
    "print(len(predictors))\n",
    "print(labels[:5])\n",
    "# print(predictors[:5])"
   ]
  },
  {
   "cell_type": "code",
   "execution_count": 276,
   "metadata": {},
   "outputs": [
    {
     "name": "stdout",
     "output_type": "stream",
     "text": [
      "Epoch 1/5\n",
      "197/197 [==============================] - 3s 17ms/step - loss: 0.0294 - val_loss: 0.0110\n",
      "Epoch 2/5\n",
      "197/197 [==============================] - 3s 18ms/step - loss: 0.0076 - val_loss: 0.0056\n",
      "Epoch 3/5\n",
      "197/197 [==============================] - 4s 18ms/step - loss: 0.0045 - val_loss: 0.0039\n",
      "Epoch 4/5\n",
      "197/197 [==============================] - 4s 18ms/step - loss: 0.0033 - val_loss: 0.0031\n",
      "Epoch 5/5\n",
      "197/197 [==============================] - 3s 15ms/step - loss: 0.0028 - val_loss: 0.0027\n"
     ]
    },
    {
     "data": {
      "text/plain": [
       "<keras.callbacks.History at 0x7f5b47d45100>"
      ]
     },
     "execution_count": 276,
     "metadata": {},
     "output_type": "execute_result"
    }
   ],
   "source": [
    "model.fit([predictors,labels_reg], labels, epochs=5, verbose=1, validation_split=0.1)"
   ]
  },
  {
   "cell_type": "code",
   "execution_count": 277,
   "metadata": {},
   "outputs": [
    {
     "data": {
      "text/plain": [
       "array([[0.06375711, 0.61456484, 0.13702478],\n",
       "       [0.06343756, 0.6161957 , 0.13649161],\n",
       "       [0.06298289, 0.6117864 , 0.13717759],\n",
       "       ...,\n",
       "       [0.06653135, 0.6112884 , 0.13843237],\n",
       "       [0.06466131, 0.6214028 , 0.1355244 ],\n",
       "       [0.06681544, 0.61696   , 0.13722222]], dtype=float32)"
      ]
     },
     "execution_count": 277,
     "metadata": {},
     "output_type": "execute_result"
    }
   ],
   "source": [
    "model.predict([predictors, labels_reg], verbose=0)"
   ]
  },
  {
   "cell_type": "code",
   "execution_count": 237,
   "metadata": {},
   "outputs": [],
   "source": [
    "def MakePrediction(model, seed_text, reg_res):\n",
    "    token_list = tokenizer.texts_to_sequences([seed_text])[0]\n",
    "    token_list = pad_sequences([token_list], maxlen=max_sequence_len, padding='pre')\n",
    "    prediction = model.predict([token_list, reg_res], verbose=0)[0]\n",
    "    \n",
    "    return prediction"
   ]
  },
  {
   "cell_type": "code",
   "execution_count": 238,
   "metadata": {},
   "outputs": [
    {
     "data": {
      "text/html": [
       "<div>\n",
       "<style scoped>\n",
       "    .dataframe tbody tr th:only-of-type {\n",
       "        vertical-align: middle;\n",
       "    }\n",
       "\n",
       "    .dataframe tbody tr th {\n",
       "        vertical-align: top;\n",
       "    }\n",
       "\n",
       "    .dataframe thead th {\n",
       "        text-align: right;\n",
       "    }\n",
       "</style>\n",
       "<table border=\"1\" class=\"dataframe\">\n",
       "  <thead>\n",
       "    <tr style=\"text-align: right;\">\n",
       "      <th></th>\n",
       "      <th>title</th>\n",
       "      <th>publish_date</th>\n",
       "      <th>session</th>\n",
       "      <th>authors</th>\n",
       "      <th>ctr</th>\n",
       "      <th>category</th>\n",
       "      <th>tags</th>\n",
       "      <th>views</th>\n",
       "      <th>depth</th>\n",
       "      <th>full_reads_percent</th>\n",
       "      <th>...</th>\n",
       "      <th>weekday</th>\n",
       "      <th>v_max</th>\n",
       "      <th>d_max</th>\n",
       "      <th>r_max</th>\n",
       "      <th>views_p</th>\n",
       "      <th>depth_p</th>\n",
       "      <th>reads_p</th>\n",
       "      <th>vp_max</th>\n",
       "      <th>dp_max</th>\n",
       "      <th>rp_max</th>\n",
       "    </tr>\n",
       "    <tr>\n",
       "      <th>document_id</th>\n",
       "      <th></th>\n",
       "      <th></th>\n",
       "      <th></th>\n",
       "      <th></th>\n",
       "      <th></th>\n",
       "      <th></th>\n",
       "      <th></th>\n",
       "      <th></th>\n",
       "      <th></th>\n",
       "      <th></th>\n",
       "      <th></th>\n",
       "      <th></th>\n",
       "      <th></th>\n",
       "      <th></th>\n",
       "      <th></th>\n",
       "      <th></th>\n",
       "      <th></th>\n",
       "      <th></th>\n",
       "      <th></th>\n",
       "      <th></th>\n",
       "      <th></th>\n",
       "    </tr>\n",
       "  </thead>\n",
       "  <tbody>\n",
       "    <tr>\n",
       "      <th>624ac09c9a7947db3d80c98eIDE7mtH4RBqGn-8MXfGffQ</th>\n",
       "      <td>Европейский банк развития приостановил доступ ...</td>\n",
       "      <td>2022-04-04 10:29:44</td>\n",
       "      <td>IDE7mtH4RBqGn-8MXfGffQ</td>\n",
       "      <td>560</td>\n",
       "      <td>1.580</td>\n",
       "      <td>2</td>\n",
       "      <td>['55928d339a794751dc8303d6', '542d1e28cbb20f86...</td>\n",
       "      <td>20460</td>\n",
       "      <td>1.134</td>\n",
       "      <td>35.850</td>\n",
       "      <td>...</td>\n",
       "      <td>0</td>\n",
       "      <td>0.008010</td>\n",
       "      <td>0.630350</td>\n",
       "      <td>0.133957</td>\n",
       "      <td>NaN</td>\n",
       "      <td>NaN</td>\n",
       "      <td>NaN</td>\n",
       "      <td>NaN</td>\n",
       "      <td>NaN</td>\n",
       "      <td>NaN</td>\n",
       "    </tr>\n",
       "    <tr>\n",
       "      <th>620f6b899a7947701cf489e1KtVJsteHStO5oditt3Uvzw</th>\n",
       "      <td>Кремль назвал регулярным процессом учебные зап...</td>\n",
       "      <td>2022-02-18 10:00:39</td>\n",
       "      <td>KtVJsteHStO5oditt3Uvzw</td>\n",
       "      <td>38</td>\n",
       "      <td>1.853</td>\n",
       "      <td>0</td>\n",
       "      <td>['549d25df9a794775979561d2', '58abcf539a7947f1...</td>\n",
       "      <td>19038</td>\n",
       "      <td>1.142</td>\n",
       "      <td>38.355</td>\n",
       "      <td>...</td>\n",
       "      <td>4</td>\n",
       "      <td>0.007454</td>\n",
       "      <td>0.634797</td>\n",
       "      <td>0.143317</td>\n",
       "      <td>NaN</td>\n",
       "      <td>NaN</td>\n",
       "      <td>NaN</td>\n",
       "      <td>NaN</td>\n",
       "      <td>NaN</td>\n",
       "      <td>NaN</td>\n",
       "    </tr>\n",
       "    <tr>\n",
       "      <th>620730cf9a7947ab96a44e27hk7puWJwSziw0m3sfTkKWA</th>\n",
       "      <td>Госсекретарь Швеции заявила о нежелании вступа...</td>\n",
       "      <td>2022-02-12 04:24:02</td>\n",
       "      <td>hk7puWJwSziw0m3sfTkKWA</td>\n",
       "      <td>560</td>\n",
       "      <td>0.000</td>\n",
       "      <td>0</td>\n",
       "      <td>['5430f451cbb20f73931ecd05', '5409f15de063daa0...</td>\n",
       "      <td>51151</td>\n",
       "      <td>1.185</td>\n",
       "      <td>36.424</td>\n",
       "      <td>...</td>\n",
       "      <td>5</td>\n",
       "      <td>0.020026</td>\n",
       "      <td>0.658699</td>\n",
       "      <td>0.136102</td>\n",
       "      <td>NaN</td>\n",
       "      <td>NaN</td>\n",
       "      <td>NaN</td>\n",
       "      <td>NaN</td>\n",
       "      <td>NaN</td>\n",
       "      <td>NaN</td>\n",
       "    </tr>\n",
       "    <tr>\n",
       "      <th>6262a5889a79470b78c9ca307UKY2SSZTjCcjhwBzxw37w</th>\n",
       "      <td>Песков назвал прагматичной выдачу лицензии Газ...</td>\n",
       "      <td>2022-04-22 13:24:55</td>\n",
       "      <td>7UKY2SSZTjCcjhwBzxw37w</td>\n",
       "      <td>560</td>\n",
       "      <td>0.000</td>\n",
       "      <td>0</td>\n",
       "      <td>['5409f297e063daa0f408b11c', '545caa9ecbb20f36...</td>\n",
       "      <td>3782</td>\n",
       "      <td>1.053</td>\n",
       "      <td>30.169</td>\n",
       "      <td>...</td>\n",
       "      <td>4</td>\n",
       "      <td>0.001481</td>\n",
       "      <td>0.585325</td>\n",
       "      <td>0.112729</td>\n",
       "      <td>NaN</td>\n",
       "      <td>NaN</td>\n",
       "      <td>NaN</td>\n",
       "      <td>NaN</td>\n",
       "      <td>NaN</td>\n",
       "      <td>NaN</td>\n",
       "    </tr>\n",
       "    <tr>\n",
       "      <th>626678929a79477ca0101568wuMYES90REuV5YhrN75IXg</th>\n",
       "      <td>В Хабаровске задержали главу филиала РАНХиГС п...</td>\n",
       "      <td>2022-04-25 10:42:23</td>\n",
       "      <td>wuMYES90REuV5YhrN75IXg</td>\n",
       "      <td>560</td>\n",
       "      <td>0.000</td>\n",
       "      <td>5</td>\n",
       "      <td>['5409f42ae063daa0f408b5d7', '585c20e19a79470e...</td>\n",
       "      <td>3065</td>\n",
       "      <td>1.063</td>\n",
       "      <td>34.617</td>\n",
       "      <td>...</td>\n",
       "      <td>0</td>\n",
       "      <td>0.001200</td>\n",
       "      <td>0.590884</td>\n",
       "      <td>0.129350</td>\n",
       "      <td>NaN</td>\n",
       "      <td>NaN</td>\n",
       "      <td>NaN</td>\n",
       "      <td>NaN</td>\n",
       "      <td>NaN</td>\n",
       "      <td>NaN</td>\n",
       "    </tr>\n",
       "  </tbody>\n",
       "</table>\n",
       "<p>5 rows × 23 columns</p>\n",
       "</div>"
      ],
      "text/plain": [
       "                                                                                            title  \\\n",
       "document_id                                                                                         \n",
       "624ac09c9a7947db3d80c98eIDE7mtH4RBqGn-8MXfGffQ  Европейский банк развития приостановил доступ ...   \n",
       "620f6b899a7947701cf489e1KtVJsteHStO5oditt3Uvzw  Кремль назвал регулярным процессом учебные зап...   \n",
       "620730cf9a7947ab96a44e27hk7puWJwSziw0m3sfTkKWA  Госсекретарь Швеции заявила о нежелании вступа...   \n",
       "6262a5889a79470b78c9ca307UKY2SSZTjCcjhwBzxw37w  Песков назвал прагматичной выдачу лицензии Газ...   \n",
       "626678929a79477ca0101568wuMYES90REuV5YhrN75IXg  В Хабаровске задержали главу филиала РАНХиГС п...   \n",
       "\n",
       "                                                      publish_date  \\\n",
       "document_id                                                          \n",
       "624ac09c9a7947db3d80c98eIDE7mtH4RBqGn-8MXfGffQ 2022-04-04 10:29:44   \n",
       "620f6b899a7947701cf489e1KtVJsteHStO5oditt3Uvzw 2022-02-18 10:00:39   \n",
       "620730cf9a7947ab96a44e27hk7puWJwSziw0m3sfTkKWA 2022-02-12 04:24:02   \n",
       "6262a5889a79470b78c9ca307UKY2SSZTjCcjhwBzxw37w 2022-04-22 13:24:55   \n",
       "626678929a79477ca0101568wuMYES90REuV5YhrN75IXg 2022-04-25 10:42:23   \n",
       "\n",
       "                                                               session  \\\n",
       "document_id                                                              \n",
       "624ac09c9a7947db3d80c98eIDE7mtH4RBqGn-8MXfGffQ  IDE7mtH4RBqGn-8MXfGffQ   \n",
       "620f6b899a7947701cf489e1KtVJsteHStO5oditt3Uvzw  KtVJsteHStO5oditt3Uvzw   \n",
       "620730cf9a7947ab96a44e27hk7puWJwSziw0m3sfTkKWA  hk7puWJwSziw0m3sfTkKWA   \n",
       "6262a5889a79470b78c9ca307UKY2SSZTjCcjhwBzxw37w  7UKY2SSZTjCcjhwBzxw37w   \n",
       "626678929a79477ca0101568wuMYES90REuV5YhrN75IXg  wuMYES90REuV5YhrN75IXg   \n",
       "\n",
       "                                                authors    ctr  category  \\\n",
       "document_id                                                                \n",
       "624ac09c9a7947db3d80c98eIDE7mtH4RBqGn-8MXfGffQ      560  1.580         2   \n",
       "620f6b899a7947701cf489e1KtVJsteHStO5oditt3Uvzw       38  1.853         0   \n",
       "620730cf9a7947ab96a44e27hk7puWJwSziw0m3sfTkKWA      560  0.000         0   \n",
       "6262a5889a79470b78c9ca307UKY2SSZTjCcjhwBzxw37w      560  0.000         0   \n",
       "626678929a79477ca0101568wuMYES90REuV5YhrN75IXg      560  0.000         5   \n",
       "\n",
       "                                                                                             tags  \\\n",
       "document_id                                                                                         \n",
       "624ac09c9a7947db3d80c98eIDE7mtH4RBqGn-8MXfGffQ  ['55928d339a794751dc8303d6', '542d1e28cbb20f86...   \n",
       "620f6b899a7947701cf489e1KtVJsteHStO5oditt3Uvzw  ['549d25df9a794775979561d2', '58abcf539a7947f1...   \n",
       "620730cf9a7947ab96a44e27hk7puWJwSziw0m3sfTkKWA  ['5430f451cbb20f73931ecd05', '5409f15de063daa0...   \n",
       "6262a5889a79470b78c9ca307UKY2SSZTjCcjhwBzxw37w  ['5409f297e063daa0f408b11c', '545caa9ecbb20f36...   \n",
       "626678929a79477ca0101568wuMYES90REuV5YhrN75IXg  ['5409f42ae063daa0f408b5d7', '585c20e19a79470e...   \n",
       "\n",
       "                                                views  depth  \\\n",
       "document_id                                                    \n",
       "624ac09c9a7947db3d80c98eIDE7mtH4RBqGn-8MXfGffQ  20460  1.134   \n",
       "620f6b899a7947701cf489e1KtVJsteHStO5oditt3Uvzw  19038  1.142   \n",
       "620730cf9a7947ab96a44e27hk7puWJwSziw0m3sfTkKWA  51151  1.185   \n",
       "6262a5889a79470b78c9ca307UKY2SSZTjCcjhwBzxw37w   3782  1.053   \n",
       "626678929a79477ca0101568wuMYES90REuV5YhrN75IXg   3065  1.063   \n",
       "\n",
       "                                                full_reads_percent  ...  \\\n",
       "document_id                                                         ...   \n",
       "624ac09c9a7947db3d80c98eIDE7mtH4RBqGn-8MXfGffQ              35.850  ...   \n",
       "620f6b899a7947701cf489e1KtVJsteHStO5oditt3Uvzw              38.355  ...   \n",
       "620730cf9a7947ab96a44e27hk7puWJwSziw0m3sfTkKWA              36.424  ...   \n",
       "6262a5889a79470b78c9ca307UKY2SSZTjCcjhwBzxw37w              30.169  ...   \n",
       "626678929a79477ca0101568wuMYES90REuV5YhrN75IXg              34.617  ...   \n",
       "\n",
       "                                                weekday     v_max     d_max  \\\n",
       "document_id                                                                   \n",
       "624ac09c9a7947db3d80c98eIDE7mtH4RBqGn-8MXfGffQ        0  0.008010  0.630350   \n",
       "620f6b899a7947701cf489e1KtVJsteHStO5oditt3Uvzw        4  0.007454  0.634797   \n",
       "620730cf9a7947ab96a44e27hk7puWJwSziw0m3sfTkKWA        5  0.020026  0.658699   \n",
       "6262a5889a79470b78c9ca307UKY2SSZTjCcjhwBzxw37w        4  0.001481  0.585325   \n",
       "626678929a79477ca0101568wuMYES90REuV5YhrN75IXg        0  0.001200  0.590884   \n",
       "\n",
       "                                                   r_max  views_p  depth_p  \\\n",
       "document_id                                                                  \n",
       "624ac09c9a7947db3d80c98eIDE7mtH4RBqGn-8MXfGffQ  0.133957      NaN      NaN   \n",
       "620f6b899a7947701cf489e1KtVJsteHStO5oditt3Uvzw  0.143317      NaN      NaN   \n",
       "620730cf9a7947ab96a44e27hk7puWJwSziw0m3sfTkKWA  0.136102      NaN      NaN   \n",
       "6262a5889a79470b78c9ca307UKY2SSZTjCcjhwBzxw37w  0.112729      NaN      NaN   \n",
       "626678929a79477ca0101568wuMYES90REuV5YhrN75IXg  0.129350      NaN      NaN   \n",
       "\n",
       "                                                reads_p  vp_max  dp_max  \\\n",
       "document_id                                                               \n",
       "624ac09c9a7947db3d80c98eIDE7mtH4RBqGn-8MXfGffQ      NaN     NaN     NaN   \n",
       "620f6b899a7947701cf489e1KtVJsteHStO5oditt3Uvzw      NaN     NaN     NaN   \n",
       "620730cf9a7947ab96a44e27hk7puWJwSziw0m3sfTkKWA      NaN     NaN     NaN   \n",
       "6262a5889a79470b78c9ca307UKY2SSZTjCcjhwBzxw37w      NaN     NaN     NaN   \n",
       "626678929a79477ca0101568wuMYES90REuV5YhrN75IXg      NaN     NaN     NaN   \n",
       "\n",
       "                                                rp_max  \n",
       "document_id                                             \n",
       "624ac09c9a7947db3d80c98eIDE7mtH4RBqGn-8MXfGffQ     NaN  \n",
       "620f6b899a7947701cf489e1KtVJsteHStO5oditt3Uvzw     NaN  \n",
       "620730cf9a7947ab96a44e27hk7puWJwSziw0m3sfTkKWA     NaN  \n",
       "6262a5889a79470b78c9ca307UKY2SSZTjCcjhwBzxw37w     NaN  \n",
       "626678929a79477ca0101568wuMYES90REuV5YhrN75IXg     NaN  \n",
       "\n",
       "[5 rows x 23 columns]"
      ]
     },
     "execution_count": 238,
     "metadata": {},
     "output_type": "execute_result"
    }
   ],
   "source": [
    "df_train[:5]"
   ]
  },
  {
   "cell_type": "code",
   "execution_count": 243,
   "metadata": {},
   "outputs": [
    {
     "ename": "ValueError",
     "evalue": "Data cardinality is ambiguous:\n  x sizes: 1, 3\nMake sure all arrays contain the same number of samples.",
     "output_type": "error",
     "traceback": [
      "\u001b[0;31m---------------------------------------------------------------------------\u001b[0m",
      "\u001b[0;31mValueError\u001b[0m                                Traceback (most recent call last)",
      "\u001b[0;32m/tmp/ipykernel_37115/4283243754.py\u001b[0m in \u001b[0;36m<module>\u001b[0;34m\u001b[0m\n\u001b[0;32m----> 1\u001b[0;31m \u001b[0mprediction\u001b[0m \u001b[0;34m=\u001b[0m \u001b[0mMakePrediction\u001b[0m\u001b[0;34m(\u001b[0m\u001b[0mmodel\u001b[0m\u001b[0;34m,\u001b[0m \u001b[0mdf_train\u001b[0m\u001b[0;34m[\u001b[0m\u001b[0;34m'title'\u001b[0m\u001b[0;34m]\u001b[0m\u001b[0;34m.\u001b[0m\u001b[0mvalues\u001b[0m\u001b[0;34m[\u001b[0m\u001b[0;36m0\u001b[0m\u001b[0;34m]\u001b[0m\u001b[0;34m,\u001b[0m \u001b[0mdf_train\u001b[0m\u001b[0;34m[\u001b[0m\u001b[0;34m[\u001b[0m\u001b[0;34m\"v_max\"\u001b[0m\u001b[0;34m,\u001b[0m\u001b[0;34m\"d_max\"\u001b[0m\u001b[0;34m,\u001b[0m\u001b[0;34m\"r_max\"\u001b[0m\u001b[0;34m]\u001b[0m\u001b[0;34m]\u001b[0m\u001b[0;34m.\u001b[0m\u001b[0mvalues\u001b[0m\u001b[0;34m[\u001b[0m\u001b[0;36m0\u001b[0m\u001b[0;34m]\u001b[0m\u001b[0;34m)\u001b[0m\u001b[0;34m\u001b[0m\u001b[0;34m\u001b[0m\u001b[0m\n\u001b[0m\u001b[1;32m      2\u001b[0m \u001b[0mprediction\u001b[0m\u001b[0;34m[\u001b[0m\u001b[0;36m0\u001b[0m\u001b[0;34m]\u001b[0m \u001b[0;34m=\u001b[0m \u001b[0mprediction\u001b[0m\u001b[0;34m[\u001b[0m\u001b[0;36m0\u001b[0m\u001b[0;34m]\u001b[0m \u001b[0;34m*\u001b[0m \u001b[0mview_max\u001b[0m\u001b[0;34m\u001b[0m\u001b[0;34m\u001b[0m\u001b[0m\n\u001b[1;32m      3\u001b[0m \u001b[0mprediction\u001b[0m\u001b[0;34m[\u001b[0m\u001b[0;36m1\u001b[0m\u001b[0;34m]\u001b[0m \u001b[0;34m=\u001b[0m \u001b[0mprediction\u001b[0m\u001b[0;34m[\u001b[0m\u001b[0;36m1\u001b[0m\u001b[0;34m]\u001b[0m \u001b[0;34m*\u001b[0m \u001b[0mdepth_max\u001b[0m\u001b[0;34m\u001b[0m\u001b[0;34m\u001b[0m\u001b[0m\n\u001b[1;32m      4\u001b[0m \u001b[0mprediction\u001b[0m\u001b[0;34m[\u001b[0m\u001b[0;36m2\u001b[0m\u001b[0;34m]\u001b[0m \u001b[0;34m=\u001b[0m \u001b[0mprediction\u001b[0m\u001b[0;34m[\u001b[0m\u001b[0;36m2\u001b[0m\u001b[0;34m]\u001b[0m \u001b[0;34m*\u001b[0m \u001b[0mfull_read_max\u001b[0m\u001b[0;34m\u001b[0m\u001b[0;34m\u001b[0m\u001b[0m\n\u001b[1;32m      5\u001b[0m \u001b[0mprediction\u001b[0m\u001b[0;34m\u001b[0m\u001b[0;34m\u001b[0m\u001b[0m\n",
      "\u001b[0;32m/tmp/ipykernel_37115/4248265047.py\u001b[0m in \u001b[0;36mMakePrediction\u001b[0;34m(model, seed_text, reg_res)\u001b[0m\n\u001b[1;32m      2\u001b[0m     \u001b[0mtoken_list\u001b[0m \u001b[0;34m=\u001b[0m \u001b[0mtokenizer\u001b[0m\u001b[0;34m.\u001b[0m\u001b[0mtexts_to_sequences\u001b[0m\u001b[0;34m(\u001b[0m\u001b[0;34m[\u001b[0m\u001b[0mseed_text\u001b[0m\u001b[0;34m]\u001b[0m\u001b[0;34m)\u001b[0m\u001b[0;34m[\u001b[0m\u001b[0;36m0\u001b[0m\u001b[0;34m]\u001b[0m\u001b[0;34m\u001b[0m\u001b[0;34m\u001b[0m\u001b[0m\n\u001b[1;32m      3\u001b[0m     \u001b[0mtoken_list\u001b[0m \u001b[0;34m=\u001b[0m \u001b[0mpad_sequences\u001b[0m\u001b[0;34m(\u001b[0m\u001b[0;34m[\u001b[0m\u001b[0mtoken_list\u001b[0m\u001b[0;34m]\u001b[0m\u001b[0;34m,\u001b[0m \u001b[0mmaxlen\u001b[0m\u001b[0;34m=\u001b[0m\u001b[0mmax_sequence_len\u001b[0m\u001b[0;34m,\u001b[0m \u001b[0mpadding\u001b[0m\u001b[0;34m=\u001b[0m\u001b[0;34m'pre'\u001b[0m\u001b[0;34m)\u001b[0m\u001b[0;34m\u001b[0m\u001b[0;34m\u001b[0m\u001b[0m\n\u001b[0;32m----> 4\u001b[0;31m     \u001b[0mprediction\u001b[0m \u001b[0;34m=\u001b[0m \u001b[0mmodel\u001b[0m\u001b[0;34m.\u001b[0m\u001b[0mpredict\u001b[0m\u001b[0;34m(\u001b[0m\u001b[0;34m[\u001b[0m\u001b[0mtoken_list\u001b[0m\u001b[0;34m,\u001b[0m \u001b[0mreg_res\u001b[0m\u001b[0;34m]\u001b[0m\u001b[0;34m,\u001b[0m \u001b[0mverbose\u001b[0m\u001b[0;34m=\u001b[0m\u001b[0;36m0\u001b[0m\u001b[0;34m)\u001b[0m\u001b[0;34m[\u001b[0m\u001b[0;36m0\u001b[0m\u001b[0;34m]\u001b[0m\u001b[0;34m\u001b[0m\u001b[0;34m\u001b[0m\u001b[0m\n\u001b[0m\u001b[1;32m      5\u001b[0m \u001b[0;34m\u001b[0m\u001b[0m\n\u001b[1;32m      6\u001b[0m     \u001b[0;32mreturn\u001b[0m \u001b[0mprediction\u001b[0m\u001b[0;34m\u001b[0m\u001b[0;34m\u001b[0m\u001b[0m\n",
      "\u001b[0;32m~/.local/lib/python3.8/site-packages/keras/utils/traceback_utils.py\u001b[0m in \u001b[0;36merror_handler\u001b[0;34m(*args, **kwargs)\u001b[0m\n\u001b[1;32m     65\u001b[0m     \u001b[0;32mexcept\u001b[0m \u001b[0mException\u001b[0m \u001b[0;32mas\u001b[0m \u001b[0me\u001b[0m\u001b[0;34m:\u001b[0m  \u001b[0;31m# pylint: disable=broad-except\u001b[0m\u001b[0;34m\u001b[0m\u001b[0;34m\u001b[0m\u001b[0m\n\u001b[1;32m     66\u001b[0m       \u001b[0mfiltered_tb\u001b[0m \u001b[0;34m=\u001b[0m \u001b[0m_process_traceback_frames\u001b[0m\u001b[0;34m(\u001b[0m\u001b[0me\u001b[0m\u001b[0;34m.\u001b[0m\u001b[0m__traceback__\u001b[0m\u001b[0;34m)\u001b[0m\u001b[0;34m\u001b[0m\u001b[0;34m\u001b[0m\u001b[0m\n\u001b[0;32m---> 67\u001b[0;31m       \u001b[0;32mraise\u001b[0m \u001b[0me\u001b[0m\u001b[0;34m.\u001b[0m\u001b[0mwith_traceback\u001b[0m\u001b[0;34m(\u001b[0m\u001b[0mfiltered_tb\u001b[0m\u001b[0;34m)\u001b[0m \u001b[0;32mfrom\u001b[0m \u001b[0;32mNone\u001b[0m\u001b[0;34m\u001b[0m\u001b[0;34m\u001b[0m\u001b[0m\n\u001b[0m\u001b[1;32m     68\u001b[0m     \u001b[0;32mfinally\u001b[0m\u001b[0;34m:\u001b[0m\u001b[0;34m\u001b[0m\u001b[0;34m\u001b[0m\u001b[0m\n\u001b[1;32m     69\u001b[0m       \u001b[0;32mdel\u001b[0m \u001b[0mfiltered_tb\u001b[0m\u001b[0;34m\u001b[0m\u001b[0;34m\u001b[0m\u001b[0m\n",
      "\u001b[0;32m~/.local/lib/python3.8/site-packages/keras/engine/data_adapter.py\u001b[0m in \u001b[0;36m_check_data_cardinality\u001b[0;34m(data)\u001b[0m\n\u001b[1;32m   1653\u001b[0m                            for i in tf.nest.flatten(single_data)))\n\u001b[1;32m   1654\u001b[0m     \u001b[0mmsg\u001b[0m \u001b[0;34m+=\u001b[0m \u001b[0;34m\"Make sure all arrays contain the same number of samples.\"\u001b[0m\u001b[0;34m\u001b[0m\u001b[0;34m\u001b[0m\u001b[0m\n\u001b[0;32m-> 1655\u001b[0;31m     \u001b[0;32mraise\u001b[0m \u001b[0mValueError\u001b[0m\u001b[0;34m(\u001b[0m\u001b[0mmsg\u001b[0m\u001b[0;34m)\u001b[0m\u001b[0;34m\u001b[0m\u001b[0;34m\u001b[0m\u001b[0m\n\u001b[0m\u001b[1;32m   1656\u001b[0m \u001b[0;34m\u001b[0m\u001b[0m\n\u001b[1;32m   1657\u001b[0m \u001b[0;34m\u001b[0m\u001b[0m\n",
      "\u001b[0;31mValueError\u001b[0m: Data cardinality is ambiguous:\n  x sizes: 1, 3\nMake sure all arrays contain the same number of samples."
     ]
    }
   ],
   "source": [
    "prediction = MakePrediction(model, df_train['title'].values[0], df_train[[\"v_max\",\"d_max\",\"r_max\"]].values[0])\n",
    "prediction[0] = prediction[0] * view_max\n",
    "prediction[1] = prediction[1] * depth_max\n",
    "prediction[2] = prediction[2] * full_read_max\n",
    "prediction"
   ]
  },
  {
   "cell_type": "code",
   "execution_count": 190,
   "metadata": {},
   "outputs": [
    {
     "data": {
      "text/html": [
       "<div>\n",
       "<style scoped>\n",
       "    .dataframe tbody tr th:only-of-type {\n",
       "        vertical-align: middle;\n",
       "    }\n",
       "\n",
       "    .dataframe tbody tr th {\n",
       "        vertical-align: top;\n",
       "    }\n",
       "\n",
       "    .dataframe thead th {\n",
       "        text-align: right;\n",
       "    }\n",
       "</style>\n",
       "<table border=\"1\" class=\"dataframe\">\n",
       "  <thead>\n",
       "    <tr style=\"text-align: right;\">\n",
       "      <th></th>\n",
       "      <th>0</th>\n",
       "      <th>1</th>\n",
       "      <th>2</th>\n",
       "    </tr>\n",
       "  </thead>\n",
       "  <tbody>\n",
       "    <tr>\n",
       "      <th>0</th>\n",
       "      <td>212393.212774</td>\n",
       "      <td>1.234483</td>\n",
       "      <td>61.724644</td>\n",
       "    </tr>\n",
       "    <tr>\n",
       "      <th>1</th>\n",
       "      <td>190643.441686</td>\n",
       "      <td>1.246570</td>\n",
       "      <td>62.205502</td>\n",
       "    </tr>\n",
       "    <tr>\n",
       "      <th>2</th>\n",
       "      <td>211398.574970</td>\n",
       "      <td>1.258625</td>\n",
       "      <td>58.237457</td>\n",
       "    </tr>\n",
       "    <tr>\n",
       "      <th>3</th>\n",
       "      <td>231635.912746</td>\n",
       "      <td>1.213206</td>\n",
       "      <td>62.873672</td>\n",
       "    </tr>\n",
       "    <tr>\n",
       "      <th>4</th>\n",
       "      <td>244112.026995</td>\n",
       "      <td>1.209250</td>\n",
       "      <td>62.154980</td>\n",
       "    </tr>\n",
       "    <tr>\n",
       "      <th>...</th>\n",
       "      <td>...</td>\n",
       "      <td>...</td>\n",
       "      <td>...</td>\n",
       "    </tr>\n",
       "    <tr>\n",
       "      <th>6995</th>\n",
       "      <td>242791.818771</td>\n",
       "      <td>1.287622</td>\n",
       "      <td>50.634487</td>\n",
       "    </tr>\n",
       "    <tr>\n",
       "      <th>6996</th>\n",
       "      <td>247719.506338</td>\n",
       "      <td>1.199172</td>\n",
       "      <td>63.276192</td>\n",
       "    </tr>\n",
       "    <tr>\n",
       "      <th>6997</th>\n",
       "      <td>158066.589174</td>\n",
       "      <td>1.244552</td>\n",
       "      <td>65.918961</td>\n",
       "    </tr>\n",
       "    <tr>\n",
       "      <th>6998</th>\n",
       "      <td>186581.328409</td>\n",
       "      <td>1.215579</td>\n",
       "      <td>67.241417</td>\n",
       "    </tr>\n",
       "    <tr>\n",
       "      <th>6999</th>\n",
       "      <td>251219.274168</td>\n",
       "      <td>1.206610</td>\n",
       "      <td>61.802982</td>\n",
       "    </tr>\n",
       "  </tbody>\n",
       "</table>\n",
       "<p>7000 rows × 3 columns</p>\n",
       "</div>"
      ],
      "text/plain": [
       "                  0         1          2\n",
       "0     212393.212774  1.234483  61.724644\n",
       "1     190643.441686  1.246570  62.205502\n",
       "2     211398.574970  1.258625  58.237457\n",
       "3     231635.912746  1.213206  62.873672\n",
       "4     244112.026995  1.209250  62.154980\n",
       "...             ...       ...        ...\n",
       "6995  242791.818771  1.287622  50.634487\n",
       "6996  247719.506338  1.199172  63.276192\n",
       "6997  158066.589174  1.244552  65.918961\n",
       "6998  186581.328409  1.215579  67.241417\n",
       "6999  251219.274168  1.206610  61.802982\n",
       "\n",
       "[7000 rows x 3 columns]"
      ]
     },
     "execution_count": 190,
     "metadata": {},
     "output_type": "execute_result"
    }
   ],
   "source": [
    "predictions = []\n",
    "for title in df_train['title'].values:\n",
    "    prediction = MakePrediction(model, title)\n",
    "    predictions.append(prediction)\n",
    "df_pred = pd.DataFrame(np.concatenate(predictions).reshape(-1, 3))\n",
    "\n",
    "df_pred[0] = df_pred[0] * view_max\n",
    "df_pred[1] = df_pred[1] * depth_max\n",
    "df_pred[2] = df_pred[2] * full_read_max\n",
    "\n",
    "df_pred.head()"
   ]
  },
  {
   "cell_type": "code",
   "execution_count": 192,
   "metadata": {},
   "outputs": [],
   "source": [
    "df_pred = df_pred.rename(columns={0: \"views\", 1: \"depth\", 2: \"full_reads_percent\"})\n",
    "df_pred.index = df_train.index"
   ]
  },
  {
   "cell_type": "code",
   "execution_count": 195,
   "metadata": {},
   "outputs": [
    {
     "data": {
      "text/plain": [
       "-4.189297294478216"
      ]
     },
     "execution_count": 195,
     "metadata": {},
     "output_type": "execute_result"
    }
   ],
   "source": [
    "score_views = r2_score(y[\"views\"], df_pred['views'])\n",
    "score_depth = r2_score(y[\"depth\"], df_pred['depth'])\n",
    "score_frp = r2_score(y[\"full_reads_percent\"], df_pred['full_reads_percent'])\n",
    "\n",
    "score = 0.4 * score_views + 0.3 * score_depth + 0.3 * score_frp\n",
    "\n",
    "score"
   ]
  },
  {
   "cell_type": "code",
   "execution_count": 196,
   "metadata": {},
   "outputs": [
    {
     "data": {
      "text/html": [
       "<div>\n",
       "<style scoped>\n",
       "    .dataframe tbody tr th:only-of-type {\n",
       "        vertical-align: middle;\n",
       "    }\n",
       "\n",
       "    .dataframe tbody tr th {\n",
       "        vertical-align: top;\n",
       "    }\n",
       "\n",
       "    .dataframe thead th {\n",
       "        text-align: right;\n",
       "    }\n",
       "</style>\n",
       "<table border=\"1\" class=\"dataframe\">\n",
       "  <thead>\n",
       "    <tr style=\"text-align: right;\">\n",
       "      <th></th>\n",
       "      <th>views</th>\n",
       "      <th>depth</th>\n",
       "      <th>full_reads_percent</th>\n",
       "    </tr>\n",
       "    <tr>\n",
       "      <th>document_id</th>\n",
       "      <th></th>\n",
       "      <th></th>\n",
       "      <th></th>\n",
       "    </tr>\n",
       "  </thead>\n",
       "  <tbody>\n",
       "    <tr>\n",
       "      <th>624ac09c9a7947db3d80c98eIDE7mtH4RBqGn-8MXfGffQ</th>\n",
       "      <td>212393.212774</td>\n",
       "      <td>1.234483</td>\n",
       "      <td>61.724644</td>\n",
       "    </tr>\n",
       "    <tr>\n",
       "      <th>620f6b899a7947701cf489e1KtVJsteHStO5oditt3Uvzw</th>\n",
       "      <td>190643.441686</td>\n",
       "      <td>1.246570</td>\n",
       "      <td>62.205502</td>\n",
       "    </tr>\n",
       "    <tr>\n",
       "      <th>620730cf9a7947ab96a44e27hk7puWJwSziw0m3sfTkKWA</th>\n",
       "      <td>211398.574970</td>\n",
       "      <td>1.258625</td>\n",
       "      <td>58.237457</td>\n",
       "    </tr>\n",
       "    <tr>\n",
       "      <th>6262a5889a79470b78c9ca307UKY2SSZTjCcjhwBzxw37w</th>\n",
       "      <td>231635.912746</td>\n",
       "      <td>1.213206</td>\n",
       "      <td>62.873672</td>\n",
       "    </tr>\n",
       "    <tr>\n",
       "      <th>626678929a79477ca0101568wuMYES90REuV5YhrN75IXg</th>\n",
       "      <td>244112.026995</td>\n",
       "      <td>1.209250</td>\n",
       "      <td>62.154980</td>\n",
       "    </tr>\n",
       "    <tr>\n",
       "      <th>...</th>\n",
       "      <td>...</td>\n",
       "      <td>...</td>\n",
       "      <td>...</td>\n",
       "    </tr>\n",
       "    <tr>\n",
       "      <th>61fd479c9a7947848183694751RC_1i5QlGuv7B2FzwTjw</th>\n",
       "      <td>242791.818771</td>\n",
       "      <td>1.287622</td>\n",
       "      <td>50.634487</td>\n",
       "    </tr>\n",
       "    <tr>\n",
       "      <th>628a8f1c9a79478c64a7dae450tIkSGVSf2O8XQgk_uaHQ</th>\n",
       "      <td>247719.506338</td>\n",
       "      <td>1.199172</td>\n",
       "      <td>63.276192</td>\n",
       "    </tr>\n",
       "    <tr>\n",
       "      <th>6244cf5e9a79479099346b26tKlqoxQYSmij0ZBrGzebug</th>\n",
       "      <td>158066.589174</td>\n",
       "      <td>1.244552</td>\n",
       "      <td>65.918961</td>\n",
       "    </tr>\n",
       "    <tr>\n",
       "      <th>627303699a794749b8116abc12JX_3ZDTDu2XHF3k2eJVg</th>\n",
       "      <td>186581.328409</td>\n",
       "      <td>1.215579</td>\n",
       "      <td>67.241417</td>\n",
       "    </tr>\n",
       "    <tr>\n",
       "      <th>627f1c089a794743b070ff73hVvdVmFxS2SlZ2_lECDEow</th>\n",
       "      <td>251219.274168</td>\n",
       "      <td>1.206610</td>\n",
       "      <td>61.802982</td>\n",
       "    </tr>\n",
       "  </tbody>\n",
       "</table>\n",
       "<p>7000 rows × 3 columns</p>\n",
       "</div>"
      ],
      "text/plain": [
       "                                                        views     depth  \\\n",
       "document_id                                                               \n",
       "624ac09c9a7947db3d80c98eIDE7mtH4RBqGn-8MXfGffQ  212393.212774  1.234483   \n",
       "620f6b899a7947701cf489e1KtVJsteHStO5oditt3Uvzw  190643.441686  1.246570   \n",
       "620730cf9a7947ab96a44e27hk7puWJwSziw0m3sfTkKWA  211398.574970  1.258625   \n",
       "6262a5889a79470b78c9ca307UKY2SSZTjCcjhwBzxw37w  231635.912746  1.213206   \n",
       "626678929a79477ca0101568wuMYES90REuV5YhrN75IXg  244112.026995  1.209250   \n",
       "...                                                       ...       ...   \n",
       "61fd479c9a7947848183694751RC_1i5QlGuv7B2FzwTjw  242791.818771  1.287622   \n",
       "628a8f1c9a79478c64a7dae450tIkSGVSf2O8XQgk_uaHQ  247719.506338  1.199172   \n",
       "6244cf5e9a79479099346b26tKlqoxQYSmij0ZBrGzebug  158066.589174  1.244552   \n",
       "627303699a794749b8116abc12JX_3ZDTDu2XHF3k2eJVg  186581.328409  1.215579   \n",
       "627f1c089a794743b070ff73hVvdVmFxS2SlZ2_lECDEow  251219.274168  1.206610   \n",
       "\n",
       "                                                full_reads_percent  \n",
       "document_id                                                         \n",
       "624ac09c9a7947db3d80c98eIDE7mtH4RBqGn-8MXfGffQ           61.724644  \n",
       "620f6b899a7947701cf489e1KtVJsteHStO5oditt3Uvzw           62.205502  \n",
       "620730cf9a7947ab96a44e27hk7puWJwSziw0m3sfTkKWA           58.237457  \n",
       "6262a5889a79470b78c9ca307UKY2SSZTjCcjhwBzxw37w           62.873672  \n",
       "626678929a79477ca0101568wuMYES90REuV5YhrN75IXg           62.154980  \n",
       "...                                                            ...  \n",
       "61fd479c9a7947848183694751RC_1i5QlGuv7B2FzwTjw           50.634487  \n",
       "628a8f1c9a79478c64a7dae450tIkSGVSf2O8XQgk_uaHQ           63.276192  \n",
       "6244cf5e9a79479099346b26tKlqoxQYSmij0ZBrGzebug           65.918961  \n",
       "627303699a794749b8116abc12JX_3ZDTDu2XHF3k2eJVg           67.241417  \n",
       "627f1c089a794743b070ff73hVvdVmFxS2SlZ2_lECDEow           61.802982  \n",
       "\n",
       "[7000 rows x 3 columns]"
      ]
     },
     "execution_count": 196,
     "metadata": {},
     "output_type": "execute_result"
    }
   ],
   "source": [
    "df_pred"
   ]
  },
  {
   "cell_type": "code",
   "execution_count": 171,
   "metadata": {},
   "outputs": [],
   "source": [
    "# subset_dict = {key: value for key, value in tokenizer.word_index.items() \\\n",
    "#                if key in ['украина',',','политика','россия','сша','Банк','украине', '54', 'байден']}\n",
    "# print(subset_dict)"
   ]
  },
  {
   "cell_type": "code",
   "execution_count": 172,
   "metadata": {},
   "outputs": [],
   "source": [
    "# for line in all_headlines:\n",
    "    # Convert our headline into a sequence of tokens\n",
    "# token_list = tokenizer.texts_to_sequences([all_headlines[-2]])[0]\n",
    "\n",
    "# print(tokenizer.sequences_to_texts([token_list]))\n",
    "# token_list"
   ]
  },
  {
   "cell_type": "markdown",
   "metadata": {},
   "source": [
    "# Обучаем модель"
   ]
  },
  {
   "cell_type": "code",
   "execution_count": 214,
   "metadata": {
    "id": "juqrwMlFj6GS"
   },
   "outputs": [],
   "source": [
    "X = df_train.drop([\"views\",\"depth\",\"full_reads_percent\",\"title\",\"publish_date\", \"session\", \"tags\", 'views_p', 'depth_p', ''], axis = 1)\n",
    "y = df_train[[\"views\",\"depth\",\"full_reads_percent\"]]"
   ]
  },
  {
   "cell_type": "code",
   "execution_count": 215,
   "metadata": {
    "colab": {
     "base_uri": "https://localhost:8080/",
     "height": 237
    },
    "id": "H_5wgOc_2NOe",
    "outputId": "de454dda-bbee-4a0d-912d-44fd56d21cae"
   },
   "outputs": [
    {
     "data": {
      "text/html": [
       "<div>\n",
       "<style scoped>\n",
       "    .dataframe tbody tr th:only-of-type {\n",
       "        vertical-align: middle;\n",
       "    }\n",
       "\n",
       "    .dataframe tbody tr th {\n",
       "        vertical-align: top;\n",
       "    }\n",
       "\n",
       "    .dataframe thead th {\n",
       "        text-align: right;\n",
       "    }\n",
       "</style>\n",
       "<table border=\"1\" class=\"dataframe\">\n",
       "  <thead>\n",
       "    <tr style=\"text-align: right;\">\n",
       "      <th></th>\n",
       "      <th>authors</th>\n",
       "      <th>ctr</th>\n",
       "      <th>category</th>\n",
       "      <th>day</th>\n",
       "      <th>mounth</th>\n",
       "      <th>hour</th>\n",
       "      <th>weekday</th>\n",
       "      <th>v_max</th>\n",
       "      <th>d_max</th>\n",
       "      <th>r_max</th>\n",
       "    </tr>\n",
       "    <tr>\n",
       "      <th>document_id</th>\n",
       "      <th></th>\n",
       "      <th></th>\n",
       "      <th></th>\n",
       "      <th></th>\n",
       "      <th></th>\n",
       "      <th></th>\n",
       "      <th></th>\n",
       "      <th></th>\n",
       "      <th></th>\n",
       "      <th></th>\n",
       "    </tr>\n",
       "  </thead>\n",
       "  <tbody>\n",
       "    <tr>\n",
       "      <th>624ac09c9a7947db3d80c98eIDE7mtH4RBqGn-8MXfGffQ</th>\n",
       "      <td>560</td>\n",
       "      <td>1.580</td>\n",
       "      <td>2</td>\n",
       "      <td>4</td>\n",
       "      <td>4</td>\n",
       "      <td>10</td>\n",
       "      <td>0</td>\n",
       "      <td>0.008010</td>\n",
       "      <td>0.630350</td>\n",
       "      <td>0.133957</td>\n",
       "    </tr>\n",
       "    <tr>\n",
       "      <th>620f6b899a7947701cf489e1KtVJsteHStO5oditt3Uvzw</th>\n",
       "      <td>38</td>\n",
       "      <td>1.853</td>\n",
       "      <td>0</td>\n",
       "      <td>18</td>\n",
       "      <td>2</td>\n",
       "      <td>10</td>\n",
       "      <td>4</td>\n",
       "      <td>0.007454</td>\n",
       "      <td>0.634797</td>\n",
       "      <td>0.143317</td>\n",
       "    </tr>\n",
       "    <tr>\n",
       "      <th>620730cf9a7947ab96a44e27hk7puWJwSziw0m3sfTkKWA</th>\n",
       "      <td>560</td>\n",
       "      <td>0.000</td>\n",
       "      <td>0</td>\n",
       "      <td>12</td>\n",
       "      <td>2</td>\n",
       "      <td>4</td>\n",
       "      <td>5</td>\n",
       "      <td>0.020026</td>\n",
       "      <td>0.658699</td>\n",
       "      <td>0.136102</td>\n",
       "    </tr>\n",
       "    <tr>\n",
       "      <th>6262a5889a79470b78c9ca307UKY2SSZTjCcjhwBzxw37w</th>\n",
       "      <td>560</td>\n",
       "      <td>0.000</td>\n",
       "      <td>0</td>\n",
       "      <td>22</td>\n",
       "      <td>4</td>\n",
       "      <td>13</td>\n",
       "      <td>4</td>\n",
       "      <td>0.001481</td>\n",
       "      <td>0.585325</td>\n",
       "      <td>0.112729</td>\n",
       "    </tr>\n",
       "    <tr>\n",
       "      <th>626678929a79477ca0101568wuMYES90REuV5YhrN75IXg</th>\n",
       "      <td>560</td>\n",
       "      <td>0.000</td>\n",
       "      <td>5</td>\n",
       "      <td>25</td>\n",
       "      <td>4</td>\n",
       "      <td>10</td>\n",
       "      <td>0</td>\n",
       "      <td>0.001200</td>\n",
       "      <td>0.590884</td>\n",
       "      <td>0.129350</td>\n",
       "    </tr>\n",
       "  </tbody>\n",
       "</table>\n",
       "</div>"
      ],
      "text/plain": [
       "                                                authors    ctr  category  day  \\\n",
       "document_id                                                                     \n",
       "624ac09c9a7947db3d80c98eIDE7mtH4RBqGn-8MXfGffQ      560  1.580         2    4   \n",
       "620f6b899a7947701cf489e1KtVJsteHStO5oditt3Uvzw       38  1.853         0   18   \n",
       "620730cf9a7947ab96a44e27hk7puWJwSziw0m3sfTkKWA      560  0.000         0   12   \n",
       "6262a5889a79470b78c9ca307UKY2SSZTjCcjhwBzxw37w      560  0.000         0   22   \n",
       "626678929a79477ca0101568wuMYES90REuV5YhrN75IXg      560  0.000         5   25   \n",
       "\n",
       "                                                mounth  hour  weekday  \\\n",
       "document_id                                                             \n",
       "624ac09c9a7947db3d80c98eIDE7mtH4RBqGn-8MXfGffQ       4    10        0   \n",
       "620f6b899a7947701cf489e1KtVJsteHStO5oditt3Uvzw       2    10        4   \n",
       "620730cf9a7947ab96a44e27hk7puWJwSziw0m3sfTkKWA       2     4        5   \n",
       "6262a5889a79470b78c9ca307UKY2SSZTjCcjhwBzxw37w       4    13        4   \n",
       "626678929a79477ca0101568wuMYES90REuV5YhrN75IXg       4    10        0   \n",
       "\n",
       "                                                   v_max     d_max     r_max  \n",
       "document_id                                                                   \n",
       "624ac09c9a7947db3d80c98eIDE7mtH4RBqGn-8MXfGffQ  0.008010  0.630350  0.133957  \n",
       "620f6b899a7947701cf489e1KtVJsteHStO5oditt3Uvzw  0.007454  0.634797  0.143317  \n",
       "620730cf9a7947ab96a44e27hk7puWJwSziw0m3sfTkKWA  0.020026  0.658699  0.136102  \n",
       "6262a5889a79470b78c9ca307UKY2SSZTjCcjhwBzxw37w  0.001481  0.585325  0.112729  \n",
       "626678929a79477ca0101568wuMYES90REuV5YhrN75IXg  0.001200  0.590884  0.129350  "
      ]
     },
     "execution_count": 215,
     "metadata": {},
     "output_type": "execute_result"
    }
   ],
   "source": [
    "X.head()"
   ]
  },
  {
   "cell_type": "code",
   "execution_count": 216,
   "metadata": {
    "id": "HZC1QLKs2Gjb"
   },
   "outputs": [],
   "source": [
    "X_train, X_test, y_train, y_test = train_test_split(X, y, test_size=0.3, random_state=42)"
   ]
  },
  {
   "cell_type": "markdown",
   "metadata": {
    "id": "aatiawbb2woH"
   },
   "source": [
    "## Подбор модели"
   ]
  },
  {
   "cell_type": "code",
   "execution_count": 217,
   "metadata": {},
   "outputs": [],
   "source": [
    "def ModelCreation(X, Y):\n",
    "    model = RandomForestRegressor(random_state=0)\n",
    "    model.fit(X, Y)\n",
    "    return model"
   ]
  },
  {
   "cell_type": "code",
   "execution_count": 218,
   "metadata": {
    "colab": {
     "base_uri": "https://localhost:8080/"
    },
    "id": "rb7oNSzT3Nrd",
    "outputId": "8016cacc-0a1c-49d0-d4f4-8c0b9cda3374"
   },
   "outputs": [],
   "source": [
    "regr = ModelCreation(X_train, y_train)"
   ]
  },
  {
   "cell_type": "code",
   "execution_count": 251,
   "metadata": {},
   "outputs": [],
   "source": [
    "pred = regr.predict(X)\n",
    "df_train['views_p'], df_train['depth_p'], df_train['reads_p'] = pred[:,0], pred[:,1], pred[:,2]"
   ]
  },
  {
   "cell_type": "markdown",
   "metadata": {
    "id": "gzQh5CPA4TF1"
   },
   "source": [
    "Предскажем значения"
   ]
  },
  {
   "cell_type": "code",
   "execution_count": 249,
   "metadata": {
    "id": "xwqb5Ed02GnX"
   },
   "outputs": [],
   "source": [
    "pred = regr.predict(X_test)\n",
    "score_views = r2_score(y_test[\"views\"], pred[:,0])\n",
    "score_depth = r2_score(y_test[\"depth\"], pred[:,1])\n",
    "score_frp = r2_score(y_test[\"full_reads_percent\"], pred[:,2])"
   ]
  },
  {
   "cell_type": "code",
   "execution_count": 250,
   "metadata": {},
   "outputs": [
    {
     "data": {
      "text/plain": [
       "0.5989384819946123"
      ]
     },
     "execution_count": 250,
     "metadata": {},
     "output_type": "execute_result"
    }
   ],
   "source": [
    "score = 0.4 * score_views + 0.3 * score_depth + 0.3 * score_frp\n",
    "\n",
    "score"
   ]
  },
  {
   "cell_type": "markdown",
   "metadata": {
    "id": "V2lh7BHR3iha"
   },
   "source": [
    "## Оценка точности"
   ]
  },
  {
   "cell_type": "code",
   "execution_count": 185,
   "metadata": {},
   "outputs": [],
   "source": [
    "regr = ModelCreation(X, y)"
   ]
  },
  {
   "cell_type": "code",
   "execution_count": 186,
   "metadata": {},
   "outputs": [],
   "source": [
    "df_test = pd.read_csv(\"./content/test.csv\", index_col= 0)"
   ]
  },
  {
   "cell_type": "code",
   "execution_count": 187,
   "metadata": {},
   "outputs": [],
   "source": [
    "df_test = AddFitch(df_test)\n",
    "# X_test = XSplit(df_test)\n",
    "X_test = df_test.drop([\"title\",\"publish_date\", \"session\", \"tags\"], axis = 1)\n",
    "pred = regr.predict(X_test)"
   ]
  },
  {
   "cell_type": "code",
   "execution_count": 188,
   "metadata": {},
   "outputs": [],
   "source": [
    "submission = pd.DataFrame()\n",
    "submission['views'] = pred[:,0]\n",
    "submission['depth'] = pred[:,1]\n",
    "submission['full_reads_percent'] = pred[:,2]\n",
    "submission.index = df_test.index\n",
    "\n",
    "submission.to_csv('submission.csv')"
   ]
  },
  {
   "cell_type": "code",
   "execution_count": 189,
   "metadata": {},
   "outputs": [
    {
     "data": {
      "text/html": [
       "<div>\n",
       "<style scoped>\n",
       "    .dataframe tbody tr th:only-of-type {\n",
       "        vertical-align: middle;\n",
       "    }\n",
       "\n",
       "    .dataframe tbody tr th {\n",
       "        vertical-align: top;\n",
       "    }\n",
       "\n",
       "    .dataframe thead th {\n",
       "        text-align: right;\n",
       "    }\n",
       "</style>\n",
       "<table border=\"1\" class=\"dataframe\">\n",
       "  <thead>\n",
       "    <tr style=\"text-align: right;\">\n",
       "      <th></th>\n",
       "      <th>views</th>\n",
       "      <th>depth</th>\n",
       "      <th>full_reads_percent</th>\n",
       "    </tr>\n",
       "    <tr>\n",
       "      <th>document_id</th>\n",
       "      <th></th>\n",
       "      <th></th>\n",
       "      <th></th>\n",
       "    </tr>\n",
       "  </thead>\n",
       "  <tbody>\n",
       "    <tr>\n",
       "      <th>61f9569a9a794794245a82abJ0AvX96vTAaQCiWVbzoMdw</th>\n",
       "      <td>16953.341167</td>\n",
       "      <td>1.173984</td>\n",
       "      <td>40.332758</td>\n",
       "    </tr>\n",
       "    <tr>\n",
       "      <th>628c22b89a79470e553f594bQS5CqzXYRnmDdR2LaSreEw</th>\n",
       "      <td>14185.550000</td>\n",
       "      <td>1.055250</td>\n",
       "      <td>32.562330</td>\n",
       "    </tr>\n",
       "    <tr>\n",
       "      <th>627cb3249a7947ebdd752865XVsoyrUOT8OJJg2_finJhw</th>\n",
       "      <td>11110.210000</td>\n",
       "      <td>1.065850</td>\n",
       "      <td>30.788830</td>\n",
       "    </tr>\n",
       "    <tr>\n",
       "      <th>628618629a7947d4927eb812upfii3whSSuMXCqcqF8VbQ</th>\n",
       "      <td>7868.918000</td>\n",
       "      <td>1.066882</td>\n",
       "      <td>30.035280</td>\n",
       "    </tr>\n",
       "    <tr>\n",
       "      <th>620e76109a7947235623695b5hzCiIHdSYKQIr8WAM18bw</th>\n",
       "      <td>170829.290000</td>\n",
       "      <td>1.143120</td>\n",
       "      <td>36.005080</td>\n",
       "    </tr>\n",
       "    <tr>\n",
       "      <th>...</th>\n",
       "      <td>...</td>\n",
       "      <td>...</td>\n",
       "      <td>...</td>\n",
       "    </tr>\n",
       "    <tr>\n",
       "      <th>623ba6bc9a79470214cb9418x4OZQ1IjTb27nPAgv5wAZg</th>\n",
       "      <td>42720.750000</td>\n",
       "      <td>1.148430</td>\n",
       "      <td>33.826770</td>\n",
       "    </tr>\n",
       "    <tr>\n",
       "      <th>624fda1f9a79471a9bd102eetuRTrLPGSZyNbc9_YcBAeQ</th>\n",
       "      <td>56034.670000</td>\n",
       "      <td>1.135110</td>\n",
       "      <td>28.959050</td>\n",
       "    </tr>\n",
       "    <tr>\n",
       "      <th>6257a6a99a79477eea75b86dtBr3UG9ORW-gOybkVKX6ww</th>\n",
       "      <td>12984.260000</td>\n",
       "      <td>1.068410</td>\n",
       "      <td>34.947530</td>\n",
       "    </tr>\n",
       "    <tr>\n",
       "      <th>624866d59a7947421716ab46WsGDKyGjTJGRh14eR7UVvw</th>\n",
       "      <td>18957.070000</td>\n",
       "      <td>1.147860</td>\n",
       "      <td>40.058200</td>\n",
       "    </tr>\n",
       "    <tr>\n",
       "      <th>6236f9129a79477b0ef18ae0ewByZQ1FQBK2dpXyY77rYw</th>\n",
       "      <td>21841.247667</td>\n",
       "      <td>1.157921</td>\n",
       "      <td>37.185049</td>\n",
       "    </tr>\n",
       "  </tbody>\n",
       "</table>\n",
       "<p>3000 rows × 3 columns</p>\n",
       "</div>"
      ],
      "text/plain": [
       "                                                        views     depth  \\\n",
       "document_id                                                               \n",
       "61f9569a9a794794245a82abJ0AvX96vTAaQCiWVbzoMdw   16953.341167  1.173984   \n",
       "628c22b89a79470e553f594bQS5CqzXYRnmDdR2LaSreEw   14185.550000  1.055250   \n",
       "627cb3249a7947ebdd752865XVsoyrUOT8OJJg2_finJhw   11110.210000  1.065850   \n",
       "628618629a7947d4927eb812upfii3whSSuMXCqcqF8VbQ    7868.918000  1.066882   \n",
       "620e76109a7947235623695b5hzCiIHdSYKQIr8WAM18bw  170829.290000  1.143120   \n",
       "...                                                       ...       ...   \n",
       "623ba6bc9a79470214cb9418x4OZQ1IjTb27nPAgv5wAZg   42720.750000  1.148430   \n",
       "624fda1f9a79471a9bd102eetuRTrLPGSZyNbc9_YcBAeQ   56034.670000  1.135110   \n",
       "6257a6a99a79477eea75b86dtBr3UG9ORW-gOybkVKX6ww   12984.260000  1.068410   \n",
       "624866d59a7947421716ab46WsGDKyGjTJGRh14eR7UVvw   18957.070000  1.147860   \n",
       "6236f9129a79477b0ef18ae0ewByZQ1FQBK2dpXyY77rYw   21841.247667  1.157921   \n",
       "\n",
       "                                                full_reads_percent  \n",
       "document_id                                                         \n",
       "61f9569a9a794794245a82abJ0AvX96vTAaQCiWVbzoMdw           40.332758  \n",
       "628c22b89a79470e553f594bQS5CqzXYRnmDdR2LaSreEw           32.562330  \n",
       "627cb3249a7947ebdd752865XVsoyrUOT8OJJg2_finJhw           30.788830  \n",
       "628618629a7947d4927eb812upfii3whSSuMXCqcqF8VbQ           30.035280  \n",
       "620e76109a7947235623695b5hzCiIHdSYKQIr8WAM18bw           36.005080  \n",
       "...                                                            ...  \n",
       "623ba6bc9a79470214cb9418x4OZQ1IjTb27nPAgv5wAZg           33.826770  \n",
       "624fda1f9a79471a9bd102eetuRTrLPGSZyNbc9_YcBAeQ           28.959050  \n",
       "6257a6a99a79477eea75b86dtBr3UG9ORW-gOybkVKX6ww           34.947530  \n",
       "624866d59a7947421716ab46WsGDKyGjTJGRh14eR7UVvw           40.058200  \n",
       "6236f9129a79477b0ef18ae0ewByZQ1FQBK2dpXyY77rYw           37.185049  \n",
       "\n",
       "[3000 rows x 3 columns]"
      ]
     },
     "execution_count": 189,
     "metadata": {},
     "output_type": "execute_result"
    }
   ],
   "source": [
    "submission"
   ]
  },
  {
   "cell_type": "code",
   "execution_count": 122,
   "metadata": {},
   "outputs": [
    {
     "data": {
      "text/html": [
       "<div>\n",
       "<style scoped>\n",
       "    .dataframe tbody tr th:only-of-type {\n",
       "        vertical-align: middle;\n",
       "    }\n",
       "\n",
       "    .dataframe tbody tr th {\n",
       "        vertical-align: top;\n",
       "    }\n",
       "\n",
       "    .dataframe thead th {\n",
       "        text-align: right;\n",
       "    }\n",
       "</style>\n",
       "<table border=\"1\" class=\"dataframe\">\n",
       "  <thead>\n",
       "    <tr style=\"text-align: right;\">\n",
       "      <th></th>\n",
       "      <th>title</th>\n",
       "      <th>publish_date</th>\n",
       "      <th>session</th>\n",
       "      <th>authors</th>\n",
       "      <th>ctr</th>\n",
       "      <th>category</th>\n",
       "      <th>tags</th>\n",
       "      <th>day</th>\n",
       "      <th>mounth</th>\n",
       "      <th>hour</th>\n",
       "      <th>weekday</th>\n",
       "    </tr>\n",
       "    <tr>\n",
       "      <th>document_id</th>\n",
       "      <th></th>\n",
       "      <th></th>\n",
       "      <th></th>\n",
       "      <th></th>\n",
       "      <th></th>\n",
       "      <th></th>\n",
       "      <th></th>\n",
       "      <th></th>\n",
       "      <th></th>\n",
       "      <th></th>\n",
       "      <th></th>\n",
       "    </tr>\n",
       "  </thead>\n",
       "  <tbody>\n",
       "    <tr>\n",
       "      <th>61f9569a9a794794245a82abJ0AvX96vTAaQCiWVbzoMdw</th>\n",
       "      <td>«Крайне провокационная тема»: как Россия и США...</td>\n",
       "      <td>2022-02-01 17:02:44</td>\n",
       "      <td>J0AvX96vTAaQCiWVbzoMdw</td>\n",
       "      <td>325</td>\n",
       "      <td>0.000</td>\n",
       "      <td>0</td>\n",
       "      <td>['58ca77679a794700b1e37f0a', '5409f1b7e063daa0...</td>\n",
       "      <td>1</td>\n",
       "      <td>2</td>\n",
       "      <td>17</td>\n",
       "      <td>1</td>\n",
       "    </tr>\n",
       "    <tr>\n",
       "      <th>628c22b89a79470e553f594bQS5CqzXYRnmDdR2LaSreEw</th>\n",
       "      <td>Власти Херсонской области пообещали сделать ру...</td>\n",
       "      <td>2022-05-24 00:50:55</td>\n",
       "      <td>QS5CqzXYRnmDdR2LaSreEw</td>\n",
       "      <td>325</td>\n",
       "      <td>1.598</td>\n",
       "      <td>0</td>\n",
       "      <td>['5433603acbb20f6e5def0cc5', '5409f420e063daa0...</td>\n",
       "      <td>24</td>\n",
       "      <td>5</td>\n",
       "      <td>0</td>\n",
       "      <td>1</td>\n",
       "    </tr>\n",
       "    <tr>\n",
       "      <th>627cb3249a7947ebdd752865XVsoyrUOT8OJJg2_finJhw</th>\n",
       "      <td>Премьер и президент Финляндии призвали срочно ...</td>\n",
       "      <td>2022-05-12 07:11:51</td>\n",
       "      <td>XVsoyrUOT8OJJg2_finJhw</td>\n",
       "      <td>325</td>\n",
       "      <td>2.006</td>\n",
       "      <td>0</td>\n",
       "      <td>['5409f270e063daa0f408b0a7', '5409f196e063daa0...</td>\n",
       "      <td>12</td>\n",
       "      <td>5</td>\n",
       "      <td>7</td>\n",
       "      <td>3</td>\n",
       "    </tr>\n",
       "    <tr>\n",
       "      <th>628618629a7947d4927eb812upfii3whSSuMXCqcqF8VbQ</th>\n",
       "      <td>В Госдуму внесли проект о временных администра...</td>\n",
       "      <td>2022-05-19 11:54:35</td>\n",
       "      <td>upfii3whSSuMXCqcqF8VbQ</td>\n",
       "      <td>325</td>\n",
       "      <td>0.000</td>\n",
       "      <td>0</td>\n",
       "      <td>['5409f145e063daa0f408ad35', '5409f30fe063daa0...</td>\n",
       "      <td>19</td>\n",
       "      <td>5</td>\n",
       "      <td>11</td>\n",
       "      <td>3</td>\n",
       "    </tr>\n",
       "    <tr>\n",
       "      <th>620e76109a7947235623695b5hzCiIHdSYKQIr8WAM18bw</th>\n",
       "      <td>Блинкен заявил в ООН о готовности России начат...</td>\n",
       "      <td>2022-02-17 16:28:55</td>\n",
       "      <td>5hzCiIHdSYKQIr8WAM18bw</td>\n",
       "      <td>217</td>\n",
       "      <td>9.136</td>\n",
       "      <td>0</td>\n",
       "      <td>['5409f15de063daa0f408ada8', '545d4dcdcbb20fbc...</td>\n",
       "      <td>17</td>\n",
       "      <td>2</td>\n",
       "      <td>16</td>\n",
       "      <td>3</td>\n",
       "    </tr>\n",
       "    <tr>\n",
       "      <th>...</th>\n",
       "      <td>...</td>\n",
       "      <td>...</td>\n",
       "      <td>...</td>\n",
       "      <td>...</td>\n",
       "      <td>...</td>\n",
       "      <td>...</td>\n",
       "      <td>...</td>\n",
       "      <td>...</td>\n",
       "      <td>...</td>\n",
       "      <td>...</td>\n",
       "      <td>...</td>\n",
       "    </tr>\n",
       "    <tr>\n",
       "      <th>623ba6bc9a79470214cb9418x4OZQ1IjTb27nPAgv5wAZg</th>\n",
       "      <td>Суд не стал публиковать решение о запрете Face...</td>\n",
       "      <td>2022-03-23 23:28:34</td>\n",
       "      <td>x4OZQ1IjTb27nPAgv5wAZg</td>\n",
       "      <td>164</td>\n",
       "      <td>1.788</td>\n",
       "      <td>4</td>\n",
       "      <td>['5409f289e063daa0f408b0da', '54289bd7cbb20f85...</td>\n",
       "      <td>23</td>\n",
       "      <td>3</td>\n",
       "      <td>23</td>\n",
       "      <td>2</td>\n",
       "    </tr>\n",
       "    <tr>\n",
       "      <th>624fda1f9a79471a9bd102eetuRTrLPGSZyNbc9_YcBAeQ</th>\n",
       "      <td>ИT-компания EPAM объявила об уходе из России</td>\n",
       "      <td>2022-04-08 08:07:17</td>\n",
       "      <td>tuRTrLPGSZyNbc9_YcBAeQ</td>\n",
       "      <td>188</td>\n",
       "      <td>4.427</td>\n",
       "      <td>3</td>\n",
       "      <td>['546240cdcbb20f8a5c90571b', '5409f3e8e063daa0...</td>\n",
       "      <td>8</td>\n",
       "      <td>4</td>\n",
       "      <td>8</td>\n",
       "      <td>4</td>\n",
       "    </tr>\n",
       "    <tr>\n",
       "      <th>6257a6a99a79477eea75b86dtBr3UG9ORW-gOybkVKX6ww</th>\n",
       "      <td>МИД сообщил о желании стран ЕАЭС отказаться от...</td>\n",
       "      <td>2022-04-14 05:18:59</td>\n",
       "      <td>tBr3UG9ORW-gOybkVKX6ww</td>\n",
       "      <td>325</td>\n",
       "      <td>0.000</td>\n",
       "      <td>1</td>\n",
       "      <td>['5409f1a3e063daa0f408ae98', '5437f9eccbb20f61...</td>\n",
       "      <td>14</td>\n",
       "      <td>4</td>\n",
       "      <td>5</td>\n",
       "      <td>3</td>\n",
       "    </tr>\n",
       "    <tr>\n",
       "      <th>624866d59a7947421716ab46WsGDKyGjTJGRh14eR7UVvw</th>\n",
       "      <td>Wikileaks сообщила дату заседания суда по экст...</td>\n",
       "      <td>2022-04-02 15:59:06</td>\n",
       "      <td>WsGDKyGjTJGRh14eR7UVvw</td>\n",
       "      <td>325</td>\n",
       "      <td>0.000</td>\n",
       "      <td>5</td>\n",
       "      <td>['54b3fc039a794779915a6c71', '559691229a79471c...</td>\n",
       "      <td>2</td>\n",
       "      <td>4</td>\n",
       "      <td>15</td>\n",
       "      <td>5</td>\n",
       "    </tr>\n",
       "    <tr>\n",
       "      <th>6236f9129a79477b0ef18ae0ewByZQ1FQBK2dpXyY77rYw</th>\n",
       "      <td>Захарова посоветовала немцам меньше дышать для...</td>\n",
       "      <td>2022-03-20 10:33:05</td>\n",
       "      <td>ewByZQ1FQBK2dpXyY77rYw</td>\n",
       "      <td>325</td>\n",
       "      <td>0.000</td>\n",
       "      <td>0</td>\n",
       "      <td>['556e926a9a794721a7851f18', '559d63ac9a794712...</td>\n",
       "      <td>20</td>\n",
       "      <td>3</td>\n",
       "      <td>10</td>\n",
       "      <td>6</td>\n",
       "    </tr>\n",
       "  </tbody>\n",
       "</table>\n",
       "<p>3000 rows × 11 columns</p>\n",
       "</div>"
      ],
      "text/plain": [
       "                                                                                            title  \\\n",
       "document_id                                                                                         \n",
       "61f9569a9a794794245a82abJ0AvX96vTAaQCiWVbzoMdw  «Крайне провокационная тема»: как Россия и США...   \n",
       "628c22b89a79470e553f594bQS5CqzXYRnmDdR2LaSreEw  Власти Херсонской области пообещали сделать ру...   \n",
       "627cb3249a7947ebdd752865XVsoyrUOT8OJJg2_finJhw  Премьер и президент Финляндии призвали срочно ...   \n",
       "628618629a7947d4927eb812upfii3whSSuMXCqcqF8VbQ  В Госдуму внесли проект о временных администра...   \n",
       "620e76109a7947235623695b5hzCiIHdSYKQIr8WAM18bw  Блинкен заявил в ООН о готовности России начат...   \n",
       "...                                                                                           ...   \n",
       "623ba6bc9a79470214cb9418x4OZQ1IjTb27nPAgv5wAZg  Суд не стал публиковать решение о запрете Face...   \n",
       "624fda1f9a79471a9bd102eetuRTrLPGSZyNbc9_YcBAeQ       ИT-компания EPAM объявила об уходе из России   \n",
       "6257a6a99a79477eea75b86dtBr3UG9ORW-gOybkVKX6ww  МИД сообщил о желании стран ЕАЭС отказаться от...   \n",
       "624866d59a7947421716ab46WsGDKyGjTJGRh14eR7UVvw  Wikileaks сообщила дату заседания суда по экст...   \n",
       "6236f9129a79477b0ef18ae0ewByZQ1FQBK2dpXyY77rYw  Захарова посоветовала немцам меньше дышать для...   \n",
       "\n",
       "                                                      publish_date  \\\n",
       "document_id                                                          \n",
       "61f9569a9a794794245a82abJ0AvX96vTAaQCiWVbzoMdw 2022-02-01 17:02:44   \n",
       "628c22b89a79470e553f594bQS5CqzXYRnmDdR2LaSreEw 2022-05-24 00:50:55   \n",
       "627cb3249a7947ebdd752865XVsoyrUOT8OJJg2_finJhw 2022-05-12 07:11:51   \n",
       "628618629a7947d4927eb812upfii3whSSuMXCqcqF8VbQ 2022-05-19 11:54:35   \n",
       "620e76109a7947235623695b5hzCiIHdSYKQIr8WAM18bw 2022-02-17 16:28:55   \n",
       "...                                                            ...   \n",
       "623ba6bc9a79470214cb9418x4OZQ1IjTb27nPAgv5wAZg 2022-03-23 23:28:34   \n",
       "624fda1f9a79471a9bd102eetuRTrLPGSZyNbc9_YcBAeQ 2022-04-08 08:07:17   \n",
       "6257a6a99a79477eea75b86dtBr3UG9ORW-gOybkVKX6ww 2022-04-14 05:18:59   \n",
       "624866d59a7947421716ab46WsGDKyGjTJGRh14eR7UVvw 2022-04-02 15:59:06   \n",
       "6236f9129a79477b0ef18ae0ewByZQ1FQBK2dpXyY77rYw 2022-03-20 10:33:05   \n",
       "\n",
       "                                                               session  \\\n",
       "document_id                                                              \n",
       "61f9569a9a794794245a82abJ0AvX96vTAaQCiWVbzoMdw  J0AvX96vTAaQCiWVbzoMdw   \n",
       "628c22b89a79470e553f594bQS5CqzXYRnmDdR2LaSreEw  QS5CqzXYRnmDdR2LaSreEw   \n",
       "627cb3249a7947ebdd752865XVsoyrUOT8OJJg2_finJhw  XVsoyrUOT8OJJg2_finJhw   \n",
       "628618629a7947d4927eb812upfii3whSSuMXCqcqF8VbQ  upfii3whSSuMXCqcqF8VbQ   \n",
       "620e76109a7947235623695b5hzCiIHdSYKQIr8WAM18bw  5hzCiIHdSYKQIr8WAM18bw   \n",
       "...                                                                ...   \n",
       "623ba6bc9a79470214cb9418x4OZQ1IjTb27nPAgv5wAZg  x4OZQ1IjTb27nPAgv5wAZg   \n",
       "624fda1f9a79471a9bd102eetuRTrLPGSZyNbc9_YcBAeQ  tuRTrLPGSZyNbc9_YcBAeQ   \n",
       "6257a6a99a79477eea75b86dtBr3UG9ORW-gOybkVKX6ww  tBr3UG9ORW-gOybkVKX6ww   \n",
       "624866d59a7947421716ab46WsGDKyGjTJGRh14eR7UVvw  WsGDKyGjTJGRh14eR7UVvw   \n",
       "6236f9129a79477b0ef18ae0ewByZQ1FQBK2dpXyY77rYw  ewByZQ1FQBK2dpXyY77rYw   \n",
       "\n",
       "                                                authors    ctr  category  \\\n",
       "document_id                                                                \n",
       "61f9569a9a794794245a82abJ0AvX96vTAaQCiWVbzoMdw      325  0.000         0   \n",
       "628c22b89a79470e553f594bQS5CqzXYRnmDdR2LaSreEw      325  1.598         0   \n",
       "627cb3249a7947ebdd752865XVsoyrUOT8OJJg2_finJhw      325  2.006         0   \n",
       "628618629a7947d4927eb812upfii3whSSuMXCqcqF8VbQ      325  0.000         0   \n",
       "620e76109a7947235623695b5hzCiIHdSYKQIr8WAM18bw      217  9.136         0   \n",
       "...                                                 ...    ...       ...   \n",
       "623ba6bc9a79470214cb9418x4OZQ1IjTb27nPAgv5wAZg      164  1.788         4   \n",
       "624fda1f9a79471a9bd102eetuRTrLPGSZyNbc9_YcBAeQ      188  4.427         3   \n",
       "6257a6a99a79477eea75b86dtBr3UG9ORW-gOybkVKX6ww      325  0.000         1   \n",
       "624866d59a7947421716ab46WsGDKyGjTJGRh14eR7UVvw      325  0.000         5   \n",
       "6236f9129a79477b0ef18ae0ewByZQ1FQBK2dpXyY77rYw      325  0.000         0   \n",
       "\n",
       "                                                                                             tags  \\\n",
       "document_id                                                                                         \n",
       "61f9569a9a794794245a82abJ0AvX96vTAaQCiWVbzoMdw  ['58ca77679a794700b1e37f0a', '5409f1b7e063daa0...   \n",
       "628c22b89a79470e553f594bQS5CqzXYRnmDdR2LaSreEw  ['5433603acbb20f6e5def0cc5', '5409f420e063daa0...   \n",
       "627cb3249a7947ebdd752865XVsoyrUOT8OJJg2_finJhw  ['5409f270e063daa0f408b0a7', '5409f196e063daa0...   \n",
       "628618629a7947d4927eb812upfii3whSSuMXCqcqF8VbQ  ['5409f145e063daa0f408ad35', '5409f30fe063daa0...   \n",
       "620e76109a7947235623695b5hzCiIHdSYKQIr8WAM18bw  ['5409f15de063daa0f408ada8', '545d4dcdcbb20fbc...   \n",
       "...                                                                                           ...   \n",
       "623ba6bc9a79470214cb9418x4OZQ1IjTb27nPAgv5wAZg  ['5409f289e063daa0f408b0da', '54289bd7cbb20f85...   \n",
       "624fda1f9a79471a9bd102eetuRTrLPGSZyNbc9_YcBAeQ  ['546240cdcbb20f8a5c90571b', '5409f3e8e063daa0...   \n",
       "6257a6a99a79477eea75b86dtBr3UG9ORW-gOybkVKX6ww  ['5409f1a3e063daa0f408ae98', '5437f9eccbb20f61...   \n",
       "624866d59a7947421716ab46WsGDKyGjTJGRh14eR7UVvw  ['54b3fc039a794779915a6c71', '559691229a79471c...   \n",
       "6236f9129a79477b0ef18ae0ewByZQ1FQBK2dpXyY77rYw  ['556e926a9a794721a7851f18', '559d63ac9a794712...   \n",
       "\n",
       "                                                day  mounth  hour  weekday  \n",
       "document_id                                                                 \n",
       "61f9569a9a794794245a82abJ0AvX96vTAaQCiWVbzoMdw    1       2    17        1  \n",
       "628c22b89a79470e553f594bQS5CqzXYRnmDdR2LaSreEw   24       5     0        1  \n",
       "627cb3249a7947ebdd752865XVsoyrUOT8OJJg2_finJhw   12       5     7        3  \n",
       "628618629a7947d4927eb812upfii3whSSuMXCqcqF8VbQ   19       5    11        3  \n",
       "620e76109a7947235623695b5hzCiIHdSYKQIr8WAM18bw   17       2    16        3  \n",
       "...                                             ...     ...   ...      ...  \n",
       "623ba6bc9a79470214cb9418x4OZQ1IjTb27nPAgv5wAZg   23       3    23        2  \n",
       "624fda1f9a79471a9bd102eetuRTrLPGSZyNbc9_YcBAeQ    8       4     8        4  \n",
       "6257a6a99a79477eea75b86dtBr3UG9ORW-gOybkVKX6ww   14       4     5        3  \n",
       "624866d59a7947421716ab46WsGDKyGjTJGRh14eR7UVvw    2       4    15        5  \n",
       "6236f9129a79477b0ef18ae0ewByZQ1FQBK2dpXyY77rYw   20       3    10        6  \n",
       "\n",
       "[3000 rows x 11 columns]"
      ]
     },
     "execution_count": 122,
     "metadata": {},
     "output_type": "execute_result"
    }
   ],
   "source": [
    "df_test"
   ]
  }
 ],
 "metadata": {
  "colab": {
   "name": "RBK_baseline.ipynb",
   "provenance": [],
   "toc_visible": true
  },
  "kernelspec": {
   "display_name": "Python 3 (ipykernel)",
   "language": "python",
   "name": "python3"
  },
  "language_info": {
   "codemirror_mode": {
    "name": "ipython",
    "version": 3
   },
   "file_extension": ".py",
   "mimetype": "text/x-python",
   "name": "python",
   "nbconvert_exporter": "python",
   "pygments_lexer": "ipython3",
   "version": "3.8.10"
  }
 },
 "nbformat": 4,
 "nbformat_minor": 1
}
