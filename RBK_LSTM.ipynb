{
 "cells": [
  {
   "cell_type": "markdown",
   "metadata": {
    "id": "94nW2454wc8x"
   },
   "source": [
    "## Загрузим нужные библиотеки"
   ]
  },
  {
   "cell_type": "code",
   "execution_count": 1,
   "metadata": {
    "id": "yd1BP24w3ZTO"
   },
   "outputs": [],
   "source": [
    "import pandas as pd\n",
    "from sklearn.metrics import r2_score\n",
    "from sklearn.model_selection import train_test_split\n",
    "from sklearn.ensemble import RandomForestRegressor\n",
    "from sklearn.datasets import make_regression"
   ]
  },
  {
   "cell_type": "markdown",
   "metadata": {
    "id": "9OIyUVsswusW"
   },
   "source": [
    "Выполним загрузу датсета"
   ]
  },
  {
   "cell_type": "code",
   "execution_count": 2,
   "metadata": {
    "id": "gwTarAzQj56l"
   },
   "outputs": [],
   "source": [
    "df_train = pd.read_csv(\"./content/train.csv\", index_col= 0)"
   ]
  },
  {
   "cell_type": "markdown",
   "metadata": {
    "id": "3uyCO6zQzMLy"
   },
   "source": [
    "## Проанализируем датасет"
   ]
  },
  {
   "cell_type": "code",
   "execution_count": 3,
   "metadata": {
    "colab": {
     "base_uri": "https://localhost:8080/"
    },
    "id": "d75CKVf9y9ty",
    "outputId": "5a3219ff-3048-4494-f942-7a5efaea96c4"
   },
   "outputs": [
    {
     "name": "stdout",
     "output_type": "stream",
     "text": [
      "<class 'pandas.core.frame.DataFrame'>\n",
      "Index: 7000 entries, 624ac09c9a7947db3d80c98eIDE7mtH4RBqGn-8MXfGffQ to 627f1c089a794743b070ff73hVvdVmFxS2SlZ2_lECDEow\n",
      "Data columns (total 10 columns):\n",
      " #   Column              Non-Null Count  Dtype  \n",
      "---  ------              --------------  -----  \n",
      " 0   title               7000 non-null   object \n",
      " 1   publish_date        7000 non-null   object \n",
      " 2   session             7000 non-null   object \n",
      " 3   authors             7000 non-null   object \n",
      " 4   ctr                 7000 non-null   float64\n",
      " 5   category            7000 non-null   object \n",
      " 6   tags                7000 non-null   object \n",
      " 7   views               7000 non-null   int64  \n",
      " 8   depth               7000 non-null   float64\n",
      " 9   full_reads_percent  7000 non-null   float64\n",
      "dtypes: float64(3), int64(1), object(6)\n",
      "memory usage: 601.6+ KB\n"
     ]
    }
   ],
   "source": [
    "df_train.info()"
   ]
  },
  {
   "cell_type": "markdown",
   "metadata": {
    "id": "PddMw1pl0ZnL"
   },
   "source": [
    "Заменим категорию и автора на число"
   ]
  },
  {
   "cell_type": "code",
   "execution_count": 4,
   "metadata": {},
   "outputs": [],
   "source": [
    "def AddFitch(df):\n",
    "    df[\"category\"] = df[\"category\"].astype('category')\n",
    "    df[\"category\"] = df[\"category\"].cat.codes\n",
    "    df[\"category\"] = df[\"category\"].astype('int')\n",
    "    df[\"authors\"] = df[\"authors\"].astype('category')\n",
    "    df[\"authors\"] = df[\"authors\"].cat.codes\n",
    "    df[\"authors\"] = df[\"authors\"].astype('int')\n",
    "    \n",
    "    df['publish_date'] = pd.to_datetime(df['publish_date'])\n",
    "    df['day'] = df['publish_date'].dt.strftime(\"%d\").astype(int)\n",
    "    df['mounth'] = df['publish_date'].dt.strftime(\"%m\").astype(int)\n",
    "    df['hour'] = df['publish_date'].dt.strftime(\"%H\").astype(int)\n",
    "    df['weekday'] = df['publish_date'].dt.dayofweek\n",
    "    return df"
   ]
  },
  {
   "cell_type": "code",
   "execution_count": 5,
   "metadata": {},
   "outputs": [],
   "source": [
    "df_train = AddFitch(df_train)"
   ]
  },
  {
   "cell_type": "code",
   "execution_count": 9,
   "metadata": {
    "colab": {
     "base_uri": "https://localhost:8080/",
     "height": 464
    },
    "id": "zt8MAx0Cj5_V",
    "outputId": "7bc0d7a5-0ea0-4c38-b2dc-2f24c0828244"
   },
   "outputs": [
    {
     "data": {
      "text/html": [
       "<div>\n",
       "<style scoped>\n",
       "    .dataframe tbody tr th:only-of-type {\n",
       "        vertical-align: middle;\n",
       "    }\n",
       "\n",
       "    .dataframe tbody tr th {\n",
       "        vertical-align: top;\n",
       "    }\n",
       "\n",
       "    .dataframe thead th {\n",
       "        text-align: right;\n",
       "    }\n",
       "</style>\n",
       "<table border=\"1\" class=\"dataframe\">\n",
       "  <thead>\n",
       "    <tr style=\"text-align: right;\">\n",
       "      <th></th>\n",
       "      <th>title</th>\n",
       "      <th>publish_date</th>\n",
       "      <th>session</th>\n",
       "      <th>authors</th>\n",
       "      <th>ctr</th>\n",
       "      <th>category</th>\n",
       "      <th>tags</th>\n",
       "      <th>views</th>\n",
       "      <th>depth</th>\n",
       "      <th>full_reads_percent</th>\n",
       "      <th>day</th>\n",
       "      <th>mounth</th>\n",
       "      <th>hour</th>\n",
       "      <th>weekday</th>\n",
       "    </tr>\n",
       "    <tr>\n",
       "      <th>document_id</th>\n",
       "      <th></th>\n",
       "      <th></th>\n",
       "      <th></th>\n",
       "      <th></th>\n",
       "      <th></th>\n",
       "      <th></th>\n",
       "      <th></th>\n",
       "      <th></th>\n",
       "      <th></th>\n",
       "      <th></th>\n",
       "      <th></th>\n",
       "      <th></th>\n",
       "      <th></th>\n",
       "      <th></th>\n",
       "    </tr>\n",
       "  </thead>\n",
       "  <tbody>\n",
       "    <tr>\n",
       "      <th>624ac09c9a7947db3d80c98eIDE7mtH4RBqGn-8MXfGffQ</th>\n",
       "      <td>Европейский банк развития приостановил доступ ...</td>\n",
       "      <td>2022-04-04 10:29:44</td>\n",
       "      <td>IDE7mtH4RBqGn-8MXfGffQ</td>\n",
       "      <td>560</td>\n",
       "      <td>1.580</td>\n",
       "      <td>2</td>\n",
       "      <td>['55928d339a794751dc8303d6', '542d1e28cbb20f86...</td>\n",
       "      <td>20460</td>\n",
       "      <td>1.134</td>\n",
       "      <td>35.850</td>\n",
       "      <td>4</td>\n",
       "      <td>4</td>\n",
       "      <td>10</td>\n",
       "      <td>0</td>\n",
       "    </tr>\n",
       "    <tr>\n",
       "      <th>620f6b899a7947701cf489e1KtVJsteHStO5oditt3Uvzw</th>\n",
       "      <td>Кремль назвал регулярным процессом учебные зап...</td>\n",
       "      <td>2022-02-18 10:00:39</td>\n",
       "      <td>KtVJsteHStO5oditt3Uvzw</td>\n",
       "      <td>38</td>\n",
       "      <td>1.853</td>\n",
       "      <td>0</td>\n",
       "      <td>['549d25df9a794775979561d2', '58abcf539a7947f1...</td>\n",
       "      <td>19038</td>\n",
       "      <td>1.142</td>\n",
       "      <td>38.355</td>\n",
       "      <td>18</td>\n",
       "      <td>2</td>\n",
       "      <td>10</td>\n",
       "      <td>4</td>\n",
       "    </tr>\n",
       "    <tr>\n",
       "      <th>620730cf9a7947ab96a44e27hk7puWJwSziw0m3sfTkKWA</th>\n",
       "      <td>Госсекретарь Швеции заявила о нежелании вступа...</td>\n",
       "      <td>2022-02-12 04:24:02</td>\n",
       "      <td>hk7puWJwSziw0m3sfTkKWA</td>\n",
       "      <td>560</td>\n",
       "      <td>0.000</td>\n",
       "      <td>0</td>\n",
       "      <td>['5430f451cbb20f73931ecd05', '5409f15de063daa0...</td>\n",
       "      <td>51151</td>\n",
       "      <td>1.185</td>\n",
       "      <td>36.424</td>\n",
       "      <td>12</td>\n",
       "      <td>2</td>\n",
       "      <td>4</td>\n",
       "      <td>5</td>\n",
       "    </tr>\n",
       "  </tbody>\n",
       "</table>\n",
       "</div>"
      ],
      "text/plain": [
       "                                                                                            title  \\\n",
       "document_id                                                                                         \n",
       "624ac09c9a7947db3d80c98eIDE7mtH4RBqGn-8MXfGffQ  Европейский банк развития приостановил доступ ...   \n",
       "620f6b899a7947701cf489e1KtVJsteHStO5oditt3Uvzw  Кремль назвал регулярным процессом учебные зап...   \n",
       "620730cf9a7947ab96a44e27hk7puWJwSziw0m3sfTkKWA  Госсекретарь Швеции заявила о нежелании вступа...   \n",
       "\n",
       "                                                      publish_date  \\\n",
       "document_id                                                          \n",
       "624ac09c9a7947db3d80c98eIDE7mtH4RBqGn-8MXfGffQ 2022-04-04 10:29:44   \n",
       "620f6b899a7947701cf489e1KtVJsteHStO5oditt3Uvzw 2022-02-18 10:00:39   \n",
       "620730cf9a7947ab96a44e27hk7puWJwSziw0m3sfTkKWA 2022-02-12 04:24:02   \n",
       "\n",
       "                                                               session  \\\n",
       "document_id                                                              \n",
       "624ac09c9a7947db3d80c98eIDE7mtH4RBqGn-8MXfGffQ  IDE7mtH4RBqGn-8MXfGffQ   \n",
       "620f6b899a7947701cf489e1KtVJsteHStO5oditt3Uvzw  KtVJsteHStO5oditt3Uvzw   \n",
       "620730cf9a7947ab96a44e27hk7puWJwSziw0m3sfTkKWA  hk7puWJwSziw0m3sfTkKWA   \n",
       "\n",
       "                                                authors    ctr  category  \\\n",
       "document_id                                                                \n",
       "624ac09c9a7947db3d80c98eIDE7mtH4RBqGn-8MXfGffQ      560  1.580         2   \n",
       "620f6b899a7947701cf489e1KtVJsteHStO5oditt3Uvzw       38  1.853         0   \n",
       "620730cf9a7947ab96a44e27hk7puWJwSziw0m3sfTkKWA      560  0.000         0   \n",
       "\n",
       "                                                                                             tags  \\\n",
       "document_id                                                                                         \n",
       "624ac09c9a7947db3d80c98eIDE7mtH4RBqGn-8MXfGffQ  ['55928d339a794751dc8303d6', '542d1e28cbb20f86...   \n",
       "620f6b899a7947701cf489e1KtVJsteHStO5oditt3Uvzw  ['549d25df9a794775979561d2', '58abcf539a7947f1...   \n",
       "620730cf9a7947ab96a44e27hk7puWJwSziw0m3sfTkKWA  ['5430f451cbb20f73931ecd05', '5409f15de063daa0...   \n",
       "\n",
       "                                                views  depth  \\\n",
       "document_id                                                    \n",
       "624ac09c9a7947db3d80c98eIDE7mtH4RBqGn-8MXfGffQ  20460  1.134   \n",
       "620f6b899a7947701cf489e1KtVJsteHStO5oditt3Uvzw  19038  1.142   \n",
       "620730cf9a7947ab96a44e27hk7puWJwSziw0m3sfTkKWA  51151  1.185   \n",
       "\n",
       "                                                full_reads_percent  day  \\\n",
       "document_id                                                               \n",
       "624ac09c9a7947db3d80c98eIDE7mtH4RBqGn-8MXfGffQ              35.850    4   \n",
       "620f6b899a7947701cf489e1KtVJsteHStO5oditt3Uvzw              38.355   18   \n",
       "620730cf9a7947ab96a44e27hk7puWJwSziw0m3sfTkKWA              36.424   12   \n",
       "\n",
       "                                                mounth  hour  weekday  \n",
       "document_id                                                            \n",
       "624ac09c9a7947db3d80c98eIDE7mtH4RBqGn-8MXfGffQ       4    10        0  \n",
       "620f6b899a7947701cf489e1KtVJsteHStO5oditt3Uvzw       2    10        4  \n",
       "620730cf9a7947ab96a44e27hk7puWJwSziw0m3sfTkKWA       2     4        5  "
      ]
     },
     "execution_count": 9,
     "metadata": {},
     "output_type": "execute_result"
    }
   ],
   "source": [
    "df_train.head(3)"
   ]
  },
  {
   "cell_type": "code",
   "execution_count": 10,
   "metadata": {},
   "outputs": [
    {
     "data": {
      "text/plain": [
       "561"
      ]
     },
     "execution_count": 10,
     "metadata": {},
     "output_type": "execute_result"
    }
   ],
   "source": [
    "len(df_train['authors'].unique())"
   ]
  },
  {
   "cell_type": "code",
   "execution_count": 287,
   "metadata": {
    "colab": {
     "base_uri": "https://localhost:8080/",
     "height": 736
    },
    "id": "ROaaSpFKj6B7",
    "outputId": "0f52de35-a9e8-4bf5-e170-29dbb64ac67f"
   },
   "outputs": [],
   "source": [
    "features = list(set(df_train.columns) - set(['publish_date']))\n",
    "\n",
    "# _ = df_train[features].hist(figsize=(20,12))"
   ]
  },
  {
   "cell_type": "markdown",
   "metadata": {
    "id": "ZMq8B6MB1m4M"
   },
   "source": [
    "Всего 9 категорий статей"
   ]
  },
  {
   "cell_type": "code",
   "execution_count": 12,
   "metadata": {
    "colab": {
     "base_uri": "https://localhost:8080/"
    },
    "id": "oHbrnP6Zj6EP",
    "outputId": "d97ca2a5-5dd8-47b4-ae3d-1982d5e0b5a7"
   },
   "outputs": [
    {
     "data": {
      "text/plain": [
       "0    3988\n",
       "5    1456\n",
       "3     667\n",
       "1     338\n",
       "4     283\n",
       "2     265\n",
       "7       1\n",
       "6       1\n",
       "8       1\n",
       "Name: category, dtype: int64"
      ]
     },
     "execution_count": 12,
     "metadata": {},
     "output_type": "execute_result"
    }
   ],
   "source": [
    "df_train.category.value_counts()"
   ]
  },
  {
   "cell_type": "markdown",
   "metadata": {},
   "source": [
    "Рассмотрим заголовки"
   ]
  },
  {
   "cell_type": "code",
   "execution_count": 13,
   "metadata": {},
   "outputs": [
    {
     "data": {
      "text/plain": [
       "Какие места на Украине взяли под контроль российские военные. Карта                                                                                                                10\n",
       "Как менялась ключевая ставка ЦБ за последние годы. Инфографика                                                                                                                      7\n",
       "Как Запад и Россия поставили рекорд по высылкам дипломатов. Инфографика                                                                                                             6\n",
       "Какие приграничные пункты попали под обстрел со стороны Украины. Карта                                                                                                              5\n",
       "Какие регионы объявили высокий уровень террористической опасности. Карта                                                                                                            4\n",
       "                                                                                                                                                                                   ..\n",
       "Медведев ответил представителю НАТО об акте с Россией фразой на латыни                                                                                                              1\n",
       "МИД назвал Bild «перешедшей границы» из-за статьи о вторжении на Украину\\n                \\n                                                    \\n\\n    \\n\\n    Политика, 00:31     1\n",
       "В Канзасе женщина погибла в перестрелке с полицией\\n                \\n                                                    \\n\\n    \\n\\n    Общество, 10:29                           1\n",
       "В МИДе заявили, что Россия не будет просить ЕС об отмене санкций\\n                \\n                                                    \\n\\n    \\n\\n    Политика, 07:54             1\n",
       "Минфин США предостерег зарубежные банки от помощи России в обходе санкций                                                                                                           1\n",
       "Name: title, Length: 6954, dtype: int64"
      ]
     },
     "execution_count": 13,
     "metadata": {},
     "output_type": "execute_result"
    }
   ],
   "source": [
    "all_headlines = df_train['title']\n",
    "all_headlines.value_counts()"
   ]
  },
  {
   "cell_type": "code",
   "execution_count": 14,
   "metadata": {},
   "outputs": [
    {
     "data": {
      "text/plain": [
       "document_id\n",
       "624ac09c9a7947db3d80c98eIDE7mtH4RBqGn-8MXfGffQ    Европейский банк развития приостановил доступ ...\n",
       "620f6b899a7947701cf489e1KtVJsteHStO5oditt3Uvzw    Кремль назвал регулярным процессом учебные зап...\n",
       "620730cf9a7947ab96a44e27hk7puWJwSziw0m3sfTkKWA    Госсекретарь Швеции заявила о нежелании вступа...\n",
       "6262a5889a79470b78c9ca307UKY2SSZTjCcjhwBzxw37w    Песков назвал прагматичной выдачу лицензии Газ...\n",
       "626678929a79477ca0101568wuMYES90REuV5YhrN75IXg    В Хабаровске задержали главу филиала РАНХиГС п...\n",
       "                                                                        ...                        \n",
       "61fd479c9a7947848183694751RC_1i5QlGuv7B2FzwTjw    Открытие Олимпиады, новые китайские контракты ...\n",
       "628a8f1c9a79478c64a7dae450tIkSGVSf2O8XQgk_uaHQ    Саудовская Аравия выразила надежду на соглашен...\n",
       "6244cf5e9a79479099346b26tKlqoxQYSmij0ZBrGzebug    Брюс Уиллис завершит актерскую карьеру из-за б...\n",
       "627303699a794749b8116abc12JX_3ZDTDu2XHF3k2eJVg    Экс-посол Франции назвал болезненным для Европ...\n",
       "627f1c089a794743b070ff73hVvdVmFxS2SlZ2_lECDEow    Минфин США предостерег зарубежные банки от пом...\n",
       "Name: title, Length: 7000, dtype: object"
      ]
     },
     "execution_count": 14,
     "metadata": {},
     "output_type": "execute_result"
    }
   ],
   "source": [
    "all_headlines = df_train['title']\n",
    "all_headlines"
   ]
  },
  {
   "cell_type": "code",
   "execution_count": 15,
   "metadata": {},
   "outputs": [],
   "source": [
    "# !pip install tensorflow"
   ]
  },
  {
   "cell_type": "code",
   "execution_count": 16,
   "metadata": {},
   "outputs": [
    {
     "data": {
      "text/plain": [
       "'Экс-посол Франции назвал болезненным для Европы отказ от российской нефти\\n                \\n                                                    \\n\\n    \\n\\n    Экономика,\\xa0:'"
      ]
     },
     "execution_count": 16,
     "metadata": {},
     "output_type": "execute_result"
    }
   ],
   "source": [
    "import re\n",
    "\n",
    "def clean_text(text):\n",
    "    # remove numbers\n",
    "    text_nonum = re.sub(r'\\d+', '', text)\n",
    "    return text_nonum\n",
    "clean_text(all_headlines[-2])"
   ]
  },
  {
   "cell_type": "code",
   "execution_count": 17,
   "metadata": {},
   "outputs": [
    {
     "name": "stderr",
     "output_type": "stream",
     "text": [
      "2022-07-21 23:20:33.924557: W tensorflow/stream_executor/platform/default/dso_loader.cc:64] Could not load dynamic library 'libcudart.so.11.0'; dlerror: libcudart.so.11.0: cannot open shared object file: No such file or directory\n",
      "2022-07-21 23:20:33.924590: I tensorflow/stream_executor/cuda/cudart_stub.cc:29] Ignore above cudart dlerror if you do not have a GPU set up on your machine.\n"
     ]
    },
    {
     "name": "stdout",
     "output_type": "stream",
     "text": [
      "Всего слов:  15167\n"
     ]
    }
   ],
   "source": [
    "from tensorflow.keras.preprocessing.text import Tokenizer\n",
    "\n",
    "# Tokenize the words in our headlines\n",
    "tokenizer = Tokenizer()\n",
    "tokenizer.fit_on_texts(all_headlines)\n",
    "total_words = len(tokenizer.word_index) + 1\n",
    "print('Всего слов: ', total_words)"
   ]
  },
  {
   "cell_type": "code",
   "execution_count": 18,
   "metadata": {},
   "outputs": [
    {
     "name": "stdout",
     "output_type": "stream",
     "text": [
      "['европейский банк развития приостановил доступ москвы и минска к финансам', 'кремль назвал регулярным процессом учебные запуски баллистических ракет', 'госсекретарь швеции заявила о нежелании вступать в нато из за украины политика \\xa007 24', 'песков назвал прагматичной выдачу лицензии газпромбанку на платежи за газ политика \\xa016 24', 'в хабаровске задержали главу филиала ранхигс по обвинению в мошенничестве общество \\xa013 42']\n"
     ]
    },
    {
     "data": {
      "text/plain": [
       "[[2115, 443, 1095, 1250, 444, 105, 5, 2729, 23, 6009],\n",
       " [107, 20, 6010, 6011, 3771, 6012, 2116, 559],\n",
       " [2117, 287, 91, 2, 1096, 3772, 1, 29, 9, 10, 18, 3, 103, 168],\n",
       " [54, 20, 6013, 983, 1097, 3773, 4, 1098, 10, 110, 3, 34, 168],\n",
       " [1, 2730, 248, 445, 2731, 6014, 11, 2732, 1, 1099, 8, 26, 193]]"
      ]
     },
     "execution_count": 18,
     "metadata": {},
     "output_type": "execute_result"
    }
   ],
   "source": [
    "# Convert data to sequence of tokens \n",
    "input_sequences = []\n",
    "for line in all_headlines:\n",
    "    # Convert our headline into a sequence of tokens\n",
    "    token_list = tokenizer.texts_to_sequences([line])[0]\n",
    "    # Create a sequences for each headline\n",
    "    input_sequences.append(token_list)\n",
    "\n",
    "print(tokenizer.sequences_to_texts(input_sequences[:5]))\n",
    "input_sequences[:5]"
   ]
  },
  {
   "cell_type": "code",
   "execution_count": 19,
   "metadata": {},
   "outputs": [
    {
     "data": {
      "text/plain": [
       "28"
      ]
     },
     "execution_count": 19,
     "metadata": {},
     "output_type": "execute_result"
    }
   ],
   "source": [
    "max_sequence_len = max([len(x) for x in input_sequences])\n",
    "max_sequence_len\n"
   ]
  },
  {
   "cell_type": "code",
   "execution_count": 20,
   "metadata": {},
   "outputs": [
    {
     "data": {
      "text/plain": [
       "array([   0,    0,    0,    0,    0,    0,    0,    0,    0,    0,    0,\n",
       "          0,    0,    0,    0,    0,    0,    0, 2115,  443, 1095, 1250,\n",
       "        444,  105,    5, 2729,   23, 6009], dtype=int32)"
      ]
     },
     "execution_count": 20,
     "metadata": {},
     "output_type": "execute_result"
    }
   ],
   "source": [
    "from tensorflow.keras.preprocessing.sequence import pad_sequences\n",
    "import numpy as np\n",
    "\n",
    "input_sequences = np.array(pad_sequences(input_sequences, maxlen=max_sequence_len, padding='pre'))\n",
    "input_sequences[0]"
   ]
  },
  {
   "cell_type": "code",
   "execution_count": 322,
   "metadata": {},
   "outputs": [
    {
     "name": "stdout",
     "output_type": "stream",
     "text": [
      "Model: \"merged_model\"\n",
      "__________________________________________________________________________________________________\n",
      " Layer (type)                   Output Shape         Param #     Connected to                     \n",
      "==================================================================================================\n",
      " input_a (InputLayer)           [(None, 28)]         0           []                               \n",
      "                                                                                                  \n",
      " embedding_12 (Embedding)       (None, 28, 10)       151670      ['input_a[0][0]']                \n",
      "                                                                                                  \n",
      " lstm (LSTM)                    (None, 100)          44400       ['embedding_12[0][0]']           \n",
      "                                                                                                  \n",
      " dropout (Dropout)              (None, 100)          0           ['lstm[0][0]']                   \n",
      "                                                                                                  \n",
      " dense_19 (Dense)               (None, 1)            101         ['dropout[0][0]']                \n",
      "                                                                                                  \n",
      " input_b (InputLayer)           [(None, 3)]          0           []                               \n",
      "                                                                                                  \n",
      " concatenated_layer (Concatenat  (None, 4)           0           ['dense_19[0][0]',               \n",
      " e)                                                               'input_b[0][0]']                \n",
      "                                                                                                  \n",
      " output_layer (Dense)           (None, 3)            15          ['concatenated_layer[0][0]']     \n",
      "                                                                                                  \n",
      "==================================================================================================\n",
      "Total params: 196,186\n",
      "Trainable params: 196,186\n",
      "Non-trainable params: 0\n",
      "__________________________________________________________________________________________________\n"
     ]
    }
   ],
   "source": [
    "from tensorflow.keras.layers import Embedding, LSTM, Dense, Dropout, Input, concatenate\n",
    "from tensorflow.keras.models import Sequential, Model\n",
    "from tensorflow import keras\n",
    "\n",
    "input_len = max_sequence_len\n",
    "\n",
    "# model = Sequential()\n",
    "# model.add(Embedding(total_words, 10, input_length=input_len))\n",
    "# model.add(LSTM(100))\n",
    "# model.add(Dropout(0.1))\n",
    "# model.add(Dense(3, activation='softmax'))\n",
    "\n",
    "a_input= Input(shape=(input_len), name=\"input_a\")\n",
    "b_input = Input(shape=(3), name=\"input_b\")\n",
    "\n",
    "a_lstm = Embedding(total_words, 10, input_length=input_len)(a_input)\n",
    "a_lstm = LSTM(100, name=\"lstm\", input_shape=(1, input_len))(a_lstm)\n",
    "a_lstm = Dropout(0.1, name=\"dropout\")(a_lstm)\n",
    "a_lstm = Dense(1, activation='softmax')(a_lstm)\n",
    "\n",
    "a_b = concatenate([a_lstm, b_input],name=\"concatenated_layer\")\n",
    "output_layer = Dense(3, activation = \"softmax\", name = \"output_layer\")(a_b)\n",
    "model = Model(inputs=[(a_input,b_input)],outputs=[output_layer], name = \"merged_model\")\n",
    "# model = Model(inputs=a_input,outputs=[a_lstm], name = \"merged_model\")\n",
    "\n",
    "model.summary()"
   ]
  },
  {
   "cell_type": "code",
   "execution_count": 323,
   "metadata": {},
   "outputs": [
    {
     "data": {
      "text/plain": [
       "Index(['title', 'publish_date', 'session', 'authors', 'ctr', 'category',\n",
       "       'tags', 'views', 'depth', 'full_reads_percent', 'day', 'mounth', 'hour',\n",
       "       'weekday', 'v_max', 'd_max', 'r_max', 'views_p', 'depth_p', 'reads_p',\n",
       "       'vp_max', 'dp_max', 'rp_max'],\n",
       "      dtype='object')"
      ]
     },
     "execution_count": 323,
     "metadata": {},
     "output_type": "execute_result"
    }
   ],
   "source": [
    "df_train.columns"
   ]
  },
  {
   "cell_type": "code",
   "execution_count": 324,
   "metadata": {},
   "outputs": [
    {
     "name": "stdout",
     "output_type": "stream",
     "text": [
      "Model: \"merged_model\"\n",
      "__________________________________________________________________________________________________\n",
      " Layer (type)                   Output Shape         Param #     Connected to                     \n",
      "==================================================================================================\n",
      " input_a (InputLayer)           [(None, 28)]         0           []                               \n",
      "                                                                                                  \n",
      " embedding_12 (Embedding)       (None, 28, 10)       151670      ['input_a[0][0]']                \n",
      "                                                                                                  \n",
      " lstm (LSTM)                    (None, 100)          44400       ['embedding_12[0][0]']           \n",
      "                                                                                                  \n",
      " dropout (Dropout)              (None, 100)          0           ['lstm[0][0]']                   \n",
      "                                                                                                  \n",
      " dense_19 (Dense)               (None, 1)            101         ['dropout[0][0]']                \n",
      "                                                                                                  \n",
      " input_b (InputLayer)           [(None, 3)]          0           []                               \n",
      "                                                                                                  \n",
      " concatenated_layer (Concatenat  (None, 4)           0           ['dense_19[0][0]',               \n",
      " e)                                                               'input_b[0][0]']                \n",
      "                                                                                                  \n",
      " output_layer (Dense)           (None, 3)            15          ['concatenated_layer[0][0]']     \n",
      "                                                                                                  \n",
      "==================================================================================================\n",
      "Total params: 196,186\n",
      "Trainable params: 196,186\n",
      "Non-trainable params: 0\n",
      "__________________________________________________________________________________________________\n"
     ]
    }
   ],
   "source": [
    "# import tensorflow as tf\n",
    "model.summary()\n",
    "\n",
    "# tf.keras.utils.plot_model(model, show_shapes=True)"
   ]
  },
  {
   "cell_type": "code",
   "execution_count": 325,
   "metadata": {},
   "outputs": [],
   "source": [
    "model.compile(loss='mse', optimizer='adam')"
   ]
  },
  {
   "cell_type": "code",
   "execution_count": 326,
   "metadata": {},
   "outputs": [],
   "source": [
    "df_train[[\"views\",\"depth\",\"full_reads_percent\"]]\n",
    "\n",
    "view_max = df_train[\"views\"].max()\n",
    "depth_max = df_train[\"depth\"].max()\n",
    "full_read_max = df_train[\"full_reads_percent\"].max()\n",
    "\n",
    "df_train['v_max'] = df_train[\"views\"] / view_max\n",
    "df_train['d_max'] = df_train[\"depth\"] / depth_max\n",
    "df_train['r_max'] = df_train[\"full_reads_percent\"] / full_read_max\n",
    "df_train['vp_max'] = df_train[\"views_p\"] / view_max\n",
    "df_train['dp_max'] = df_train[\"depth_p\"] / depth_max\n",
    "df_train['rp_max'] = df_train[\"reads_p\"] / full_read_max"
   ]
  },
  {
   "cell_type": "code",
   "execution_count": 327,
   "metadata": {},
   "outputs": [
    {
     "name": "stdout",
     "output_type": "stream",
     "text": [
      "7000\n",
      "7000\n",
      "[[0.00801032 0.63035019 0.1339571 ]\n",
      " [0.00745359 0.63479711 0.14331728]\n",
      " [0.0200262  0.65869928 0.1361019 ]\n",
      " [0.0014807  0.58532518 0.11272947]\n",
      " [0.00119998 0.59088382 0.12934987]]\n"
     ]
    }
   ],
   "source": [
    "predictors = np.array(input_sequences)\n",
    "labels_reg = df_train[[\"vp_max\",\"dp_max\",\"rp_max\"]].reset_index(drop = True).values\n",
    "labels = df_train[[\"v_max\",\"d_max\",\"r_max\"]].reset_index(drop = True).values\n",
    "# labels = np.array(labels)\n",
    "print(len(labels))\n",
    "print(len(predictors))\n",
    "print(labels[:5])\n",
    "# print(predictors[:5])"
   ]
  },
  {
   "cell_type": "code",
   "execution_count": 329,
   "metadata": {},
   "outputs": [
    {
     "name": "stdout",
     "output_type": "stream",
     "text": [
      "Epoch 1/5\n",
      "197/197 [==============================] - 3s 16ms/step - loss: 0.0229 - val_loss: 0.0153\n",
      "Epoch 2/5\n",
      "197/197 [==============================] - 3s 16ms/step - loss: 0.0125 - val_loss: 0.0107\n",
      "Epoch 3/5\n",
      "197/197 [==============================] - 3s 16ms/step - loss: 0.0098 - val_loss: 0.0092\n",
      "Epoch 4/5\n",
      "197/197 [==============================] - 3s 16ms/step - loss: 0.0088 - val_loss: 0.0086\n",
      "Epoch 5/5\n",
      "197/197 [==============================] - 4s 18ms/step - loss: 0.0083 - val_loss: 0.0083\n"
     ]
    },
    {
     "data": {
      "text/plain": [
       "<keras.callbacks.History at 0x7f5b47151190>"
      ]
     },
     "execution_count": 329,
     "metadata": {},
     "output_type": "execute_result"
    }
   ],
   "source": [
    "model.fit([predictors,labels_reg], labels, epochs=5, verbose=1, validation_split=0.1)"
   ]
  },
  {
   "cell_type": "code",
   "execution_count": 330,
   "metadata": {},
   "outputs": [
    {
     "data": {
      "text/html": [
       "<div>\n",
       "<style scoped>\n",
       "    .dataframe tbody tr th:only-of-type {\n",
       "        vertical-align: middle;\n",
       "    }\n",
       "\n",
       "    .dataframe tbody tr th {\n",
       "        vertical-align: top;\n",
       "    }\n",
       "\n",
       "    .dataframe thead th {\n",
       "        text-align: right;\n",
       "    }\n",
       "</style>\n",
       "<table border=\"1\" class=\"dataframe\">\n",
       "  <thead>\n",
       "    <tr style=\"text-align: right;\">\n",
       "      <th></th>\n",
       "      <th>0</th>\n",
       "      <th>1</th>\n",
       "      <th>2</th>\n",
       "    </tr>\n",
       "  </thead>\n",
       "  <tbody>\n",
       "    <tr>\n",
       "      <th>0</th>\n",
       "      <td>294030.870900</td>\n",
       "      <td>1.236216</td>\n",
       "      <td>52.913193</td>\n",
       "    </tr>\n",
       "    <tr>\n",
       "      <th>1</th>\n",
       "      <td>292069.360503</td>\n",
       "      <td>1.234521</td>\n",
       "      <td>53.370819</td>\n",
       "    </tr>\n",
       "    <tr>\n",
       "      <th>2</th>\n",
       "      <td>293281.324365</td>\n",
       "      <td>1.243112</td>\n",
       "      <td>51.965851</td>\n",
       "    </tr>\n",
       "    <tr>\n",
       "      <th>3</th>\n",
       "      <td>297298.164551</td>\n",
       "      <td>1.217638</td>\n",
       "      <td>55.334381</td>\n",
       "    </tr>\n",
       "    <tr>\n",
       "      <th>4</th>\n",
       "      <td>293955.929568</td>\n",
       "      <td>1.219851</td>\n",
       "      <td>55.355389</td>\n",
       "    </tr>\n",
       "  </tbody>\n",
       "</table>\n",
       "</div>"
      ],
      "text/plain": [
       "               0         1          2\n",
       "0  294030.870900  1.236216  52.913193\n",
       "1  292069.360503  1.234521  53.370819\n",
       "2  293281.324365  1.243112  51.965851\n",
       "3  297298.164551  1.217638  55.334381\n",
       "4  293955.929568  1.219851  55.355389"
      ]
     },
     "execution_count": 330,
     "metadata": {},
     "output_type": "execute_result"
    }
   ],
   "source": [
    "predictions = model.predict([predictors, labels_reg], verbose=0)\n",
    "df_pred = pd.DataFrame(np.concatenate(predictions).reshape(-1, 3))\n",
    "\n",
    "df_pred[0] = df_pred[0] * view_max\n",
    "df_pred[1] = df_pred[1] * depth_max\n",
    "df_pred[2] = df_pred[2] * full_read_max\n",
    "\n",
    "df_pred.head()"
   ]
  },
  {
   "cell_type": "code",
   "execution_count": 331,
   "metadata": {},
   "outputs": [
    {
     "data": {
      "text/html": [
       "<div>\n",
       "<style scoped>\n",
       "    .dataframe tbody tr th:only-of-type {\n",
       "        vertical-align: middle;\n",
       "    }\n",
       "\n",
       "    .dataframe tbody tr th {\n",
       "        vertical-align: top;\n",
       "    }\n",
       "\n",
       "    .dataframe thead th {\n",
       "        text-align: right;\n",
       "    }\n",
       "</style>\n",
       "<table border=\"1\" class=\"dataframe\">\n",
       "  <thead>\n",
       "    <tr style=\"text-align: right;\">\n",
       "      <th></th>\n",
       "      <th>0</th>\n",
       "      <th>1</th>\n",
       "      <th>2</th>\n",
       "    </tr>\n",
       "  </thead>\n",
       "  <tbody>\n",
       "    <tr>\n",
       "      <th>0</th>\n",
       "      <td>20463.41</td>\n",
       "      <td>1.14264</td>\n",
       "      <td>36.30764</td>\n",
       "    </tr>\n",
       "    <tr>\n",
       "      <th>1</th>\n",
       "      <td>19035.35</td>\n",
       "      <td>1.13280</td>\n",
       "      <td>37.97994</td>\n",
       "    </tr>\n",
       "    <tr>\n",
       "      <th>2</th>\n",
       "      <td>51160.17</td>\n",
       "      <td>1.16599</td>\n",
       "      <td>35.48426</td>\n",
       "    </tr>\n",
       "    <tr>\n",
       "      <th>3</th>\n",
       "      <td>3783.06</td>\n",
       "      <td>1.05729</td>\n",
       "      <td>31.74233</td>\n",
       "    </tr>\n",
       "    <tr>\n",
       "      <th>4</th>\n",
       "      <td>3063.66</td>\n",
       "      <td>1.06609</td>\n",
       "      <td>35.23219</td>\n",
       "    </tr>\n",
       "  </tbody>\n",
       "</table>\n",
       "</div>"
      ],
      "text/plain": [
       "          0        1         2\n",
       "0  20463.41  1.14264  36.30764\n",
       "1  19035.35  1.13280  37.97994\n",
       "2  51160.17  1.16599  35.48426\n",
       "3   3783.06  1.05729  31.74233\n",
       "4   3063.66  1.06609  35.23219"
      ]
     },
     "execution_count": 331,
     "metadata": {},
     "output_type": "execute_result"
    }
   ],
   "source": [
    "reg_res = pd.DataFrame(np.concatenate(labels_reg).reshape(-1, 3))\n",
    "reg_res[0] = reg_res[0] * view_max\n",
    "reg_res[1] = reg_res[1] * depth_max\n",
    "reg_res[2] = reg_res[2] * full_read_max\n",
    "\n",
    "reg_res.head()"
   ]
  },
  {
   "cell_type": "code",
   "execution_count": 332,
   "metadata": {},
   "outputs": [
    {
     "data": {
      "text/plain": [
       "[array([   0,    0,    0,    0,    0,    0,    0,    0,    0,    0,    0,\n",
       "           0,    0,    0,    0,    0,    0,    0, 2115,  443, 1095, 1250,\n",
       "         444,  105,    5, 2729,   23, 6009], dtype=int32),\n",
       " array([0.00801166, 0.63515286, 0.13566711])]"
      ]
     },
     "execution_count": 332,
     "metadata": {},
     "output_type": "execute_result"
    }
   ],
   "source": [
    "# model.predict([predictors[0], labels_reg[0]], verbose=0)\n",
    "# [predictors, labels_reg]\n",
    "[predictors[0], labels_reg[0]]"
   ]
  },
  {
   "cell_type": "code",
   "execution_count": 333,
   "metadata": {},
   "outputs": [],
   "source": [
    "df_pred = df_pred.rename(columns={0: \"views\", 1: \"depth\", 2: \"full_reads_percent\"})\n",
    "df_pred.index = df_train.index"
   ]
  },
  {
   "cell_type": "code",
   "execution_count": 334,
   "metadata": {},
   "outputs": [
    {
     "name": "stdout",
     "output_type": "stream",
     "text": [
      "regression: 0.9945760921870794,0.7878072913985649,0.7207112143244264\n",
      "With LSTM: -7.718884892816606,-3.3814548667533675,-3.1709920309997557\n",
      "0.8503859885917292\n",
      "-5.053288026452579\n"
     ]
    }
   ],
   "source": [
    "score_views = r2_score(y[\"views\"], df_pred['views'])\n",
    "score_depth = r2_score(y[\"depth\"], df_pred['depth'])\n",
    "score_frp = r2_score(y[\"full_reads_percent\"], df_pred['full_reads_percent'])\n",
    "\n",
    "score_viewsr = r2_score(y[\"views\"], df_train['views_p'])\n",
    "score_depthr = r2_score(y[\"depth\"], df_train['depth_p'])\n",
    "score_frpr = r2_score(y[\"full_reads_percent\"], df_train['reads_p'])\n",
    "print(f'regression: {score_viewsr},{score_depthr},{score_frpr}')\n",
    "print(f'With LSTM: {score_views},{score_depth},{score_frp}')\n",
    "\n",
    "score = 0.4 * score_views + 0.3 * score_depth + 0.3 * score_frp\n",
    "scorer = 0.4 * score_viewsr + 0.3 * score_depthr + 0.3 * score_frpr\n",
    "\n",
    "print(scorer)\n",
    "print(score)"
   ]
  },
  {
   "cell_type": "code",
   "execution_count": 309,
   "metadata": {},
   "outputs": [
    {
     "data": {
      "text/html": [
       "<div>\n",
       "<style scoped>\n",
       "    .dataframe tbody tr th:only-of-type {\n",
       "        vertical-align: middle;\n",
       "    }\n",
       "\n",
       "    .dataframe tbody tr th {\n",
       "        vertical-align: top;\n",
       "    }\n",
       "\n",
       "    .dataframe thead th {\n",
       "        text-align: right;\n",
       "    }\n",
       "</style>\n",
       "<table border=\"1\" class=\"dataframe\">\n",
       "  <thead>\n",
       "    <tr style=\"text-align: right;\">\n",
       "      <th></th>\n",
       "      <th>views</th>\n",
       "      <th>depth</th>\n",
       "      <th>full_reads_percent</th>\n",
       "    </tr>\n",
       "    <tr>\n",
       "      <th>document_id</th>\n",
       "      <th></th>\n",
       "      <th></th>\n",
       "      <th></th>\n",
       "    </tr>\n",
       "  </thead>\n",
       "  <tbody>\n",
       "    <tr>\n",
       "      <th>624ac09c9a7947db3d80c98eIDE7mtH4RBqGn-8MXfGffQ</th>\n",
       "      <td>238509.772286</td>\n",
       "      <td>1.245189</td>\n",
       "      <td>57.395699</td>\n",
       "    </tr>\n",
       "    <tr>\n",
       "      <th>620f6b899a7947701cf489e1KtVJsteHStO5oditt3Uvzw</th>\n",
       "      <td>235165.367848</td>\n",
       "      <td>1.244290</td>\n",
       "      <td>57.879742</td>\n",
       "    </tr>\n",
       "    <tr>\n",
       "      <th>620730cf9a7947ab96a44e27hk7puWJwSziw0m3sfTkKWA</th>\n",
       "      <td>241647.374424</td>\n",
       "      <td>1.249821</td>\n",
       "      <td>56.377888</td>\n",
       "    </tr>\n",
       "    <tr>\n",
       "      <th>6262a5889a79470b78c9ca307UKY2SSZTjCcjhwBzxw37w</th>\n",
       "      <td>240661.642801</td>\n",
       "      <td>1.249881</td>\n",
       "      <td>56.472229</td>\n",
       "    </tr>\n",
       "    <tr>\n",
       "      <th>626678929a79477ca0101568wuMYES90REuV5YhrN75IXg</th>\n",
       "      <td>235460.014026</td>\n",
       "      <td>1.246924</td>\n",
       "      <td>57.457127</td>\n",
       "    </tr>\n",
       "    <tr>\n",
       "      <th>...</th>\n",
       "      <td>...</td>\n",
       "      <td>...</td>\n",
       "      <td>...</td>\n",
       "    </tr>\n",
       "    <tr>\n",
       "      <th>61fd479c9a7947848183694751RC_1i5QlGuv7B2FzwTjw</th>\n",
       "      <td>249123.600137</td>\n",
       "      <td>1.248793</td>\n",
       "      <td>55.747383</td>\n",
       "    </tr>\n",
       "    <tr>\n",
       "      <th>628a8f1c9a79478c64a7dae450tIkSGVSf2O8XQgk_uaHQ</th>\n",
       "      <td>233693.640354</td>\n",
       "      <td>1.246136</td>\n",
       "      <td>57.759380</td>\n",
       "    </tr>\n",
       "    <tr>\n",
       "      <th>6244cf5e9a79479099346b26tKlqoxQYSmij0ZBrGzebug</th>\n",
       "      <td>249290.229468</td>\n",
       "      <td>1.253783</td>\n",
       "      <td>54.987579</td>\n",
       "    </tr>\n",
       "    <tr>\n",
       "      <th>627303699a794749b8116abc12JX_3ZDTDu2XHF3k2eJVg</th>\n",
       "      <td>228811.701634</td>\n",
       "      <td>1.243683</td>\n",
       "      <td>58.635815</td>\n",
       "    </tr>\n",
       "    <tr>\n",
       "      <th>627f1c089a794743b070ff73hVvdVmFxS2SlZ2_lECDEow</th>\n",
       "      <td>240119.450445</td>\n",
       "      <td>1.249709</td>\n",
       "      <td>56.554520</td>\n",
       "    </tr>\n",
       "  </tbody>\n",
       "</table>\n",
       "<p>7000 rows × 3 columns</p>\n",
       "</div>"
      ],
      "text/plain": [
       "                                                        views     depth  \\\n",
       "document_id                                                               \n",
       "624ac09c9a7947db3d80c98eIDE7mtH4RBqGn-8MXfGffQ  238509.772286  1.245189   \n",
       "620f6b899a7947701cf489e1KtVJsteHStO5oditt3Uvzw  235165.367848  1.244290   \n",
       "620730cf9a7947ab96a44e27hk7puWJwSziw0m3sfTkKWA  241647.374424  1.249821   \n",
       "6262a5889a79470b78c9ca307UKY2SSZTjCcjhwBzxw37w  240661.642801  1.249881   \n",
       "626678929a79477ca0101568wuMYES90REuV5YhrN75IXg  235460.014026  1.246924   \n",
       "...                                                       ...       ...   \n",
       "61fd479c9a7947848183694751RC_1i5QlGuv7B2FzwTjw  249123.600137  1.248793   \n",
       "628a8f1c9a79478c64a7dae450tIkSGVSf2O8XQgk_uaHQ  233693.640354  1.246136   \n",
       "6244cf5e9a79479099346b26tKlqoxQYSmij0ZBrGzebug  249290.229468  1.253783   \n",
       "627303699a794749b8116abc12JX_3ZDTDu2XHF3k2eJVg  228811.701634  1.243683   \n",
       "627f1c089a794743b070ff73hVvdVmFxS2SlZ2_lECDEow  240119.450445  1.249709   \n",
       "\n",
       "                                                full_reads_percent  \n",
       "document_id                                                         \n",
       "624ac09c9a7947db3d80c98eIDE7mtH4RBqGn-8MXfGffQ           57.395699  \n",
       "620f6b899a7947701cf489e1KtVJsteHStO5oditt3Uvzw           57.879742  \n",
       "620730cf9a7947ab96a44e27hk7puWJwSziw0m3sfTkKWA           56.377888  \n",
       "6262a5889a79470b78c9ca307UKY2SSZTjCcjhwBzxw37w           56.472229  \n",
       "626678929a79477ca0101568wuMYES90REuV5YhrN75IXg           57.457127  \n",
       "...                                                            ...  \n",
       "61fd479c9a7947848183694751RC_1i5QlGuv7B2FzwTjw           55.747383  \n",
       "628a8f1c9a79478c64a7dae450tIkSGVSf2O8XQgk_uaHQ           57.759380  \n",
       "6244cf5e9a79479099346b26tKlqoxQYSmij0ZBrGzebug           54.987579  \n",
       "627303699a794749b8116abc12JX_3ZDTDu2XHF3k2eJVg           58.635815  \n",
       "627f1c089a794743b070ff73hVvdVmFxS2SlZ2_lECDEow           56.554520  \n",
       "\n",
       "[7000 rows x 3 columns]"
      ]
     },
     "execution_count": 309,
     "metadata": {},
     "output_type": "execute_result"
    }
   ],
   "source": [
    "df_pred"
   ]
  },
  {
   "cell_type": "code",
   "execution_count": 310,
   "metadata": {},
   "outputs": [
    {
     "data": {
      "text/html": [
       "<div>\n",
       "<style scoped>\n",
       "    .dataframe tbody tr th:only-of-type {\n",
       "        vertical-align: middle;\n",
       "    }\n",
       "\n",
       "    .dataframe tbody tr th {\n",
       "        vertical-align: top;\n",
       "    }\n",
       "\n",
       "    .dataframe thead th {\n",
       "        text-align: right;\n",
       "    }\n",
       "</style>\n",
       "<table border=\"1\" class=\"dataframe\">\n",
       "  <thead>\n",
       "    <tr style=\"text-align: right;\">\n",
       "      <th></th>\n",
       "      <th>views_p</th>\n",
       "      <th>depth_p</th>\n",
       "      <th>reads_p</th>\n",
       "    </tr>\n",
       "    <tr>\n",
       "      <th>document_id</th>\n",
       "      <th></th>\n",
       "      <th></th>\n",
       "      <th></th>\n",
       "    </tr>\n",
       "  </thead>\n",
       "  <tbody>\n",
       "    <tr>\n",
       "      <th>624ac09c9a7947db3d80c98eIDE7mtH4RBqGn-8MXfGffQ</th>\n",
       "      <td>20463.41</td>\n",
       "      <td>1.14264</td>\n",
       "      <td>36.30764</td>\n",
       "    </tr>\n",
       "    <tr>\n",
       "      <th>620f6b899a7947701cf489e1KtVJsteHStO5oditt3Uvzw</th>\n",
       "      <td>19035.35</td>\n",
       "      <td>1.13280</td>\n",
       "      <td>37.97994</td>\n",
       "    </tr>\n",
       "    <tr>\n",
       "      <th>620730cf9a7947ab96a44e27hk7puWJwSziw0m3sfTkKWA</th>\n",
       "      <td>51160.17</td>\n",
       "      <td>1.16599</td>\n",
       "      <td>35.48426</td>\n",
       "    </tr>\n",
       "    <tr>\n",
       "      <th>6262a5889a79470b78c9ca307UKY2SSZTjCcjhwBzxw37w</th>\n",
       "      <td>3783.06</td>\n",
       "      <td>1.05729</td>\n",
       "      <td>31.74233</td>\n",
       "    </tr>\n",
       "    <tr>\n",
       "      <th>626678929a79477ca0101568wuMYES90REuV5YhrN75IXg</th>\n",
       "      <td>3063.66</td>\n",
       "      <td>1.06609</td>\n",
       "      <td>35.23219</td>\n",
       "    </tr>\n",
       "    <tr>\n",
       "      <th>...</th>\n",
       "      <td>...</td>\n",
       "      <td>...</td>\n",
       "      <td>...</td>\n",
       "    </tr>\n",
       "    <tr>\n",
       "      <th>61fd479c9a7947848183694751RC_1i5QlGuv7B2FzwTjw</th>\n",
       "      <td>21734.01</td>\n",
       "      <td>1.15209</td>\n",
       "      <td>30.32695</td>\n",
       "    </tr>\n",
       "    <tr>\n",
       "      <th>628a8f1c9a79478c64a7dae450tIkSGVSf2O8XQgk_uaHQ</th>\n",
       "      <td>8382.98</td>\n",
       "      <td>1.07790</td>\n",
       "      <td>36.79374</td>\n",
       "    </tr>\n",
       "    <tr>\n",
       "      <th>6244cf5e9a79479099346b26tKlqoxQYSmij0ZBrGzebug</th>\n",
       "      <td>37031.84</td>\n",
       "      <td>1.12072</td>\n",
       "      <td>29.16791</td>\n",
       "    </tr>\n",
       "    <tr>\n",
       "      <th>627303699a794749b8116abc12JX_3ZDTDu2XHF3k2eJVg</th>\n",
       "      <td>3448.58</td>\n",
       "      <td>1.07017</td>\n",
       "      <td>39.51906</td>\n",
       "    </tr>\n",
       "    <tr>\n",
       "      <th>627f1c089a794743b070ff73hVvdVmFxS2SlZ2_lECDEow</th>\n",
       "      <td>11979.90</td>\n",
       "      <td>1.07450</td>\n",
       "      <td>32.76168</td>\n",
       "    </tr>\n",
       "  </tbody>\n",
       "</table>\n",
       "<p>7000 rows × 3 columns</p>\n",
       "</div>"
      ],
      "text/plain": [
       "                                                 views_p  depth_p   reads_p\n",
       "document_id                                                                \n",
       "624ac09c9a7947db3d80c98eIDE7mtH4RBqGn-8MXfGffQ  20463.41  1.14264  36.30764\n",
       "620f6b899a7947701cf489e1KtVJsteHStO5oditt3Uvzw  19035.35  1.13280  37.97994\n",
       "620730cf9a7947ab96a44e27hk7puWJwSziw0m3sfTkKWA  51160.17  1.16599  35.48426\n",
       "6262a5889a79470b78c9ca307UKY2SSZTjCcjhwBzxw37w   3783.06  1.05729  31.74233\n",
       "626678929a79477ca0101568wuMYES90REuV5YhrN75IXg   3063.66  1.06609  35.23219\n",
       "...                                                  ...      ...       ...\n",
       "61fd479c9a7947848183694751RC_1i5QlGuv7B2FzwTjw  21734.01  1.15209  30.32695\n",
       "628a8f1c9a79478c64a7dae450tIkSGVSf2O8XQgk_uaHQ   8382.98  1.07790  36.79374\n",
       "6244cf5e9a79479099346b26tKlqoxQYSmij0ZBrGzebug  37031.84  1.12072  29.16791\n",
       "627303699a794749b8116abc12JX_3ZDTDu2XHF3k2eJVg   3448.58  1.07017  39.51906\n",
       "627f1c089a794743b070ff73hVvdVmFxS2SlZ2_lECDEow  11979.90  1.07450  32.76168\n",
       "\n",
       "[7000 rows x 3 columns]"
      ]
     },
     "execution_count": 310,
     "metadata": {},
     "output_type": "execute_result"
    }
   ],
   "source": [
    "df_train[['views_p', 'depth_p', 'reads_p']]"
   ]
  },
  {
   "cell_type": "code",
   "execution_count": 311,
   "metadata": {},
   "outputs": [
    {
     "data": {
      "text/html": [
       "<div>\n",
       "<style scoped>\n",
       "    .dataframe tbody tr th:only-of-type {\n",
       "        vertical-align: middle;\n",
       "    }\n",
       "\n",
       "    .dataframe tbody tr th {\n",
       "        vertical-align: top;\n",
       "    }\n",
       "\n",
       "    .dataframe thead th {\n",
       "        text-align: right;\n",
       "    }\n",
       "</style>\n",
       "<table border=\"1\" class=\"dataframe\">\n",
       "  <thead>\n",
       "    <tr style=\"text-align: right;\">\n",
       "      <th></th>\n",
       "      <th>views</th>\n",
       "      <th>depth</th>\n",
       "      <th>full_reads_percent</th>\n",
       "    </tr>\n",
       "    <tr>\n",
       "      <th>document_id</th>\n",
       "      <th></th>\n",
       "      <th></th>\n",
       "      <th></th>\n",
       "    </tr>\n",
       "  </thead>\n",
       "  <tbody>\n",
       "    <tr>\n",
       "      <th>624ac09c9a7947db3d80c98eIDE7mtH4RBqGn-8MXfGffQ</th>\n",
       "      <td>20460</td>\n",
       "      <td>1.134</td>\n",
       "      <td>35.850</td>\n",
       "    </tr>\n",
       "    <tr>\n",
       "      <th>620f6b899a7947701cf489e1KtVJsteHStO5oditt3Uvzw</th>\n",
       "      <td>19038</td>\n",
       "      <td>1.142</td>\n",
       "      <td>38.355</td>\n",
       "    </tr>\n",
       "    <tr>\n",
       "      <th>620730cf9a7947ab96a44e27hk7puWJwSziw0m3sfTkKWA</th>\n",
       "      <td>51151</td>\n",
       "      <td>1.185</td>\n",
       "      <td>36.424</td>\n",
       "    </tr>\n",
       "    <tr>\n",
       "      <th>6262a5889a79470b78c9ca307UKY2SSZTjCcjhwBzxw37w</th>\n",
       "      <td>3782</td>\n",
       "      <td>1.053</td>\n",
       "      <td>30.169</td>\n",
       "    </tr>\n",
       "    <tr>\n",
       "      <th>626678929a79477ca0101568wuMYES90REuV5YhrN75IXg</th>\n",
       "      <td>3065</td>\n",
       "      <td>1.063</td>\n",
       "      <td>34.617</td>\n",
       "    </tr>\n",
       "    <tr>\n",
       "      <th>...</th>\n",
       "      <td>...</td>\n",
       "      <td>...</td>\n",
       "      <td>...</td>\n",
       "    </tr>\n",
       "    <tr>\n",
       "      <th>61fd479c9a7947848183694751RC_1i5QlGuv7B2FzwTjw</th>\n",
       "      <td>21738</td>\n",
       "      <td>1.188</td>\n",
       "      <td>28.448</td>\n",
       "    </tr>\n",
       "    <tr>\n",
       "      <th>628a8f1c9a79478c64a7dae450tIkSGVSf2O8XQgk_uaHQ</th>\n",
       "      <td>8377</td>\n",
       "      <td>1.056</td>\n",
       "      <td>38.045</td>\n",
       "    </tr>\n",
       "    <tr>\n",
       "      <th>6244cf5e9a79479099346b26tKlqoxQYSmij0ZBrGzebug</th>\n",
       "      <td>37004</td>\n",
       "      <td>1.176</td>\n",
       "      <td>50.757</td>\n",
       "    </tr>\n",
       "    <tr>\n",
       "      <th>627303699a794749b8116abc12JX_3ZDTDu2XHF3k2eJVg</th>\n",
       "      <td>3450</td>\n",
       "      <td>1.068</td>\n",
       "      <td>38.928</td>\n",
       "    </tr>\n",
       "    <tr>\n",
       "      <th>627f1c089a794743b070ff73hVvdVmFxS2SlZ2_lECDEow</th>\n",
       "      <td>11981</td>\n",
       "      <td>1.072</td>\n",
       "      <td>36.249</td>\n",
       "    </tr>\n",
       "  </tbody>\n",
       "</table>\n",
       "<p>7000 rows × 3 columns</p>\n",
       "</div>"
      ],
      "text/plain": [
       "                                                views  depth  \\\n",
       "document_id                                                    \n",
       "624ac09c9a7947db3d80c98eIDE7mtH4RBqGn-8MXfGffQ  20460  1.134   \n",
       "620f6b899a7947701cf489e1KtVJsteHStO5oditt3Uvzw  19038  1.142   \n",
       "620730cf9a7947ab96a44e27hk7puWJwSziw0m3sfTkKWA  51151  1.185   \n",
       "6262a5889a79470b78c9ca307UKY2SSZTjCcjhwBzxw37w   3782  1.053   \n",
       "626678929a79477ca0101568wuMYES90REuV5YhrN75IXg   3065  1.063   \n",
       "...                                               ...    ...   \n",
       "61fd479c9a7947848183694751RC_1i5QlGuv7B2FzwTjw  21738  1.188   \n",
       "628a8f1c9a79478c64a7dae450tIkSGVSf2O8XQgk_uaHQ   8377  1.056   \n",
       "6244cf5e9a79479099346b26tKlqoxQYSmij0ZBrGzebug  37004  1.176   \n",
       "627303699a794749b8116abc12JX_3ZDTDu2XHF3k2eJVg   3450  1.068   \n",
       "627f1c089a794743b070ff73hVvdVmFxS2SlZ2_lECDEow  11981  1.072   \n",
       "\n",
       "                                                full_reads_percent  \n",
       "document_id                                                         \n",
       "624ac09c9a7947db3d80c98eIDE7mtH4RBqGn-8MXfGffQ              35.850  \n",
       "620f6b899a7947701cf489e1KtVJsteHStO5oditt3Uvzw              38.355  \n",
       "620730cf9a7947ab96a44e27hk7puWJwSziw0m3sfTkKWA              36.424  \n",
       "6262a5889a79470b78c9ca307UKY2SSZTjCcjhwBzxw37w              30.169  \n",
       "626678929a79477ca0101568wuMYES90REuV5YhrN75IXg              34.617  \n",
       "...                                                            ...  \n",
       "61fd479c9a7947848183694751RC_1i5QlGuv7B2FzwTjw              28.448  \n",
       "628a8f1c9a79478c64a7dae450tIkSGVSf2O8XQgk_uaHQ              38.045  \n",
       "6244cf5e9a79479099346b26tKlqoxQYSmij0ZBrGzebug              50.757  \n",
       "627303699a794749b8116abc12JX_3ZDTDu2XHF3k2eJVg              38.928  \n",
       "627f1c089a794743b070ff73hVvdVmFxS2SlZ2_lECDEow              36.249  \n",
       "\n",
       "[7000 rows x 3 columns]"
      ]
     },
     "execution_count": 311,
     "metadata": {},
     "output_type": "execute_result"
    }
   ],
   "source": [
    "y"
   ]
  },
  {
   "cell_type": "markdown",
   "metadata": {},
   "source": [
    "# Обучаем модель"
   ]
  },
  {
   "cell_type": "code",
   "execution_count": 214,
   "metadata": {
    "id": "juqrwMlFj6GS"
   },
   "outputs": [],
   "source": [
    "X = df_train.drop([\"views\",\"depth\",\"full_reads_percent\",\"title\",\"publish_date\", \"session\", \"tags\", 'views_p', 'depth_p', ''], axis = 1)\n",
    "y = df_train[[\"views\",\"depth\",\"full_reads_percent\"]]"
   ]
  },
  {
   "cell_type": "code",
   "execution_count": 215,
   "metadata": {
    "colab": {
     "base_uri": "https://localhost:8080/",
     "height": 237
    },
    "id": "H_5wgOc_2NOe",
    "outputId": "de454dda-bbee-4a0d-912d-44fd56d21cae"
   },
   "outputs": [
    {
     "data": {
      "text/html": [
       "<div>\n",
       "<style scoped>\n",
       "    .dataframe tbody tr th:only-of-type {\n",
       "        vertical-align: middle;\n",
       "    }\n",
       "\n",
       "    .dataframe tbody tr th {\n",
       "        vertical-align: top;\n",
       "    }\n",
       "\n",
       "    .dataframe thead th {\n",
       "        text-align: right;\n",
       "    }\n",
       "</style>\n",
       "<table border=\"1\" class=\"dataframe\">\n",
       "  <thead>\n",
       "    <tr style=\"text-align: right;\">\n",
       "      <th></th>\n",
       "      <th>authors</th>\n",
       "      <th>ctr</th>\n",
       "      <th>category</th>\n",
       "      <th>day</th>\n",
       "      <th>mounth</th>\n",
       "      <th>hour</th>\n",
       "      <th>weekday</th>\n",
       "      <th>v_max</th>\n",
       "      <th>d_max</th>\n",
       "      <th>r_max</th>\n",
       "    </tr>\n",
       "    <tr>\n",
       "      <th>document_id</th>\n",
       "      <th></th>\n",
       "      <th></th>\n",
       "      <th></th>\n",
       "      <th></th>\n",
       "      <th></th>\n",
       "      <th></th>\n",
       "      <th></th>\n",
       "      <th></th>\n",
       "      <th></th>\n",
       "      <th></th>\n",
       "    </tr>\n",
       "  </thead>\n",
       "  <tbody>\n",
       "    <tr>\n",
       "      <th>624ac09c9a7947db3d80c98eIDE7mtH4RBqGn-8MXfGffQ</th>\n",
       "      <td>560</td>\n",
       "      <td>1.580</td>\n",
       "      <td>2</td>\n",
       "      <td>4</td>\n",
       "      <td>4</td>\n",
       "      <td>10</td>\n",
       "      <td>0</td>\n",
       "      <td>0.008010</td>\n",
       "      <td>0.630350</td>\n",
       "      <td>0.133957</td>\n",
       "    </tr>\n",
       "    <tr>\n",
       "      <th>620f6b899a7947701cf489e1KtVJsteHStO5oditt3Uvzw</th>\n",
       "      <td>38</td>\n",
       "      <td>1.853</td>\n",
       "      <td>0</td>\n",
       "      <td>18</td>\n",
       "      <td>2</td>\n",
       "      <td>10</td>\n",
       "      <td>4</td>\n",
       "      <td>0.007454</td>\n",
       "      <td>0.634797</td>\n",
       "      <td>0.143317</td>\n",
       "    </tr>\n",
       "    <tr>\n",
       "      <th>620730cf9a7947ab96a44e27hk7puWJwSziw0m3sfTkKWA</th>\n",
       "      <td>560</td>\n",
       "      <td>0.000</td>\n",
       "      <td>0</td>\n",
       "      <td>12</td>\n",
       "      <td>2</td>\n",
       "      <td>4</td>\n",
       "      <td>5</td>\n",
       "      <td>0.020026</td>\n",
       "      <td>0.658699</td>\n",
       "      <td>0.136102</td>\n",
       "    </tr>\n",
       "    <tr>\n",
       "      <th>6262a5889a79470b78c9ca307UKY2SSZTjCcjhwBzxw37w</th>\n",
       "      <td>560</td>\n",
       "      <td>0.000</td>\n",
       "      <td>0</td>\n",
       "      <td>22</td>\n",
       "      <td>4</td>\n",
       "      <td>13</td>\n",
       "      <td>4</td>\n",
       "      <td>0.001481</td>\n",
       "      <td>0.585325</td>\n",
       "      <td>0.112729</td>\n",
       "    </tr>\n",
       "    <tr>\n",
       "      <th>626678929a79477ca0101568wuMYES90REuV5YhrN75IXg</th>\n",
       "      <td>560</td>\n",
       "      <td>0.000</td>\n",
       "      <td>5</td>\n",
       "      <td>25</td>\n",
       "      <td>4</td>\n",
       "      <td>10</td>\n",
       "      <td>0</td>\n",
       "      <td>0.001200</td>\n",
       "      <td>0.590884</td>\n",
       "      <td>0.129350</td>\n",
       "    </tr>\n",
       "  </tbody>\n",
       "</table>\n",
       "</div>"
      ],
      "text/plain": [
       "                                                authors    ctr  category  day  \\\n",
       "document_id                                                                     \n",
       "624ac09c9a7947db3d80c98eIDE7mtH4RBqGn-8MXfGffQ      560  1.580         2    4   \n",
       "620f6b899a7947701cf489e1KtVJsteHStO5oditt3Uvzw       38  1.853         0   18   \n",
       "620730cf9a7947ab96a44e27hk7puWJwSziw0m3sfTkKWA      560  0.000         0   12   \n",
       "6262a5889a79470b78c9ca307UKY2SSZTjCcjhwBzxw37w      560  0.000         0   22   \n",
       "626678929a79477ca0101568wuMYES90REuV5YhrN75IXg      560  0.000         5   25   \n",
       "\n",
       "                                                mounth  hour  weekday  \\\n",
       "document_id                                                             \n",
       "624ac09c9a7947db3d80c98eIDE7mtH4RBqGn-8MXfGffQ       4    10        0   \n",
       "620f6b899a7947701cf489e1KtVJsteHStO5oditt3Uvzw       2    10        4   \n",
       "620730cf9a7947ab96a44e27hk7puWJwSziw0m3sfTkKWA       2     4        5   \n",
       "6262a5889a79470b78c9ca307UKY2SSZTjCcjhwBzxw37w       4    13        4   \n",
       "626678929a79477ca0101568wuMYES90REuV5YhrN75IXg       4    10        0   \n",
       "\n",
       "                                                   v_max     d_max     r_max  \n",
       "document_id                                                                   \n",
       "624ac09c9a7947db3d80c98eIDE7mtH4RBqGn-8MXfGffQ  0.008010  0.630350  0.133957  \n",
       "620f6b899a7947701cf489e1KtVJsteHStO5oditt3Uvzw  0.007454  0.634797  0.143317  \n",
       "620730cf9a7947ab96a44e27hk7puWJwSziw0m3sfTkKWA  0.020026  0.658699  0.136102  \n",
       "6262a5889a79470b78c9ca307UKY2SSZTjCcjhwBzxw37w  0.001481  0.585325  0.112729  \n",
       "626678929a79477ca0101568wuMYES90REuV5YhrN75IXg  0.001200  0.590884  0.129350  "
      ]
     },
     "execution_count": 215,
     "metadata": {},
     "output_type": "execute_result"
    }
   ],
   "source": [
    "X.head()"
   ]
  },
  {
   "cell_type": "code",
   "execution_count": 216,
   "metadata": {
    "id": "HZC1QLKs2Gjb"
   },
   "outputs": [],
   "source": [
    "X_train, X_test, y_train, y_test = train_test_split(X, y, test_size=0.3, random_state=42)"
   ]
  },
  {
   "cell_type": "markdown",
   "metadata": {
    "id": "aatiawbb2woH"
   },
   "source": [
    "## Подбор модели"
   ]
  },
  {
   "cell_type": "code",
   "execution_count": 217,
   "metadata": {},
   "outputs": [],
   "source": [
    "def ModelCreation(X, Y):\n",
    "    model = RandomForestRegressor(random_state=0)\n",
    "    model.fit(X, Y)\n",
    "    return model"
   ]
  },
  {
   "cell_type": "code",
   "execution_count": 218,
   "metadata": {
    "colab": {
     "base_uri": "https://localhost:8080/"
    },
    "id": "rb7oNSzT3Nrd",
    "outputId": "8016cacc-0a1c-49d0-d4f4-8c0b9cda3374"
   },
   "outputs": [],
   "source": [
    "regr = ModelCreation(X_train, y_train)"
   ]
  },
  {
   "cell_type": "code",
   "execution_count": 251,
   "metadata": {},
   "outputs": [],
   "source": [
    "pred = regr.predict(X)\n",
    "df_train['views_p'], df_train['depth_p'], df_train['reads_p'] = pred[:,0], pred[:,1], pred[:,2]"
   ]
  },
  {
   "cell_type": "markdown",
   "metadata": {
    "id": "gzQh5CPA4TF1"
   },
   "source": [
    "Предскажем значения"
   ]
  },
  {
   "cell_type": "code",
   "execution_count": 249,
   "metadata": {
    "id": "xwqb5Ed02GnX"
   },
   "outputs": [],
   "source": [
    "pred = regr.predict(X_test)\n",
    "score_views = r2_score(y_test[\"views\"], pred[:,0])\n",
    "score_depth = r2_score(y_test[\"depth\"], pred[:,1])\n",
    "score_frp = r2_score(y_test[\"full_reads_percent\"], pred[:,2])"
   ]
  },
  {
   "cell_type": "code",
   "execution_count": 250,
   "metadata": {},
   "outputs": [
    {
     "data": {
      "text/plain": [
       "0.5989384819946123"
      ]
     },
     "execution_count": 250,
     "metadata": {},
     "output_type": "execute_result"
    }
   ],
   "source": [
    "score = 0.4 * score_views + 0.3 * score_depth + 0.3 * score_frp\n",
    "\n",
    "score"
   ]
  },
  {
   "cell_type": "markdown",
   "metadata": {
    "id": "V2lh7BHR3iha"
   },
   "source": [
    "## Оценка точности"
   ]
  },
  {
   "cell_type": "code",
   "execution_count": 185,
   "metadata": {},
   "outputs": [],
   "source": [
    "regr = ModelCreation(X, y)"
   ]
  },
  {
   "cell_type": "code",
   "execution_count": 186,
   "metadata": {},
   "outputs": [],
   "source": [
    "df_test = pd.read_csv(\"./content/test.csv\", index_col= 0)"
   ]
  },
  {
   "cell_type": "code",
   "execution_count": 187,
   "metadata": {},
   "outputs": [],
   "source": [
    "df_test = AddFitch(df_test)\n",
    "# X_test = XSplit(df_test)\n",
    "X_test = df_test.drop([\"title\",\"publish_date\", \"session\", \"tags\"], axis = 1)\n",
    "pred = regr.predict(X_test)"
   ]
  },
  {
   "cell_type": "code",
   "execution_count": 188,
   "metadata": {},
   "outputs": [],
   "source": [
    "submission = pd.DataFrame()\n",
    "submission['views'] = pred[:,0]\n",
    "submission['depth'] = pred[:,1]\n",
    "submission['full_reads_percent'] = pred[:,2]\n",
    "submission.index = df_test.index\n",
    "\n",
    "submission.to_csv('submission.csv')"
   ]
  },
  {
   "cell_type": "code",
   "execution_count": 189,
   "metadata": {},
   "outputs": [
    {
     "data": {
      "text/html": [
       "<div>\n",
       "<style scoped>\n",
       "    .dataframe tbody tr th:only-of-type {\n",
       "        vertical-align: middle;\n",
       "    }\n",
       "\n",
       "    .dataframe tbody tr th {\n",
       "        vertical-align: top;\n",
       "    }\n",
       "\n",
       "    .dataframe thead th {\n",
       "        text-align: right;\n",
       "    }\n",
       "</style>\n",
       "<table border=\"1\" class=\"dataframe\">\n",
       "  <thead>\n",
       "    <tr style=\"text-align: right;\">\n",
       "      <th></th>\n",
       "      <th>views</th>\n",
       "      <th>depth</th>\n",
       "      <th>full_reads_percent</th>\n",
       "    </tr>\n",
       "    <tr>\n",
       "      <th>document_id</th>\n",
       "      <th></th>\n",
       "      <th></th>\n",
       "      <th></th>\n",
       "    </tr>\n",
       "  </thead>\n",
       "  <tbody>\n",
       "    <tr>\n",
       "      <th>61f9569a9a794794245a82abJ0AvX96vTAaQCiWVbzoMdw</th>\n",
       "      <td>16953.341167</td>\n",
       "      <td>1.173984</td>\n",
       "      <td>40.332758</td>\n",
       "    </tr>\n",
       "    <tr>\n",
       "      <th>628c22b89a79470e553f594bQS5CqzXYRnmDdR2LaSreEw</th>\n",
       "      <td>14185.550000</td>\n",
       "      <td>1.055250</td>\n",
       "      <td>32.562330</td>\n",
       "    </tr>\n",
       "    <tr>\n",
       "      <th>627cb3249a7947ebdd752865XVsoyrUOT8OJJg2_finJhw</th>\n",
       "      <td>11110.210000</td>\n",
       "      <td>1.065850</td>\n",
       "      <td>30.788830</td>\n",
       "    </tr>\n",
       "    <tr>\n",
       "      <th>628618629a7947d4927eb812upfii3whSSuMXCqcqF8VbQ</th>\n",
       "      <td>7868.918000</td>\n",
       "      <td>1.066882</td>\n",
       "      <td>30.035280</td>\n",
       "    </tr>\n",
       "    <tr>\n",
       "      <th>620e76109a7947235623695b5hzCiIHdSYKQIr8WAM18bw</th>\n",
       "      <td>170829.290000</td>\n",
       "      <td>1.143120</td>\n",
       "      <td>36.005080</td>\n",
       "    </tr>\n",
       "    <tr>\n",
       "      <th>...</th>\n",
       "      <td>...</td>\n",
       "      <td>...</td>\n",
       "      <td>...</td>\n",
       "    </tr>\n",
       "    <tr>\n",
       "      <th>623ba6bc9a79470214cb9418x4OZQ1IjTb27nPAgv5wAZg</th>\n",
       "      <td>42720.750000</td>\n",
       "      <td>1.148430</td>\n",
       "      <td>33.826770</td>\n",
       "    </tr>\n",
       "    <tr>\n",
       "      <th>624fda1f9a79471a9bd102eetuRTrLPGSZyNbc9_YcBAeQ</th>\n",
       "      <td>56034.670000</td>\n",
       "      <td>1.135110</td>\n",
       "      <td>28.959050</td>\n",
       "    </tr>\n",
       "    <tr>\n",
       "      <th>6257a6a99a79477eea75b86dtBr3UG9ORW-gOybkVKX6ww</th>\n",
       "      <td>12984.260000</td>\n",
       "      <td>1.068410</td>\n",
       "      <td>34.947530</td>\n",
       "    </tr>\n",
       "    <tr>\n",
       "      <th>624866d59a7947421716ab46WsGDKyGjTJGRh14eR7UVvw</th>\n",
       "      <td>18957.070000</td>\n",
       "      <td>1.147860</td>\n",
       "      <td>40.058200</td>\n",
       "    </tr>\n",
       "    <tr>\n",
       "      <th>6236f9129a79477b0ef18ae0ewByZQ1FQBK2dpXyY77rYw</th>\n",
       "      <td>21841.247667</td>\n",
       "      <td>1.157921</td>\n",
       "      <td>37.185049</td>\n",
       "    </tr>\n",
       "  </tbody>\n",
       "</table>\n",
       "<p>3000 rows × 3 columns</p>\n",
       "</div>"
      ],
      "text/plain": [
       "                                                        views     depth  \\\n",
       "document_id                                                               \n",
       "61f9569a9a794794245a82abJ0AvX96vTAaQCiWVbzoMdw   16953.341167  1.173984   \n",
       "628c22b89a79470e553f594bQS5CqzXYRnmDdR2LaSreEw   14185.550000  1.055250   \n",
       "627cb3249a7947ebdd752865XVsoyrUOT8OJJg2_finJhw   11110.210000  1.065850   \n",
       "628618629a7947d4927eb812upfii3whSSuMXCqcqF8VbQ    7868.918000  1.066882   \n",
       "620e76109a7947235623695b5hzCiIHdSYKQIr8WAM18bw  170829.290000  1.143120   \n",
       "...                                                       ...       ...   \n",
       "623ba6bc9a79470214cb9418x4OZQ1IjTb27nPAgv5wAZg   42720.750000  1.148430   \n",
       "624fda1f9a79471a9bd102eetuRTrLPGSZyNbc9_YcBAeQ   56034.670000  1.135110   \n",
       "6257a6a99a79477eea75b86dtBr3UG9ORW-gOybkVKX6ww   12984.260000  1.068410   \n",
       "624866d59a7947421716ab46WsGDKyGjTJGRh14eR7UVvw   18957.070000  1.147860   \n",
       "6236f9129a79477b0ef18ae0ewByZQ1FQBK2dpXyY77rYw   21841.247667  1.157921   \n",
       "\n",
       "                                                full_reads_percent  \n",
       "document_id                                                         \n",
       "61f9569a9a794794245a82abJ0AvX96vTAaQCiWVbzoMdw           40.332758  \n",
       "628c22b89a79470e553f594bQS5CqzXYRnmDdR2LaSreEw           32.562330  \n",
       "627cb3249a7947ebdd752865XVsoyrUOT8OJJg2_finJhw           30.788830  \n",
       "628618629a7947d4927eb812upfii3whSSuMXCqcqF8VbQ           30.035280  \n",
       "620e76109a7947235623695b5hzCiIHdSYKQIr8WAM18bw           36.005080  \n",
       "...                                                            ...  \n",
       "623ba6bc9a79470214cb9418x4OZQ1IjTb27nPAgv5wAZg           33.826770  \n",
       "624fda1f9a79471a9bd102eetuRTrLPGSZyNbc9_YcBAeQ           28.959050  \n",
       "6257a6a99a79477eea75b86dtBr3UG9ORW-gOybkVKX6ww           34.947530  \n",
       "624866d59a7947421716ab46WsGDKyGjTJGRh14eR7UVvw           40.058200  \n",
       "6236f9129a79477b0ef18ae0ewByZQ1FQBK2dpXyY77rYw           37.185049  \n",
       "\n",
       "[3000 rows x 3 columns]"
      ]
     },
     "execution_count": 189,
     "metadata": {},
     "output_type": "execute_result"
    }
   ],
   "source": [
    "submission"
   ]
  },
  {
   "cell_type": "code",
   "execution_count": 122,
   "metadata": {},
   "outputs": [
    {
     "data": {
      "text/html": [
       "<div>\n",
       "<style scoped>\n",
       "    .dataframe tbody tr th:only-of-type {\n",
       "        vertical-align: middle;\n",
       "    }\n",
       "\n",
       "    .dataframe tbody tr th {\n",
       "        vertical-align: top;\n",
       "    }\n",
       "\n",
       "    .dataframe thead th {\n",
       "        text-align: right;\n",
       "    }\n",
       "</style>\n",
       "<table border=\"1\" class=\"dataframe\">\n",
       "  <thead>\n",
       "    <tr style=\"text-align: right;\">\n",
       "      <th></th>\n",
       "      <th>title</th>\n",
       "      <th>publish_date</th>\n",
       "      <th>session</th>\n",
       "      <th>authors</th>\n",
       "      <th>ctr</th>\n",
       "      <th>category</th>\n",
       "      <th>tags</th>\n",
       "      <th>day</th>\n",
       "      <th>mounth</th>\n",
       "      <th>hour</th>\n",
       "      <th>weekday</th>\n",
       "    </tr>\n",
       "    <tr>\n",
       "      <th>document_id</th>\n",
       "      <th></th>\n",
       "      <th></th>\n",
       "      <th></th>\n",
       "      <th></th>\n",
       "      <th></th>\n",
       "      <th></th>\n",
       "      <th></th>\n",
       "      <th></th>\n",
       "      <th></th>\n",
       "      <th></th>\n",
       "      <th></th>\n",
       "    </tr>\n",
       "  </thead>\n",
       "  <tbody>\n",
       "    <tr>\n",
       "      <th>61f9569a9a794794245a82abJ0AvX96vTAaQCiWVbzoMdw</th>\n",
       "      <td>«Крайне провокационная тема»: как Россия и США...</td>\n",
       "      <td>2022-02-01 17:02:44</td>\n",
       "      <td>J0AvX96vTAaQCiWVbzoMdw</td>\n",
       "      <td>325</td>\n",
       "      <td>0.000</td>\n",
       "      <td>0</td>\n",
       "      <td>['58ca77679a794700b1e37f0a', '5409f1b7e063daa0...</td>\n",
       "      <td>1</td>\n",
       "      <td>2</td>\n",
       "      <td>17</td>\n",
       "      <td>1</td>\n",
       "    </tr>\n",
       "    <tr>\n",
       "      <th>628c22b89a79470e553f594bQS5CqzXYRnmDdR2LaSreEw</th>\n",
       "      <td>Власти Херсонской области пообещали сделать ру...</td>\n",
       "      <td>2022-05-24 00:50:55</td>\n",
       "      <td>QS5CqzXYRnmDdR2LaSreEw</td>\n",
       "      <td>325</td>\n",
       "      <td>1.598</td>\n",
       "      <td>0</td>\n",
       "      <td>['5433603acbb20f6e5def0cc5', '5409f420e063daa0...</td>\n",
       "      <td>24</td>\n",
       "      <td>5</td>\n",
       "      <td>0</td>\n",
       "      <td>1</td>\n",
       "    </tr>\n",
       "    <tr>\n",
       "      <th>627cb3249a7947ebdd752865XVsoyrUOT8OJJg2_finJhw</th>\n",
       "      <td>Премьер и президент Финляндии призвали срочно ...</td>\n",
       "      <td>2022-05-12 07:11:51</td>\n",
       "      <td>XVsoyrUOT8OJJg2_finJhw</td>\n",
       "      <td>325</td>\n",
       "      <td>2.006</td>\n",
       "      <td>0</td>\n",
       "      <td>['5409f270e063daa0f408b0a7', '5409f196e063daa0...</td>\n",
       "      <td>12</td>\n",
       "      <td>5</td>\n",
       "      <td>7</td>\n",
       "      <td>3</td>\n",
       "    </tr>\n",
       "    <tr>\n",
       "      <th>628618629a7947d4927eb812upfii3whSSuMXCqcqF8VbQ</th>\n",
       "      <td>В Госдуму внесли проект о временных администра...</td>\n",
       "      <td>2022-05-19 11:54:35</td>\n",
       "      <td>upfii3whSSuMXCqcqF8VbQ</td>\n",
       "      <td>325</td>\n",
       "      <td>0.000</td>\n",
       "      <td>0</td>\n",
       "      <td>['5409f145e063daa0f408ad35', '5409f30fe063daa0...</td>\n",
       "      <td>19</td>\n",
       "      <td>5</td>\n",
       "      <td>11</td>\n",
       "      <td>3</td>\n",
       "    </tr>\n",
       "    <tr>\n",
       "      <th>620e76109a7947235623695b5hzCiIHdSYKQIr8WAM18bw</th>\n",
       "      <td>Блинкен заявил в ООН о готовности России начат...</td>\n",
       "      <td>2022-02-17 16:28:55</td>\n",
       "      <td>5hzCiIHdSYKQIr8WAM18bw</td>\n",
       "      <td>217</td>\n",
       "      <td>9.136</td>\n",
       "      <td>0</td>\n",
       "      <td>['5409f15de063daa0f408ada8', '545d4dcdcbb20fbc...</td>\n",
       "      <td>17</td>\n",
       "      <td>2</td>\n",
       "      <td>16</td>\n",
       "      <td>3</td>\n",
       "    </tr>\n",
       "    <tr>\n",
       "      <th>...</th>\n",
       "      <td>...</td>\n",
       "      <td>...</td>\n",
       "      <td>...</td>\n",
       "      <td>...</td>\n",
       "      <td>...</td>\n",
       "      <td>...</td>\n",
       "      <td>...</td>\n",
       "      <td>...</td>\n",
       "      <td>...</td>\n",
       "      <td>...</td>\n",
       "      <td>...</td>\n",
       "    </tr>\n",
       "    <tr>\n",
       "      <th>623ba6bc9a79470214cb9418x4OZQ1IjTb27nPAgv5wAZg</th>\n",
       "      <td>Суд не стал публиковать решение о запрете Face...</td>\n",
       "      <td>2022-03-23 23:28:34</td>\n",
       "      <td>x4OZQ1IjTb27nPAgv5wAZg</td>\n",
       "      <td>164</td>\n",
       "      <td>1.788</td>\n",
       "      <td>4</td>\n",
       "      <td>['5409f289e063daa0f408b0da', '54289bd7cbb20f85...</td>\n",
       "      <td>23</td>\n",
       "      <td>3</td>\n",
       "      <td>23</td>\n",
       "      <td>2</td>\n",
       "    </tr>\n",
       "    <tr>\n",
       "      <th>624fda1f9a79471a9bd102eetuRTrLPGSZyNbc9_YcBAeQ</th>\n",
       "      <td>ИT-компания EPAM объявила об уходе из России</td>\n",
       "      <td>2022-04-08 08:07:17</td>\n",
       "      <td>tuRTrLPGSZyNbc9_YcBAeQ</td>\n",
       "      <td>188</td>\n",
       "      <td>4.427</td>\n",
       "      <td>3</td>\n",
       "      <td>['546240cdcbb20f8a5c90571b', '5409f3e8e063daa0...</td>\n",
       "      <td>8</td>\n",
       "      <td>4</td>\n",
       "      <td>8</td>\n",
       "      <td>4</td>\n",
       "    </tr>\n",
       "    <tr>\n",
       "      <th>6257a6a99a79477eea75b86dtBr3UG9ORW-gOybkVKX6ww</th>\n",
       "      <td>МИД сообщил о желании стран ЕАЭС отказаться от...</td>\n",
       "      <td>2022-04-14 05:18:59</td>\n",
       "      <td>tBr3UG9ORW-gOybkVKX6ww</td>\n",
       "      <td>325</td>\n",
       "      <td>0.000</td>\n",
       "      <td>1</td>\n",
       "      <td>['5409f1a3e063daa0f408ae98', '5437f9eccbb20f61...</td>\n",
       "      <td>14</td>\n",
       "      <td>4</td>\n",
       "      <td>5</td>\n",
       "      <td>3</td>\n",
       "    </tr>\n",
       "    <tr>\n",
       "      <th>624866d59a7947421716ab46WsGDKyGjTJGRh14eR7UVvw</th>\n",
       "      <td>Wikileaks сообщила дату заседания суда по экст...</td>\n",
       "      <td>2022-04-02 15:59:06</td>\n",
       "      <td>WsGDKyGjTJGRh14eR7UVvw</td>\n",
       "      <td>325</td>\n",
       "      <td>0.000</td>\n",
       "      <td>5</td>\n",
       "      <td>['54b3fc039a794779915a6c71', '559691229a79471c...</td>\n",
       "      <td>2</td>\n",
       "      <td>4</td>\n",
       "      <td>15</td>\n",
       "      <td>5</td>\n",
       "    </tr>\n",
       "    <tr>\n",
       "      <th>6236f9129a79477b0ef18ae0ewByZQ1FQBK2dpXyY77rYw</th>\n",
       "      <td>Захарова посоветовала немцам меньше дышать для...</td>\n",
       "      <td>2022-03-20 10:33:05</td>\n",
       "      <td>ewByZQ1FQBK2dpXyY77rYw</td>\n",
       "      <td>325</td>\n",
       "      <td>0.000</td>\n",
       "      <td>0</td>\n",
       "      <td>['556e926a9a794721a7851f18', '559d63ac9a794712...</td>\n",
       "      <td>20</td>\n",
       "      <td>3</td>\n",
       "      <td>10</td>\n",
       "      <td>6</td>\n",
       "    </tr>\n",
       "  </tbody>\n",
       "</table>\n",
       "<p>3000 rows × 11 columns</p>\n",
       "</div>"
      ],
      "text/plain": [
       "                                                                                            title  \\\n",
       "document_id                                                                                         \n",
       "61f9569a9a794794245a82abJ0AvX96vTAaQCiWVbzoMdw  «Крайне провокационная тема»: как Россия и США...   \n",
       "628c22b89a79470e553f594bQS5CqzXYRnmDdR2LaSreEw  Власти Херсонской области пообещали сделать ру...   \n",
       "627cb3249a7947ebdd752865XVsoyrUOT8OJJg2_finJhw  Премьер и президент Финляндии призвали срочно ...   \n",
       "628618629a7947d4927eb812upfii3whSSuMXCqcqF8VbQ  В Госдуму внесли проект о временных администра...   \n",
       "620e76109a7947235623695b5hzCiIHdSYKQIr8WAM18bw  Блинкен заявил в ООН о готовности России начат...   \n",
       "...                                                                                           ...   \n",
       "623ba6bc9a79470214cb9418x4OZQ1IjTb27nPAgv5wAZg  Суд не стал публиковать решение о запрете Face...   \n",
       "624fda1f9a79471a9bd102eetuRTrLPGSZyNbc9_YcBAeQ       ИT-компания EPAM объявила об уходе из России   \n",
       "6257a6a99a79477eea75b86dtBr3UG9ORW-gOybkVKX6ww  МИД сообщил о желании стран ЕАЭС отказаться от...   \n",
       "624866d59a7947421716ab46WsGDKyGjTJGRh14eR7UVvw  Wikileaks сообщила дату заседания суда по экст...   \n",
       "6236f9129a79477b0ef18ae0ewByZQ1FQBK2dpXyY77rYw  Захарова посоветовала немцам меньше дышать для...   \n",
       "\n",
       "                                                      publish_date  \\\n",
       "document_id                                                          \n",
       "61f9569a9a794794245a82abJ0AvX96vTAaQCiWVbzoMdw 2022-02-01 17:02:44   \n",
       "628c22b89a79470e553f594bQS5CqzXYRnmDdR2LaSreEw 2022-05-24 00:50:55   \n",
       "627cb3249a7947ebdd752865XVsoyrUOT8OJJg2_finJhw 2022-05-12 07:11:51   \n",
       "628618629a7947d4927eb812upfii3whSSuMXCqcqF8VbQ 2022-05-19 11:54:35   \n",
       "620e76109a7947235623695b5hzCiIHdSYKQIr8WAM18bw 2022-02-17 16:28:55   \n",
       "...                                                            ...   \n",
       "623ba6bc9a79470214cb9418x4OZQ1IjTb27nPAgv5wAZg 2022-03-23 23:28:34   \n",
       "624fda1f9a79471a9bd102eetuRTrLPGSZyNbc9_YcBAeQ 2022-04-08 08:07:17   \n",
       "6257a6a99a79477eea75b86dtBr3UG9ORW-gOybkVKX6ww 2022-04-14 05:18:59   \n",
       "624866d59a7947421716ab46WsGDKyGjTJGRh14eR7UVvw 2022-04-02 15:59:06   \n",
       "6236f9129a79477b0ef18ae0ewByZQ1FQBK2dpXyY77rYw 2022-03-20 10:33:05   \n",
       "\n",
       "                                                               session  \\\n",
       "document_id                                                              \n",
       "61f9569a9a794794245a82abJ0AvX96vTAaQCiWVbzoMdw  J0AvX96vTAaQCiWVbzoMdw   \n",
       "628c22b89a79470e553f594bQS5CqzXYRnmDdR2LaSreEw  QS5CqzXYRnmDdR2LaSreEw   \n",
       "627cb3249a7947ebdd752865XVsoyrUOT8OJJg2_finJhw  XVsoyrUOT8OJJg2_finJhw   \n",
       "628618629a7947d4927eb812upfii3whSSuMXCqcqF8VbQ  upfii3whSSuMXCqcqF8VbQ   \n",
       "620e76109a7947235623695b5hzCiIHdSYKQIr8WAM18bw  5hzCiIHdSYKQIr8WAM18bw   \n",
       "...                                                                ...   \n",
       "623ba6bc9a79470214cb9418x4OZQ1IjTb27nPAgv5wAZg  x4OZQ1IjTb27nPAgv5wAZg   \n",
       "624fda1f9a79471a9bd102eetuRTrLPGSZyNbc9_YcBAeQ  tuRTrLPGSZyNbc9_YcBAeQ   \n",
       "6257a6a99a79477eea75b86dtBr3UG9ORW-gOybkVKX6ww  tBr3UG9ORW-gOybkVKX6ww   \n",
       "624866d59a7947421716ab46WsGDKyGjTJGRh14eR7UVvw  WsGDKyGjTJGRh14eR7UVvw   \n",
       "6236f9129a79477b0ef18ae0ewByZQ1FQBK2dpXyY77rYw  ewByZQ1FQBK2dpXyY77rYw   \n",
       "\n",
       "                                                authors    ctr  category  \\\n",
       "document_id                                                                \n",
       "61f9569a9a794794245a82abJ0AvX96vTAaQCiWVbzoMdw      325  0.000         0   \n",
       "628c22b89a79470e553f594bQS5CqzXYRnmDdR2LaSreEw      325  1.598         0   \n",
       "627cb3249a7947ebdd752865XVsoyrUOT8OJJg2_finJhw      325  2.006         0   \n",
       "628618629a7947d4927eb812upfii3whSSuMXCqcqF8VbQ      325  0.000         0   \n",
       "620e76109a7947235623695b5hzCiIHdSYKQIr8WAM18bw      217  9.136         0   \n",
       "...                                                 ...    ...       ...   \n",
       "623ba6bc9a79470214cb9418x4OZQ1IjTb27nPAgv5wAZg      164  1.788         4   \n",
       "624fda1f9a79471a9bd102eetuRTrLPGSZyNbc9_YcBAeQ      188  4.427         3   \n",
       "6257a6a99a79477eea75b86dtBr3UG9ORW-gOybkVKX6ww      325  0.000         1   \n",
       "624866d59a7947421716ab46WsGDKyGjTJGRh14eR7UVvw      325  0.000         5   \n",
       "6236f9129a79477b0ef18ae0ewByZQ1FQBK2dpXyY77rYw      325  0.000         0   \n",
       "\n",
       "                                                                                             tags  \\\n",
       "document_id                                                                                         \n",
       "61f9569a9a794794245a82abJ0AvX96vTAaQCiWVbzoMdw  ['58ca77679a794700b1e37f0a', '5409f1b7e063daa0...   \n",
       "628c22b89a79470e553f594bQS5CqzXYRnmDdR2LaSreEw  ['5433603acbb20f6e5def0cc5', '5409f420e063daa0...   \n",
       "627cb3249a7947ebdd752865XVsoyrUOT8OJJg2_finJhw  ['5409f270e063daa0f408b0a7', '5409f196e063daa0...   \n",
       "628618629a7947d4927eb812upfii3whSSuMXCqcqF8VbQ  ['5409f145e063daa0f408ad35', '5409f30fe063daa0...   \n",
       "620e76109a7947235623695b5hzCiIHdSYKQIr8WAM18bw  ['5409f15de063daa0f408ada8', '545d4dcdcbb20fbc...   \n",
       "...                                                                                           ...   \n",
       "623ba6bc9a79470214cb9418x4OZQ1IjTb27nPAgv5wAZg  ['5409f289e063daa0f408b0da', '54289bd7cbb20f85...   \n",
       "624fda1f9a79471a9bd102eetuRTrLPGSZyNbc9_YcBAeQ  ['546240cdcbb20f8a5c90571b', '5409f3e8e063daa0...   \n",
       "6257a6a99a79477eea75b86dtBr3UG9ORW-gOybkVKX6ww  ['5409f1a3e063daa0f408ae98', '5437f9eccbb20f61...   \n",
       "624866d59a7947421716ab46WsGDKyGjTJGRh14eR7UVvw  ['54b3fc039a794779915a6c71', '559691229a79471c...   \n",
       "6236f9129a79477b0ef18ae0ewByZQ1FQBK2dpXyY77rYw  ['556e926a9a794721a7851f18', '559d63ac9a794712...   \n",
       "\n",
       "                                                day  mounth  hour  weekday  \n",
       "document_id                                                                 \n",
       "61f9569a9a794794245a82abJ0AvX96vTAaQCiWVbzoMdw    1       2    17        1  \n",
       "628c22b89a79470e553f594bQS5CqzXYRnmDdR2LaSreEw   24       5     0        1  \n",
       "627cb3249a7947ebdd752865XVsoyrUOT8OJJg2_finJhw   12       5     7        3  \n",
       "628618629a7947d4927eb812upfii3whSSuMXCqcqF8VbQ   19       5    11        3  \n",
       "620e76109a7947235623695b5hzCiIHdSYKQIr8WAM18bw   17       2    16        3  \n",
       "...                                             ...     ...   ...      ...  \n",
       "623ba6bc9a79470214cb9418x4OZQ1IjTb27nPAgv5wAZg   23       3    23        2  \n",
       "624fda1f9a79471a9bd102eetuRTrLPGSZyNbc9_YcBAeQ    8       4     8        4  \n",
       "6257a6a99a79477eea75b86dtBr3UG9ORW-gOybkVKX6ww   14       4     5        3  \n",
       "624866d59a7947421716ab46WsGDKyGjTJGRh14eR7UVvw    2       4    15        5  \n",
       "6236f9129a79477b0ef18ae0ewByZQ1FQBK2dpXyY77rYw   20       3    10        6  \n",
       "\n",
       "[3000 rows x 11 columns]"
      ]
     },
     "execution_count": 122,
     "metadata": {},
     "output_type": "execute_result"
    }
   ],
   "source": [
    "df_test"
   ]
  }
 ],
 "metadata": {
  "colab": {
   "name": "RBK_baseline.ipynb",
   "provenance": [],
   "toc_visible": true
  },
  "kernelspec": {
   "display_name": "Python 3 (ipykernel)",
   "language": "python",
   "name": "python3"
  },
  "language_info": {
   "codemirror_mode": {
    "name": "ipython",
    "version": 3
   },
   "file_extension": ".py",
   "mimetype": "text/x-python",
   "name": "python",
   "nbconvert_exporter": "python",
   "pygments_lexer": "ipython3",
   "version": "3.8.10"
  }
 },
 "nbformat": 4,
 "nbformat_minor": 1
}
